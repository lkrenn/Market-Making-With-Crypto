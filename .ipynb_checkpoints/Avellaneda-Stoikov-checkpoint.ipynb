{
 "cells": [
  {
   "cell_type": "markdown",
   "metadata": {},
   "source": [
    "# Market Making Strategy with Cryptocurrencies\n",
    "\n",
    "In this notebook, I will be implementing the market-making methodology outlined in Avellaneda and Stoikov's popular market making whitepaper titled High-Frequency Trading in a Limit Order Book. The paper can be found for free here: https://www.math.nyu.edu/~avellane/HighFrequencyTrading.pdf\n",
    "\n",
    "In the whitepaper, the optimal behaviour of a market maker given certain assumptions is derived. Ultimately, this derivation yields a bid/ask spread that is defined as follows:\n",
    "\n",
    "$$\n",
    "\\text{bid / ask spread} = \\gamma \\sigma ^2 (T - t) + \\frac{2}{\\gamma}\\ln\\left(1 + \\frac{\\gamma}{k}\\right)\n",
    "$$\n",
    "\n",
    "This spread is defined around a reservation price i.e. a price at which a market maker is indifferent between their current portfolio and their current portfolio + a new share. The reservation price is derived in the whitepaper as follows:\n",
    "\n",
    "$$\n",
    "\\text{reservation price} = s - q\\gamma\\sigma^2(T-t)\n",
    "$$\n",
    "\n",
    "The variables mentioned in the above definitions are as follows:\n",
    "\n",
    "* $s = S_t$ i.e. the per-unit price of an asset at time $t$\n",
    "* $T$, the terminus of the time series \n",
    "* $\\sigma$, the volatility of the asset \n",
    "* $q$, the number of assets held in inventory\n",
    "* $\\gamma$, a risk factor that is adjusted to meet the risk/return trade-off of the market maker\n",
    "* $x$, the initial capital of the market maker\n",
    "* $k$, the intensity of the arrival of orders\n",
    "\n",
    "\n",
    "# 0 - Implementation of the Paper\n",
    "\n",
    "Now that we have an idea of where to start, let us first implement the simulation that is done in the paper, and see if we can translate it directly to the crypo pairs that we picked earlier."
   ]
  },
  {
   "cell_type": "code",
   "execution_count": 1,
   "metadata": {},
   "outputs": [],
   "source": [
    "import numpy as np\n",
    "import pandas as pd\n",
    "import matplotlib.pyplot as plt\n",
    "import random"
   ]
  },
  {
   "cell_type": "code",
   "execution_count": 132,
   "metadata": {},
   "outputs": [],
   "source": [
    "# Create a brownian motion generator\n",
    "def brownian_motion(x0, n, dt, sigma):\n",
    "\n",
    "    # Generate normal random variables\n",
    "    r = np.random.normal(size = n, scale = sigma*np.sqrt(dt))\n",
    "\n",
    "    # Calculate cumulative sum of random variables\n",
    "    cumsum = np.cumsum(r)\n",
    "\n",
    "    # Add in initial conditions\n",
    "    cumsum += np.expand_dims(x0, axis=-1)\n",
    "    cumsum[0] = x0\n",
    "    \n",
    "    return cumsum"
   ]
  },
  {
   "cell_type": "code",
   "execution_count": 149,
   "metadata": {},
   "outputs": [],
   "source": [
    "# Initialize parameters\n",
    "s0 = 100\n",
    "T = 1\n",
    "sigma = 2\n",
    "dt = 0.005\n",
    "q0 = 0\n",
    "gamma = 0.1\n",
    "k = 1.5\n",
    "A = 140\n",
    "sim_length = 1000"
   ]
  },
  {
   "cell_type": "code",
   "execution_count": 158,
   "metadata": {},
   "outputs": [],
   "source": [
    "resdict = []\n",
    "N=200\n",
    "\n",
    "for sim in range(sim_length):\n",
    "    s = brownian_motion(s0, N+1, dt, sigma)\n",
    "    \n",
    "    # Initialize empty array for pnl\n",
    "    pnl = np.zeros(N+2)\n",
    "  \n",
    "    # Inventory\n",
    "    q = np.zeros(N+2)\n",
    "    \n",
    "    # Capital\n",
    "    x = np.zeros(N+2)\n",
    "\n",
    "    # Reserve price\n",
    "    r = np.zeros(N+1)\n",
    "\n",
    "    for i in range(len(s)):\n",
    "        r[i] = s[i] - q[i] * gamma * sigma**2 * (T-i*dt)\n",
    "\n",
    "        spread = gamma * sigma**2 * (T - i * dt) + (2 / gamma) * np.log(1 + (gamma / k))\n",
    "        \n",
    "        spread = spread / 2\n",
    "\n",
    "        # Adjust spreads for gap between reserve price\n",
    "        # and asset mid-price\n",
    "        gap = np.abs(r[i] - s[i])\n",
    "\n",
    "        if r[i] >= s[i]:\n",
    "            delta_a = spread + gap\n",
    "            delta_b = spread - gap    \n",
    "        else:\n",
    "            delta_a = spread - gap\n",
    "            delta_b = spread + gap\n",
    "\n",
    "        # Calculate our lambdas, (12)\n",
    "        lambda_a = A*np.exp(-k*delta_a) * dt\n",
    "        lambda_b = A*np.exp(-k*delta_b) * dt\n",
    "\n",
    "        # Restrict to domain of feasible probabilities\n",
    "        # i.e. [0,1]\n",
    "        prob_ask = max(0, min(lambda_a,1))\n",
    "        prob_bid = max(0, min(lambda_b,1))\n",
    "\n",
    "        # Determine whether or not we buy/sell according\n",
    "        # to the above probabilities\n",
    "        sell = np.random.choice([1,0], p=[prob_ask, 1-prob_ask])\n",
    "        buy  = np.random.choice([1,0], p=[prob_bid, 1-prob_bid])\n",
    "\n",
    "        # Adjust inventory to reflect transactions\n",
    "        q[i+1] = q[i] + buy - sell\n",
    "        \n",
    "        # Calculate new capital\n",
    "        x[i+1] = x[i] + sell*(s[i]+delta_a) - buy*(s[i]-delta_b)\n",
    "\n",
    "        # Calculate pnl of assets\n",
    "        pnl[i+1] = x[i+1] + q[i+1]*s[i]\n",
    "\n",
    "    resdict.append(pnl[-1])"
   ]
  },
  {
   "cell_type": "code",
   "execution_count": 159,
   "metadata": {},
   "outputs": [
    {
     "data": {
      "text/plain": [
       "65.32400091448501"
      ]
     },
     "execution_count": 159,
     "metadata": {},
     "output_type": "execute_result"
    }
   ],
   "source": [
    "np.mean(resdict)"
   ]
  },
  {
   "cell_type": "markdown",
   "metadata": {},
   "source": [
    "# 1 - Data\n",
    "\n",
    "To trade in a limit order book, we must first get order book data. Kraken makes it very easy to download .csv files of their historical order book data, and also provide a REST API. Since there are limitations to the data that can be downloaded via the API, we will first work with the .csv files and if time permits, create an algorithm that extracts the data that we want. \n",
    "\n",
    "We will look at two crypto/USD pairs, namely Ethereum/Ether (ETH) and Covalent (CQT). The data for each pair has already been downloaded, so we can"
   ]
  },
  {
   "cell_type": "code",
   "execution_count": 70,
   "metadata": {},
   "outputs": [
    {
     "data": {
      "text/plain": [
       "array([0.55569851, 0.60624622, 0.60624622, 0.60624622, 0.55569851,\n",
       "       0.55569851, 0.55569851, 0.54067221, 0.55569851, 0.54067221,\n",
       "       0.54067221, 0.54067221, 0.54067221, 0.54067221, 0.55569851,\n",
       "       0.60624622, 0.55569851, 0.55569851, 0.55569851, 0.54067221,\n",
       "       0.54067221, 0.55569851, 0.55569851, 0.60624622, 0.60624622,\n",
       "       0.60624622, 0.55569851, 0.54067221, 0.54067221, 0.55569851,\n",
       "       0.54067221, 0.55569851, 0.54067221, 0.54067221, 0.54067221,\n",
       "       0.55569851, 0.55569851, 0.55569851, 0.60624622, 0.55569851,\n",
       "       0.60624622, 0.55569851, 0.55569851, 0.54067221, 0.55569851,\n",
       "       0.54067221, 0.54067221, 0.55569851, 0.55569851, 0.60624622,\n",
       "       0.55569851, 0.54067221, 0.55569851, 0.60624622, 0.55569851,\n",
       "       0.55569851, 0.60624622, 0.55569851, 0.60624622, 0.55569851,\n",
       "       0.55569851, 0.55569851, 0.55569851, 0.54067221, 0.55569851,\n",
       "       0.60624622, 0.55569851, 0.54067221, 0.54067221, 0.55569851,\n",
       "       0.60624622, 0.60624622, 0.55569851, 0.55569851, 0.54067221,\n",
       "       0.55569851, 0.55569851, 0.55569851, 0.55569851, 0.54067221,\n",
       "       0.55569851, 0.55569851, 0.60624622, 0.55569851, 0.60624622,\n",
       "       0.55569851, 0.60624622, 0.55569851, 0.55569851, 0.60624622,\n",
       "       0.55569851, 0.60624622, 0.55569851, 0.55569851, 0.60624622,\n",
       "       0.60624622, 0.60624622, 0.55569851, 0.54067221, 0.55569851,\n",
       "       0.55569851, 0.55569851, 0.60624622, 0.60624622, 0.55569851,\n",
       "       0.54067221, 0.55569851, 0.55569851, 0.54067221, 0.54067221,\n",
       "       0.55569851, 0.54067221, 0.55569851, 0.54067221, 0.55569851,\n",
       "       0.55569851, 0.55569851, 0.55569851, 0.55569851, 0.54067221,\n",
       "       0.55569851, 0.60624622, 0.55569851, 0.60624622, 0.55569851,\n",
       "       0.55569851, 0.54067221, 0.54067221, 0.55569851, 0.54067221,\n",
       "       0.54067221, 0.55569851, 0.55569851, 0.55569851, 0.60624622,\n",
       "       0.55569851, 0.55569851, 0.60624622, 0.55569851, 0.54067221,\n",
       "       0.54067221, 0.55569851, 0.54067221, 0.54067221, 0.55569851,\n",
       "       0.55569851, 0.55569851, 0.60624622, 0.55569851, 0.55569851,\n",
       "       0.54067221, 0.54067221, 0.54067221, 0.54067221, 0.55569851,\n",
       "       0.60624622, 0.55569851, 0.60624622, 0.55569851, 0.54067221,\n",
       "       0.54067221, 0.55569851, 0.60624622, 0.55569851, 0.55569851,\n",
       "       0.55569851, 0.54067221, 0.55569851, 0.60624622, 0.55569851,\n",
       "       0.55569851, 0.60624622, 0.55569851, 0.55569851, 0.55569851,\n",
       "       0.54067221, 0.55569851, 0.55569851, 0.54067221, 0.54067221,\n",
       "       0.54067221, 0.54067221, 0.55569851, 0.55569851, 0.54067221,\n",
       "       0.54067221, 0.55569851, 0.55569851, 0.54067221, 0.54067221,\n",
       "       0.55569851, 0.54067221, 0.55569851, 0.55569851, 0.55569851,\n",
       "       0.55569851, 0.55569851, 0.60624622, 0.55569851, 0.55569851])"
      ]
     },
     "execution_count": 70,
     "metadata": {},
     "output_type": "execute_result"
    }
   ],
   "source": [
    "r_a - r_b"
   ]
  },
  {
   "cell_type": "code",
   "execution_count": null,
   "metadata": {},
   "outputs": [],
   "source": [
    "# Front of line big assumption"
   ]
  }
 ],
 "metadata": {
  "kernelspec": {
   "display_name": "Python 3",
   "language": "python",
   "name": "python3"
  },
  "language_info": {
   "codemirror_mode": {
    "name": "ipython",
    "version": 3
   },
   "file_extension": ".py",
   "mimetype": "text/x-python",
   "name": "python",
   "nbconvert_exporter": "python",
   "pygments_lexer": "ipython3",
   "version": "3.7.4"
  }
 },
 "nbformat": 4,
 "nbformat_minor": 2
}
