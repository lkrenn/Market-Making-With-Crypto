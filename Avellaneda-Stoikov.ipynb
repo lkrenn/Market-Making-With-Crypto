{
 "cells": [
  {
   "cell_type": "markdown",
   "metadata": {},
   "source": [
    "# Market Making Strategy with Cryptocurrencies\n",
    "\n",
    "In this notebook, I will be implementing the market-making methodology outlined in Avellaneda and Stoikov's popular market making whitepaper titled High-Frequency Trading in a Limit Order Book. The paper can be found for free here: https://www.math.nyu.edu/~avellane/HighFrequencyTrading.pdf\n",
    "\n",
    "In the whitepaper, the optimal behaviour of a market maker given certain assumptions is derived. Ultimately, this derivation yields a bid/ask spread that is defined as follows:\n",
    "\n",
    "$$\n",
    "\\text{bid / ask spread} = \\gamma \\sigma ^2 (T - t) + \\frac{2}{\\gamma}\\ln\\left(1 + \\frac{\\gamma}{k}\\right)\n",
    "$$\n",
    "\n",
    "This spread is defined around a reservation price i.e. a price at which a market maker is indifferent between their current portfolio and their current portfolio + a new share. The reservation price is derived in the whitepaper as follows:\n",
    "\n",
    "$$\n",
    "\\text{reservation price} = s - q\\gamma\\sigma^2(T-t)\n",
    "$$\n",
    "\n",
    "The variables mentioned in the above definitions are as follows:\n",
    "\n",
    "* $s = S_t$ i.e. the per-unit price of an asset at time $t$\n",
    "* $T$, the terminus of the time series \n",
    "* $\\sigma$, the volatility of the asset \n",
    "* $q$, the number of assets held in inventory\n",
    "* $\\gamma$, a risk factor that is adjusted to meet the risk/return trade-off of the market maker\n",
    "* $x$, the initial capital of the market maker\n",
    "* $k$, the intensity of the arrival of orders\n",
    "\n",
    "\n",
    "# 0 - Implementation of the Paper\n",
    "\n",
    "Now that we have an idea of where to start, let us first implement the simulation that is done in the paper, and see if we can translate it directly to the crypo pairs that we picked earlier."
   ]
  },
  {
   "cell_type": "code",
   "execution_count": 192,
   "metadata": {},
   "outputs": [],
   "source": [
    "#!pip install pykrakenapi\n",
    "#!pip install binance\n",
    "#!pip install powerlaw"
   ]
  },
  {
   "cell_type": "code",
   "execution_count": 1,
   "metadata": {},
   "outputs": [],
   "source": [
    "import numpy as np\n",
    "import pandas as pd\n",
    "import matplotlib.pyplot as plt\n",
    "import random\n",
    "\n",
    "import sys\n",
    "import os\n",
    "from datetime import datetime\n",
    "import krakenex\n",
    "from pykrakenapi import KrakenAPI\n",
    "import binance\n",
    "import powerlaw\n",
    "import scipy.optimize"
   ]
  },
  {
   "cell_type": "code",
   "execution_count": 34,
   "metadata": {},
   "outputs": [],
   "source": [
    "# Create a brownian motion generator\n",
    "def brownian_motion(x0, n, dt, sigma):\n",
    "\n",
    "    # Generate normal random variables\n",
    "    r = np.random.normal(size = n, scale = sigma*np.sqrt(dt))\n",
    "\n",
    "    # Calculate cumulative sum of random variables\n",
    "    cumsum = np.cumsum(r)\n",
    "\n",
    "    # Add in initial conditions\n",
    "    cumsum += np.expand_dims(x0, axis=-1)\n",
    "    cumsum[0] = x0\n",
    "    \n",
    "    return cumsum"
   ]
  },
  {
   "cell_type": "code",
   "execution_count": 44,
   "metadata": {},
   "outputs": [],
   "source": [
    "# Set seed for reproducible results\n",
    "np.random.seed(101)\n",
    "\n",
    "# Initialize parameters\n",
    "s0 = 100\n",
    "T = 1\n",
    "sigma = 2\n",
    "dt = 0.005\n",
    "q0 = 0\n",
    "gamma = 0.1\n",
    "k = 1.5\n",
    "A = 140\n",
    "sim_length = 1000"
   ]
  },
  {
   "cell_type": "code",
   "execution_count": 45,
   "metadata": {},
   "outputs": [],
   "source": [
    "spreadlist = []\n",
    "reslist = []\n",
    "qlist = []\n",
    "\n",
    "\n",
    "N = 200\n",
    "\n",
    "for sim in range(sim_length):\n",
    "    s = brownian_motion(s0, N+1, dt, sigma)\n",
    "    \n",
    "    # Initialize empty array for pnl\n",
    "    pnl = np.zeros(N+2)\n",
    "  \n",
    "    # Inventory\n",
    "    q = np.zeros(N+2)\n",
    "    \n",
    "    # Capital/Cash\n",
    "    x = np.zeros(N+2)\n",
    "    \n",
    "    # Ask limit order\n",
    "    s_a = np.zeros(N+1)\n",
    "\n",
    "    # Reserve price\n",
    "    r = np.zeros(N+1)\n",
    "    \n",
    "    # Bid limit order\n",
    "    s_b = np.zeros(N+1)\n",
    "\n",
    "    for i in range(len(s)):\n",
    "        r[i] = s[i] - q[i] * gamma * sigma**2 * (T-i*dt)\n",
    "\n",
    "        spread = gamma * sigma**2 * (T - i * dt) + (2 / gamma) * np.log(1 + (gamma / k))\n",
    "        \n",
    "        spread = spread / 2\n",
    "\n",
    "        # Adjust spreads for gap between reserve price\n",
    "        # and asset mid-price\n",
    "        gap = np.abs(r[i] - s[i])\n",
    "\n",
    "        if r[i] >= s[i]:\n",
    "            delta_a = spread + gap\n",
    "            delta_b = spread - gap    \n",
    "        else:\n",
    "            delta_a = spread - gap\n",
    "            delta_b = spread + gap\n",
    "\n",
    "        s_a[i] = s[i] + delta_a\n",
    "        s_b[i] = s[i] - delta_b\n",
    "        \n",
    "        # Calculate our lambdas, (12)\n",
    "        lambda_a = A*np.exp(-k*delta_a) * dt\n",
    "        lambda_b = A*np.exp(-k*delta_b) * dt\n",
    "\n",
    "        # Restrict to domain of feasible probabilities\n",
    "        # i.e. [0,1]\n",
    "        prob_ask = max(0, min(lambda_a,1))\n",
    "        prob_bid = max(0, min(lambda_b,1))\n",
    "\n",
    "        # Determine whether or not we buy/sell according\n",
    "        # to the above probabilities\n",
    "        sell = np.random.choice([1,0], p=[prob_ask, 1-prob_ask])\n",
    "        buy  = np.random.choice([1,0], p=[prob_bid, 1-prob_bid])\n",
    "\n",
    "        # Adjust inventory to reflect transactions\n",
    "        q[i+1] = q[i] + buy - sell\n",
    "        \n",
    "        # Calculate new capital\n",
    "        x[i+1] = x[i] + sell*(s[i]+delta_a) - buy*(s[i]-delta_b)\n",
    "\n",
    "        # Calculate pnl of assets\n",
    "        pnl[i+1] = x[i+1] + q[i+1]*s[i]\n",
    "        \n",
    "        spreadlist.append(spread * 2)\n",
    "        \n",
    "    reslist.append(pnl[-1])\n",
    "    qlist.append(q[-1])"
   ]
  },
  {
   "cell_type": "markdown",
   "metadata": {},
   "source": [
    "To ensure that we have correctly implemented the model, our results should be similar to those in the paper:\n",
    "\n",
    "<img src=\"img/AS_results.png\" alt=\"Drawing\" style=\"width: 400px;\"/>"
   ]
  },
  {
   "cell_type": "code",
   "execution_count": 47,
   "metadata": {},
   "outputs": [
    {
     "data": {
      "text/html": [
       "<div>\n",
       "<style scoped>\n",
       "    .dataframe tbody tr th:only-of-type {\n",
       "        vertical-align: middle;\n",
       "    }\n",
       "\n",
       "    .dataframe tbody tr th {\n",
       "        vertical-align: top;\n",
       "    }\n",
       "\n",
       "    .dataframe thead th {\n",
       "        text-align: right;\n",
       "    }\n",
       "</style>\n",
       "<table border=\"1\" class=\"dataframe\">\n",
       "  <thead>\n",
       "    <tr style=\"text-align: right;\">\n",
       "      <th></th>\n",
       "      <th>Avg. Spread</th>\n",
       "      <th>Profit</th>\n",
       "      <th>Std (Profit)</th>\n",
       "      <th>Final $q$</th>\n",
       "      <th>Std (Final $q$)</th>\n",
       "    </tr>\n",
       "  </thead>\n",
       "  <tbody>\n",
       "    <tr>\n",
       "      <th>Inventory</th>\n",
       "      <td>1.49077</td>\n",
       "      <td>64.683879</td>\n",
       "      <td>6.627999</td>\n",
       "      <td>0.1</td>\n",
       "      <td>2.989314</td>\n",
       "    </tr>\n",
       "  </tbody>\n",
       "</table>\n",
       "</div>"
      ],
      "text/plain": [
       "           Avg. Spread     Profit  Std (Profit)  Final $q$  Std (Final $q$)\n",
       "Inventory      1.49077  64.683879      6.627999        0.1         2.989314"
      ]
     },
     "execution_count": 47,
     "metadata": {},
     "output_type": "execute_result"
    }
   ],
   "source": [
    "pd.DataFrame([np.mean(spreadlist), np.mean(resdict), np.std(resdict), np.mean(qlist), np.std(qlist)],\n",
    "            index=['Avg. Spread','Profit','Std (Profit)', 'Final $q$', 'Std (Final $q$)'],\n",
    "            columns=['Inventory']).T"
   ]
  },
  {
   "cell_type": "markdown",
   "metadata": {},
   "source": [
    "I believe that these results are sufficiently close to assume that the strategy was implemented properly. Let's take a peek at some visualizations to see what was happening during the simulation."
   ]
  },
  {
   "cell_type": "code",
   "execution_count": 147,
   "metadata": {},
   "outputs": [],
   "source": [
    "# Combine all our results into a single DataFrane\n",
    "res = pd.DataFrame([s_a, s, s_b], index=['sell limit orders', 'mid price', 'buy limit orders']).T\n",
    "\n",
    "res['sells']  = ((pd.Series(q).diff() > 0)[:-1] * s_a).replace(0,np.nan)\n",
    "res['buys']   = ((pd.Series(q).diff() < 0)[:-1] * s_b).replace(0,np.nan)"
   ]
  },
  {
   "cell_type": "code",
   "execution_count": 151,
   "metadata": {},
   "outputs": [
    {
     "data": {
      "image/png": "[encoded data removed]",
      "text/plain": [
       "<Figure size 1080x576 with 1 Axes>"
      ]
     },
     "metadata": {
      "needs_background": "light"
     },
     "output_type": "display_data"
    },
    {
     "data": {
      "image/png": "[encoded data removed]",
      "text/plain": [
       "<Figure size 1080x288 with 1 Axes>"
      ]
     },
     "metadata": {
      "needs_background": "light"
     },
     "output_type": "display_data"
    }
   ],
   "source": [
    "plt.figure(figsize=(15,8))\n",
    "\n",
    "# Plot limit orders and mid price\n",
    "plt.plot(res.iloc[:,0], color='grey',  label='Ask Limit Orders', ls=':')\n",
    "plt.plot(res.iloc[:,1], color='black', label='Mid Price')\n",
    "plt.plot(res.iloc[:,2], color='grey',  label='Bid Limit Orders', ls=':')\n",
    "\n",
    "# Add buys and sells\n",
    "plt.scatter(range(201), res.iloc[:,3], color='red', label='Sell Limit Order Filled')\n",
    "plt.scatter(range(201), res.iloc[:,4], color='green', label='Buy Limit Order Filled')\n",
    "\n",
    "plt.legend()\n",
    "plt.title('Order History')\n",
    "\n",
    "plt.figure(figsize=(15,4))\n",
    "plt.grid()\n",
    "plt.bar(range(len(q)), q*(q>0), color='g')\n",
    "plt.bar(range(len(q)), q*(q<0), color='r')\n",
    "plt.title('Inventory')\n",
    "\n",
    "plt.show()"
   ]
  },
  {
   "cell_type": "markdown",
   "metadata": {},
   "source": [
    "# 1 - Data\n",
    "\n",
    "To trade in a limit order book, we must first get order book data. Kraken makes it very easy to download .csv files of their historical order book data, and also provide a REST API. Since there are limitations to the data that can be downloaded via the API, we will first work with the .csv files and if time permits, create an algorithm that extracts the data that we want. \n",
    "\n",
    "We will look at two crypto/USD pairs, namely Ethereum/Ether (ETH) and Covalent (CQT). The data for each pair has already been downloaded, so we can easily import them. "
   ]
  },
  {
   "cell_type": "code",
   "execution_count": 316,
   "metadata": {},
   "outputs": [
    {
     "data": {
      "text/plain": [
       "['ETHUSD.csv',\n",
       " 'ETHJPY.csv',\n",
       " 'ETHGBP.csv',\n",
       " 'ETHXBT.csv',\n",
       " 'ETHCHF.csv',\n",
       " 'ETHDAI.csv',\n",
       " 'ETHUSDT.csv',\n",
       " 'ETHUSDC.csv',\n",
       " 'ETHAUD.csv',\n",
       " 'ETHCAD.csv',\n",
       " 'ETHEUR.csv']"
      ]
     },
     "execution_count": 316,
     "metadata": {},
     "output_type": "execute_result"
    }
   ],
   "source": [
    "os.listdir('../ETH/')"
   ]
  },
  {
   "cell_type": "code",
   "execution_count": 71,
   "metadata": {},
   "outputs": [],
   "source": [
    "temp = pd.read_csv('../ETH/ETHUSD.csv', header=None)"
   ]
  },
  {
   "cell_type": "code",
   "execution_count": 318,
   "metadata": {},
   "outputs": [
    {
     "data": {
      "text/html": [
       "<div>\n",
       "<style scoped>\n",
       "    .dataframe tbody tr th:only-of-type {\n",
       "        vertical-align: middle;\n",
       "    }\n",
       "\n",
       "    .dataframe tbody tr th {\n",
       "        vertical-align: top;\n",
       "    }\n",
       "\n",
       "    .dataframe thead th {\n",
       "        text-align: right;\n",
       "    }\n",
       "</style>\n",
       "<table border=\"1\" class=\"dataframe\">\n",
       "  <thead>\n",
       "    <tr style=\"text-align: right;\">\n",
       "      <th></th>\n",
       "      <th>0</th>\n",
       "      <th>1</th>\n",
       "      <th>2</th>\n",
       "    </tr>\n",
       "  </thead>\n",
       "  <tbody>\n",
       "    <tr>\n",
       "      <th>0</th>\n",
       "      <td>1438956205</td>\n",
       "      <td>3.00000</td>\n",
       "      <td>70.317378</td>\n",
       "    </tr>\n",
       "    <tr>\n",
       "      <th>1</th>\n",
       "      <td>1438956209</td>\n",
       "      <td>3.00000</td>\n",
       "      <td>11.539900</td>\n",
       "    </tr>\n",
       "    <tr>\n",
       "      <th>2</th>\n",
       "      <td>1438967962</td>\n",
       "      <td>3.00001</td>\n",
       "      <td>1.073291</td>\n",
       "    </tr>\n",
       "    <tr>\n",
       "      <th>3</th>\n",
       "      <td>1438967962</td>\n",
       "      <td>3.00000</td>\n",
       "      <td>41.000000</td>\n",
       "    </tr>\n",
       "    <tr>\n",
       "      <th>4</th>\n",
       "      <td>1439016198</td>\n",
       "      <td>3.00000</td>\n",
       "      <td>0.400000</td>\n",
       "    </tr>\n",
       "  </tbody>\n",
       "</table>\n",
       "</div>"
      ],
      "text/plain": [
       "            0        1          2\n",
       "0  1438956205  3.00000  70.317378\n",
       "1  1438956209  3.00000  11.539900\n",
       "2  1438967962  3.00001   1.073291\n",
       "3  1438967962  3.00000  41.000000\n",
       "4  1439016198  3.00000   0.400000"
      ]
     },
     "execution_count": 318,
     "metadata": {},
     "output_type": "execute_result"
    }
   ],
   "source": [
    "temp.head()"
   ]
  },
  {
   "cell_type": "code",
   "execution_count": 319,
   "metadata": {},
   "outputs": [
    {
     "data": {
      "text/plain": [
       "(30917915, 3)"
      ]
     },
     "execution_count": 319,
     "metadata": {},
     "output_type": "execute_result"
    }
   ],
   "source": [
    "np.shape(temp)"
   ]
  },
  {
   "cell_type": "markdown",
   "metadata": {},
   "source": [
    "This file is huge (approx. 1GB), and unfortunately, I tried to compress into .h5 and .pkl files, and neither seemed to work too fantastically. In any case, the data is easy to find via Kraken, so recreating this project is very easy.\n",
    "\n",
    "Now, we know from the Kraken website that the data is formatted as follows:\n",
    "* Date\n",
    "* Asset Price\n",
    "* Volume Exchanged\n",
    "\n",
    "Let's do a quick sanity check on the data to make sure there aren't any errors:"
   ]
  },
  {
   "cell_type": "code",
   "execution_count": 320,
   "metadata": {},
   "outputs": [
    {
     "data": {
      "text/html": [
       "<div>\n",
       "<style scoped>\n",
       "    .dataframe tbody tr th:only-of-type {\n",
       "        vertical-align: middle;\n",
       "    }\n",
       "\n",
       "    .dataframe tbody tr th {\n",
       "        vertical-align: top;\n",
       "    }\n",
       "\n",
       "    .dataframe thead th {\n",
       "        text-align: right;\n",
       "    }\n",
       "</style>\n",
       "<table border=\"1\" class=\"dataframe\">\n",
       "  <thead>\n",
       "    <tr style=\"text-align: right;\">\n",
       "      <th></th>\n",
       "      <th>0</th>\n",
       "      <th>1</th>\n",
       "      <th>2</th>\n",
       "    </tr>\n",
       "  </thead>\n",
       "  <tbody>\n",
       "    <tr>\n",
       "      <th>count</th>\n",
       "      <td>3.091792e+07</td>\n",
       "      <td>3.091792e+07</td>\n",
       "      <td>3.091792e+07</td>\n",
       "    </tr>\n",
       "    <tr>\n",
       "      <th>mean</th>\n",
       "      <td>1.574363e+09</td>\n",
       "      <td>1.132849e+03</td>\n",
       "      <td>4.721387e+00</td>\n",
       "    </tr>\n",
       "    <tr>\n",
       "      <th>std</th>\n",
       "      <td>4.702479e+07</td>\n",
       "      <td>1.106889e+03</td>\n",
       "      <td>2.199794e+01</td>\n",
       "    </tr>\n",
       "    <tr>\n",
       "      <th>min</th>\n",
       "      <td>1.438956e+09</td>\n",
       "      <td>1.500000e-01</td>\n",
       "      <td>0.000000e+00</td>\n",
       "    </tr>\n",
       "    <tr>\n",
       "      <th>25%</th>\n",
       "      <td>1.528041e+09</td>\n",
       "      <td>2.327900e+02</td>\n",
       "      <td>1.000000e-01</td>\n",
       "    </tr>\n",
       "    <tr>\n",
       "      <th>50%</th>\n",
       "      <td>1.589193e+09</td>\n",
       "      <td>5.896600e+02</td>\n",
       "      <td>6.659967e-01</td>\n",
       "    </tr>\n",
       "    <tr>\n",
       "      <th>75%</th>\n",
       "      <td>1.617857e+09</td>\n",
       "      <td>1.930960e+03</td>\n",
       "      <td>3.000000e+00</td>\n",
       "    </tr>\n",
       "    <tr>\n",
       "      <th>max</th>\n",
       "      <td>1.633046e+09</td>\n",
       "      <td>4.380000e+03</td>\n",
       "      <td>6.857221e+03</td>\n",
       "    </tr>\n",
       "  </tbody>\n",
       "</table>\n",
       "</div>"
      ],
      "text/plain": [
       "                  0             1             2\n",
       "count  3.091792e+07  3.091792e+07  3.091792e+07\n",
       "mean   1.574363e+09  1.132849e+03  4.721387e+00\n",
       "std    4.702479e+07  1.106889e+03  2.199794e+01\n",
       "min    1.438956e+09  1.500000e-01  0.000000e+00\n",
       "25%    1.528041e+09  2.327900e+02  1.000000e-01\n",
       "50%    1.589193e+09  5.896600e+02  6.659967e-01\n",
       "75%    1.617857e+09  1.930960e+03  3.000000e+00\n",
       "max    1.633046e+09  4.380000e+03  6.857221e+03"
      ]
     },
     "execution_count": 320,
     "metadata": {},
     "output_type": "execute_result"
    }
   ],
   "source": [
    "temp.describe()"
   ]
  },
  {
   "cell_type": "markdown",
   "metadata": {},
   "source": [
    "There shouldn't be any volume values equal to zero unless limit orders are also included in this dataset. Let's take a look:"
   ]
  },
  {
   "cell_type": "code",
   "execution_count": 73,
   "metadata": {},
   "outputs": [
    {
     "data": {
      "text/plain": [
       "7318103    0.0\n",
       "7597903    0.0\n",
       "Name: 2, dtype: float64"
      ]
     },
     "execution_count": 73,
     "metadata": {},
     "output_type": "execute_result"
    }
   ],
   "source": [
    "temp[2][temp[2] == temp[2].min()]"
   ]
  },
  {
   "cell_type": "markdown",
   "metadata": {},
   "source": [
    "Since there are only 2, let's remove these as they don't make any sense (a trade executing but exchanging 0 shares?)"
   ]
  },
  {
   "cell_type": "code",
   "execution_count": 74,
   "metadata": {},
   "outputs": [],
   "source": [
    "temp = temp[temp[2] != temp[2].min()]"
   ]
  },
  {
   "cell_type": "code",
   "execution_count": 75,
   "metadata": {},
   "outputs": [
    {
     "data": {
      "text/html": [
       "<div>\n",
       "<style scoped>\n",
       "    .dataframe tbody tr th:only-of-type {\n",
       "        vertical-align: middle;\n",
       "    }\n",
       "\n",
       "    .dataframe tbody tr th {\n",
       "        vertical-align: top;\n",
       "    }\n",
       "\n",
       "    .dataframe thead th {\n",
       "        text-align: right;\n",
       "    }\n",
       "</style>\n",
       "<table border=\"1\" class=\"dataframe\">\n",
       "  <thead>\n",
       "    <tr style=\"text-align: right;\">\n",
       "      <th></th>\n",
       "      <th>0</th>\n",
       "      <th>1</th>\n",
       "      <th>2</th>\n",
       "    </tr>\n",
       "  </thead>\n",
       "  <tbody>\n",
       "    <tr>\n",
       "      <th>count</th>\n",
       "      <td>3.091791e+07</td>\n",
       "      <td>3.091791e+07</td>\n",
       "      <td>3.091791e+07</td>\n",
       "    </tr>\n",
       "    <tr>\n",
       "      <th>mean</th>\n",
       "      <td>1.574363e+09</td>\n",
       "      <td>1.132849e+03</td>\n",
       "      <td>4.721388e+00</td>\n",
       "    </tr>\n",
       "    <tr>\n",
       "      <th>std</th>\n",
       "      <td>4.702479e+07</td>\n",
       "      <td>1.106889e+03</td>\n",
       "      <td>2.199794e+01</td>\n",
       "    </tr>\n",
       "    <tr>\n",
       "      <th>min</th>\n",
       "      <td>1.438956e+09</td>\n",
       "      <td>1.500000e-01</td>\n",
       "      <td>1.000000e-08</td>\n",
       "    </tr>\n",
       "    <tr>\n",
       "      <th>25%</th>\n",
       "      <td>1.528041e+09</td>\n",
       "      <td>2.327900e+02</td>\n",
       "      <td>1.000000e-01</td>\n",
       "    </tr>\n",
       "    <tr>\n",
       "      <th>50%</th>\n",
       "      <td>1.589193e+09</td>\n",
       "      <td>5.896600e+02</td>\n",
       "      <td>6.659968e-01</td>\n",
       "    </tr>\n",
       "    <tr>\n",
       "      <th>75%</th>\n",
       "      <td>1.617857e+09</td>\n",
       "      <td>1.930960e+03</td>\n",
       "      <td>3.000000e+00</td>\n",
       "    </tr>\n",
       "    <tr>\n",
       "      <th>max</th>\n",
       "      <td>1.633046e+09</td>\n",
       "      <td>4.380000e+03</td>\n",
       "      <td>6.857221e+03</td>\n",
       "    </tr>\n",
       "  </tbody>\n",
       "</table>\n",
       "</div>"
      ],
      "text/plain": [
       "                  0             1             2\n",
       "count  3.091791e+07  3.091791e+07  3.091791e+07\n",
       "mean   1.574363e+09  1.132849e+03  4.721388e+00\n",
       "std    4.702479e+07  1.106889e+03  2.199794e+01\n",
       "min    1.438956e+09  1.500000e-01  1.000000e-08\n",
       "25%    1.528041e+09  2.327900e+02  1.000000e-01\n",
       "50%    1.589193e+09  5.896600e+02  6.659968e-01\n",
       "75%    1.617857e+09  1.930960e+03  3.000000e+00\n",
       "max    1.633046e+09  4.380000e+03  6.857221e+03"
      ]
     },
     "execution_count": 75,
     "metadata": {},
     "output_type": "execute_result"
    }
   ],
   "source": [
    "temp.describe()"
   ]
  },
  {
   "cell_type": "markdown",
   "metadata": {},
   "source": [
    "Next, let's take a look at the date range and see if we can spot any problems there:"
   ]
  },
  {
   "cell_type": "code",
   "execution_count": 76,
   "metadata": {},
   "outputs": [],
   "source": [
    "first_time = temp.iloc[0,0]\n",
    "last_time = temp.iloc[-1,0]"
   ]
  },
  {
   "cell_type": "code",
   "execution_count": 77,
   "metadata": {},
   "outputs": [
    {
     "data": {
      "text/plain": [
       "0          2015-08-07 14:03:25\n",
       "1          2015-08-07 14:03:29\n",
       "2          2015-08-07 17:19:22\n",
       "3          2015-08-07 17:19:22\n",
       "4          2015-08-08 06:43:18\n",
       "                   ...        \n",
       "30917910   2021-09-30 23:59:49\n",
       "30917911   2021-09-30 23:59:49\n",
       "30917912   2021-09-30 23:59:59\n",
       "30917913   2021-09-30 23:59:59\n",
       "30917914   2021-09-30 23:59:59\n",
       "Name: 0, Length: 30917913, dtype: datetime64[ns]"
      ]
     },
     "execution_count": 77,
     "metadata": {},
     "output_type": "execute_result"
    }
   ],
   "source": [
    "pd.to_datetime(temp[0],unit='s')#.strftime('%Y-%m-%d %H:%M:%S')"
   ]
  },
  {
   "cell_type": "markdown",
   "metadata": {},
   "source": [
    "This is a lot of data, and perhaps we do not need so much immediately to backtest the strategy. Let us first try with a snippet to ensure our algorithm works on this data, and then we can add more data and try to backtest the full strategy. Surely since this data is recorded by the second, there has to be more than one tps. Let's verify this:"
   ]
  },
  {
   "cell_type": "code",
   "execution_count": 78,
   "metadata": {},
   "outputs": [
    {
     "data": {
      "text/html": [
       "<div>\n",
       "<style scoped>\n",
       "    .dataframe tbody tr th:only-of-type {\n",
       "        vertical-align: middle;\n",
       "    }\n",
       "\n",
       "    .dataframe tbody tr th {\n",
       "        vertical-align: top;\n",
       "    }\n",
       "\n",
       "    .dataframe thead th {\n",
       "        text-align: right;\n",
       "    }\n",
       "</style>\n",
       "<table border=\"1\" class=\"dataframe\">\n",
       "  <thead>\n",
       "    <tr style=\"text-align: right;\">\n",
       "      <th></th>\n",
       "      <th>0</th>\n",
       "      <th>1</th>\n",
       "      <th>2</th>\n",
       "    </tr>\n",
       "  </thead>\n",
       "  <tbody>\n",
       "    <tr>\n",
       "      <th>30917912</th>\n",
       "      <td>1633046399</td>\n",
       "      <td>3000.22</td>\n",
       "      <td>0.179109</td>\n",
       "    </tr>\n",
       "    <tr>\n",
       "      <th>30917913</th>\n",
       "      <td>1633046399</td>\n",
       "      <td>3000.22</td>\n",
       "      <td>0.632842</td>\n",
       "    </tr>\n",
       "    <tr>\n",
       "      <th>30917914</th>\n",
       "      <td>1633046399</td>\n",
       "      <td>3000.22</td>\n",
       "      <td>0.452355</td>\n",
       "    </tr>\n",
       "  </tbody>\n",
       "</table>\n",
       "</div>"
      ],
      "text/plain": [
       "                   0        1         2\n",
       "30917912  1633046399  3000.22  0.179109\n",
       "30917913  1633046399  3000.22  0.632842\n",
       "30917914  1633046399  3000.22  0.452355"
      ]
     },
     "execution_count": 78,
     "metadata": {},
     "output_type": "execute_result"
    }
   ],
   "source": [
    "temp[temp[0] == last_time]"
   ]
  },
  {
   "cell_type": "markdown",
   "metadata": {},
   "source": [
    "We can see here that 3 transactions took place at the most recent timestamp. Therefore, we will either need to try to aggregate trades into time-equidistant candles or simply ignore the asynchronous nature of transactions by implementing the infinite-horizon version of Avellaneda-Stoikov and not worrying about time increments. Let's try option 2 first.\n",
    "\n",
    "In the paper, the opitimizing agent with infinite horizon determines their reserve price and spread according to the following equations:\n",
    "\n",
    "$$\n",
    "\\begin{aligned}\n",
    "\\bar{r}^a(s,q) &= s + \\frac{1}{\\gamma}\\ln\\left(1+ \\frac{(1-2q)\\gamma^2\\sigma^2}{2\\omega-\\gamma^2q^2\\sigma^2}\\right)\\\\\n",
    "\\\\\n",
    "\\bar{r}^b(s,q) &= s + \\frac{1}{\\gamma}\\ln\\left(1+ \\frac{(-1-2q)\\gamma^2\\sigma^2}{2\\omega-\\gamma^2q^2\\sigma^2}\\right)\n",
    "\\end{aligned}\n",
    "$$\n",
    "\n",
    "Where this new variable, $\\omega$ represents an upper bound to the inventory position we are allowed to take. It is defined as follows:\n",
    "\n",
    "$$\n",
    "\\omega = \\frac{1}{2}\\gamma^2\\sigma^2(q_\\text{max}+1)^2\n",
    "$$\n",
    "\n",
    "Where $q_\\text{max}$ is the maximum amount of inventory we would like to hold at a single time. Now, this is a number that may need to be solved for, but for now, let's just choose an arbitrary $q_\\text{max} = 3$. With this, we will see if we can implement Avellaneda-Stoikov over an infinite horizon:"
   ]
  },
  {
   "cell_type": "code",
   "execution_count": 14,
   "metadata": {},
   "outputs": [
    {
     "data": {
      "text/plain": [
       "False"
      ]
     },
     "execution_count": 14,
     "metadata": {},
     "output_type": "execute_result"
    }
   ],
   "source": [
    "q_max = 3\n",
    "\n",
    "omega = 1/2 * gamma**2 * sigma**2 * (q_max + 1)**2\n",
    "\n",
    "r_a = s[i] + 1/gamma * np.log(1+ ((1-2*q[i])*gamma**2 * sigma**2) / \n",
    "                             (2*omega-gamma**2 * q[i]**2 * sigma**2))\n",
    "\n",
    "r_b = s[i] + 1/gamma * np.log(1+ ((-1-2*q[i])*gamma**2 * sigma**2) / \n",
    "                             (2*omega-gamma**2 * q[i]**2 * sigma**2))\n",
    "\n",
    "r = (r_a + r_b)/2\n",
    "r_a - r == r - r_b"
   ]
  },
  {
   "cell_type": "code",
   "execution_count": 15,
   "metadata": {},
   "outputs": [
    {
     "data": {
      "text/plain": [
       "0.6453852113757117"
      ]
     },
     "execution_count": 15,
     "metadata": {},
     "output_type": "execute_result"
    }
   ],
   "source": [
    "r = s[i] - q[i] * gamma * sigma**2 * (T-i*dt)\n",
    "spread = gamma * sigma**2 * (T - i * dt) + (2 / gamma) * np.log(1 + (gamma / k))\n",
    "spread = spread / 2\n",
    "spread"
   ]
  },
  {
   "cell_type": "code",
   "execution_count": 16,
   "metadata": {},
   "outputs": [],
   "source": [
    "resdict = []\n",
    "N=200\n",
    "sim_length = 1000\n",
    "\n",
    "q_max = 5\n",
    "\n",
    "for sim in range(sim_length):\n",
    "    s = brownian_motion(s0, N+1, dt, sigma)\n",
    "    \n",
    "    # Initialize empty array for pnl\n",
    "    pnl = np.zeros(N+2)\n",
    "  \n",
    "    # Inventory\n",
    "    q = np.zeros(N+2)\n",
    "    \n",
    "    # Capital\n",
    "    x = np.zeros(N+2)\n",
    "\n",
    "    # Reserve price\n",
    "    r = np.zeros(N+1)\n",
    "\n",
    "    for i in range(len(s)):\n",
    "        omega = 1/2 * gamma**2 * sigma**2 * (q_max + 1)**2\n",
    "\n",
    "        r_a = s[i] + 1/gamma * np.log(1+ ((1-2*q[i])*gamma**2 * sigma**2) / \n",
    "                                     (2*omega-gamma**2 * q[i]**2 * sigma**2))\n",
    "\n",
    "        r_b = s[i] + 1/gamma * np.log(1+ ((-1-2*q[i])*gamma**2 * sigma**2) / \n",
    "                                     (2*omega-gamma**2 * q[i]**2 * sigma**2))\n",
    "        \n",
    "        r[i] = (r_a + r_b)/2\n",
    "        \n",
    "        spread = r_a - r[i]\n",
    "\n",
    "        # Adjust spreads for gap between reserve price\n",
    "        # and asset mid-price\n",
    "        gap = np.abs(r[i] - s[i])\n",
    "\n",
    "        if r[i] >= s[i]:\n",
    "            delta_a = spread + gap\n",
    "            delta_b = spread - gap    \n",
    "        else:\n",
    "            delta_a = spread - gap\n",
    "            delta_b = spread + gap\n",
    "\n",
    "        # Calculate our lambdas, (12)\n",
    "        lambda_a = A*np.exp(-k*delta_a)*dt\n",
    "        lambda_b = A*np.exp(-k*delta_b)*dt\n",
    "\n",
    "        # Restrict to domain of feasible probabilities\n",
    "        # i.e. [0,1]\n",
    "        prob_ask = max(0, min(lambda_a,1))\n",
    "        prob_bid = max(0, min(lambda_b,1))\n",
    "\n",
    "        # Determine whether or not we buy/sell according\n",
    "        # to the above probabilities\n",
    "        sell = np.random.choice([1,0], p=[prob_ask, 1-prob_ask])\n",
    "        buy  = np.random.choice([1,0], p=[prob_bid, 1-prob_bid])\n",
    "\n",
    "        # Adjust inventory to reflect transactions\n",
    "        q[i+1] = q[i] + buy - sell\n",
    "        \n",
    "        # Calculate new capital\n",
    "        x[i+1] = x[i] + sell*(s[i]+delta_a) - buy*(s[i]-delta_b)\n",
    "\n",
    "        # Calculate pnl of assets\n",
    "        pnl[i+1] = x[i+1] + q[i+1]*s[i]\n",
    "\n",
    "    resdict.append(pnl[-1])"
   ]
  },
  {
   "cell_type": "code",
   "execution_count": 17,
   "metadata": {},
   "outputs": [
    {
     "data": {
      "text/plain": [
       "<AxesSubplot:>"
      ]
     },
     "execution_count": 17,
     "metadata": {},
     "output_type": "execute_result"
    },
    {
     "data": {
      "image/png": "[encoded data removed]",
      "text/plain": [
       "<Figure size 432x288 with 1 Axes>"
      ]
     },
     "metadata": {
      "needs_background": "light"
     },
     "output_type": "display_data"
    }
   ],
   "source": [
    "pd.DataFrame(pnl).plot()"
   ]
  },
  {
   "cell_type": "markdown",
   "metadata": {},
   "source": [
    "Since the above seems to be working quite well for the time-homogenous time series, I feel comfortable moving onto our crypto data."
   ]
  },
  {
   "cell_type": "markdown",
   "metadata": {},
   "source": [
    "# Application to Crypto Data\n",
    "\n",
    "I was able to source "
   ]
  },
  {
   "cell_type": "markdown",
   "metadata": {},
   "source": [
    "# Try Finite Time Avellaneda-Stoikov"
   ]
  },
  {
   "cell_type": "code",
   "execution_count": 20,
   "metadata": {},
   "outputs": [],
   "source": [
    "# Initialize parameters\n",
    "s0 = 100\n",
    "N = 60*60*24\n",
    "T = 1\n",
    "sigma = 0.3\n",
    "dt = T/N\n",
    "q0 = 0\n",
    "gamma = 0.1\n",
    "k = 1.5\n",
    "A = 140\n",
    "#sim_length = 1000\n",
    "\n",
    "#s = s.values\n",
    "    \n",
    "# Initialize empty array for pnl\n",
    "pnl = np.zeros(N+2)\n",
    "\n",
    "# Inventory\n",
    "q = np.zeros(N+2)\n",
    "\n",
    "# Capital\n",
    "x = np.zeros(N+2)\n",
    "\n",
    "# Reserve price\n",
    "r = np.zeros(N+1)\n",
    "\n",
    "for i in range(len(s)):\n",
    "    r[i] = s[i] - q[i] * gamma * sigma**2 * (T-i*dt)\n",
    "\n",
    "    spread = gamma * sigma**2 * (T - i * dt) + (2 / gamma) * np.log(1 + (gamma / k))\n",
    "\n",
    "    spread = spread / 2\n",
    "\n",
    "    # Adjust spreads for gap between reserve price\n",
    "    # and asset mid-price\n",
    "    gap = np.abs(r[i] - s[i])\n",
    "\n",
    "    if r[i] >= s[i]:\n",
    "        delta_a = spread + gap\n",
    "        delta_b = spread - gap    \n",
    "    else:\n",
    "        delta_a = spread - gap\n",
    "        delta_b = spread + gap\n",
    "\n",
    "    # Calculate our lambdas, (12)\n",
    "    lambda_a = A*np.exp(-k*delta_a) * dt\n",
    "    lambda_b = A*np.exp(-k*delta_b) * dt\n",
    "\n",
    "    # Restrict to domain of feasible probabilities\n",
    "    # i.e. [0,1]\n",
    "    prob_ask = max(0, min(lambda_a,1))\n",
    "    prob_bid = max(0, min(lambda_b,1))\n",
    "\n",
    "    # Determine whether or not we buy/sell according\n",
    "    # to the above probabilities\n",
    "    sell = np.random.choice([1,0], p=[prob_ask, 1-prob_ask])\n",
    "    buy  = np.random.choice([1,0], p=[prob_bid, 1-prob_bid])\n",
    "\n",
    "    # Adjust inventory to reflect transactions\n",
    "    q[i+1] = q[i] + buy - sell\n",
    "\n",
    "    # Calculate new capital\n",
    "    x[i+1] = x[i] + sell*(s[i]+delta_a) - buy*(s[i]-delta_b)\n",
    "\n",
    "    # Calculate pnl of assets\n",
    "    pnl[i+1] = x[i+1] + q[i+1]*s[i]\n",
    "\n",
    "resdict.append(pnl[-1])"
   ]
  },
  {
   "cell_type": "code",
   "execution_count": 21,
   "metadata": {},
   "outputs": [
    {
     "data": {
      "text/plain": [
       "<AxesSubplot:>"
      ]
     },
     "execution_count": 21,
     "metadata": {},
     "output_type": "execute_result"
    },
    {
     "data": {
      "image/png": "[encoded data removed]",
      "text/plain": [
       "<Figure size 432x288 with 1 Axes>"
      ]
     },
     "metadata": {
      "needs_background": "light"
     },
     "output_type": "display_data"
    }
   ],
   "source": [
    "pd.DataFrame(pnl).plot()"
   ]
  },
  {
   "cell_type": "markdown",
   "metadata": {},
   "source": [
    "Great! Now that we got this to work, let's try estimating some of the parameters. In the end, we will try to update the parameters every day. \n",
    "\n",
    "# Estimating $\\Lambda$\n",
    "\n",
    "$\\Lambda$ Is one of the values used to calculate A, the coefficient of our Poisson intensity, $\\lambda$. In the paper, it is said that $\\Lambda$ is a constant frequency of buy or sell orders and it could be **estimated by dividing the total volume traded over a day by the average size of market orders on that day**. This can be easily calculated:"
   ]
  },
  {
   "cell_type": "code",
   "execution_count": 79,
   "metadata": {},
   "outputs": [],
   "source": [
    "temp = pd.read_csv('../ETH/ETHUSD.csv', header=None)\n",
    "temp = temp.set_index(0)"
   ]
  },
  {
   "cell_type": "code",
   "execution_count": 80,
   "metadata": {},
   "outputs": [
    {
     "data": {
      "text/html": [
       "<div>\n",
       "<style scoped>\n",
       "    .dataframe tbody tr th:only-of-type {\n",
       "        vertical-align: middle;\n",
       "    }\n",
       "\n",
       "    .dataframe tbody tr th {\n",
       "        vertical-align: top;\n",
       "    }\n",
       "\n",
       "    .dataframe thead th {\n",
       "        text-align: right;\n",
       "    }\n",
       "</style>\n",
       "<table border=\"1\" class=\"dataframe\">\n",
       "  <thead>\n",
       "    <tr style=\"text-align: right;\">\n",
       "      <th></th>\n",
       "      <th>1</th>\n",
       "      <th>2</th>\n",
       "    </tr>\n",
       "    <tr>\n",
       "      <th>0</th>\n",
       "      <th></th>\n",
       "      <th></th>\n",
       "    </tr>\n",
       "  </thead>\n",
       "  <tbody>\n",
       "    <tr>\n",
       "      <th>2015-08-07 14:03:25</th>\n",
       "      <td>3.00000</td>\n",
       "      <td>70.317378</td>\n",
       "    </tr>\n",
       "    <tr>\n",
       "      <th>2015-08-07 14:03:29</th>\n",
       "      <td>3.00000</td>\n",
       "      <td>11.539900</td>\n",
       "    </tr>\n",
       "    <tr>\n",
       "      <th>2015-08-07 17:19:22</th>\n",
       "      <td>3.00001</td>\n",
       "      <td>1.073291</td>\n",
       "    </tr>\n",
       "    <tr>\n",
       "      <th>2015-08-07 17:19:22</th>\n",
       "      <td>3.00000</td>\n",
       "      <td>41.000000</td>\n",
       "    </tr>\n",
       "    <tr>\n",
       "      <th>2015-08-08 06:43:18</th>\n",
       "      <td>3.00000</td>\n",
       "      <td>0.400000</td>\n",
       "    </tr>\n",
       "  </tbody>\n",
       "</table>\n",
       "</div>"
      ],
      "text/plain": [
       "                           1          2\n",
       "0                                      \n",
       "2015-08-07 14:03:25  3.00000  70.317378\n",
       "2015-08-07 14:03:29  3.00000  11.539900\n",
       "2015-08-07 17:19:22  3.00001   1.073291\n",
       "2015-08-07 17:19:22  3.00000  41.000000\n",
       "2015-08-08 06:43:18  3.00000   0.400000"
      ]
     },
     "execution_count": 80,
     "metadata": {},
     "output_type": "execute_result"
    }
   ],
   "source": [
    "temp.index = pd.to_datetime(temp.index,unit='s')\n",
    "temp.head()"
   ]
  },
  {
   "cell_type": "code",
   "execution_count": 684,
   "metadata": {},
   "outputs": [
    {
     "data": {
      "text/plain": [
       "0\n",
       "2015-08-07     30.982642\n",
       "2015-08-08     97.144407\n",
       "2015-08-09           NaN\n",
       "2015-08-10           NaN\n",
       "2015-08-11    109.935342\n",
       "                 ...    \n",
       "2021-09-26      1.302671\n",
       "2021-09-27      1.428739\n",
       "2021-09-28      1.868931\n",
       "2021-09-29      2.062106\n",
       "2021-09-30      1.952767\n",
       "Freq: D, Name: 2, Length: 2247, dtype: float64"
      ]
     },
     "execution_count": 684,
     "metadata": {},
     "output_type": "execute_result"
    }
   ],
   "source": [
    "avg_volume = temp.groupby(pd.Grouper(freq='D'))[2].mean()\n",
    "avg_volume"
   ]
  },
  {
   "cell_type": "code",
   "execution_count": 685,
   "metadata": {},
   "outputs": [
    {
     "data": {
      "text/plain": [
       "<AxesSubplot:xlabel='0'>"
      ]
     },
     "execution_count": 685,
     "metadata": {},
     "output_type": "execute_result"
    },
    {
     "data": {
      "image/png": "[encoded data removed]",
      "text/plain": [
       "<Figure size 432x288 with 1 Axes>"
      ]
     },
     "metadata": {
      "needs_background": "light"
     },
     "output_type": "display_data"
    }
   ],
   "source": [
    "avg_volume.plot()"
   ]
  },
  {
   "cell_type": "code",
   "execution_count": 686,
   "metadata": {},
   "outputs": [
    {
     "data": {
      "text/plain": [
       "0\n",
       "2015-08-07      123.930568\n",
       "2015-08-08     1942.888147\n",
       "2015-08-09        0.000000\n",
       "2015-08-10        0.000000\n",
       "2015-08-11     9234.568705\n",
       "                  ...     \n",
       "2021-09-26    30421.271665\n",
       "2021-09-27    26307.363364\n",
       "2021-09-28    41079.102185\n",
       "2021-09-29    38359.295840\n",
       "2021-09-30    39912.605687\n",
       "Freq: D, Name: 2, Length: 2247, dtype: float64"
      ]
     },
     "execution_count": 686,
     "metadata": {},
     "output_type": "execute_result"
    }
   ],
   "source": [
    "total_volume = temp.groupby(pd.Grouper(freq='D'))[2].sum()\n",
    "total_volume"
   ]
  },
  {
   "cell_type": "code",
   "execution_count": 687,
   "metadata": {},
   "outputs": [
    {
     "data": {
      "text/plain": [
       "<AxesSubplot:xlabel='0'>"
      ]
     },
     "execution_count": 687,
     "metadata": {},
     "output_type": "execute_result"
    },
    {
     "data": {
      "image/png": "[encoded data removed]",
      "text/plain": [
       "<Figure size 432x288 with 1 Axes>"
      ]
     },
     "metadata": {
      "needs_background": "light"
     },
     "output_type": "display_data"
    }
   ],
   "source": [
    "total_volume.plot()"
   ]
  },
  {
   "cell_type": "code",
   "execution_count": 688,
   "metadata": {},
   "outputs": [
    {
     "data": {
      "text/plain": [
       "0\n",
       "2015-08-07        NaN\n",
       "2015-08-08        NaN\n",
       "2015-08-09        NaN\n",
       "2015-08-10        NaN\n",
       "2015-08-11        NaN\n",
       "               ...   \n",
       "2021-09-26    30595.4\n",
       "2021-09-27    26062.8\n",
       "2021-09-28    23672.2\n",
       "2021-09-29    24117.6\n",
       "2021-09-30    20079.4\n",
       "Freq: D, Name: 2, Length: 2247, dtype: float64"
      ]
     },
     "execution_count": 688,
     "metadata": {},
     "output_type": "execute_result"
    }
   ],
   "source": [
    "# Fill in any gaps with previous value if no new information\n",
    "# comes across \n",
    "Lambda = (total_volume / avg_volume).ffill()\n",
    "\n",
    "# Smooth out the function by taking a rolling mean over the \n",
    "# past 5 days\n",
    "Lambda = Lambda.rolling(5).mean()\n",
    "\n",
    "# Use yesterday's value for today so as to not introduce\n",
    "# future data\n",
    "Lambda = Lambda.shift(1)\n",
    "\n",
    "# First entry should be NaN\n",
    "Lambda"
   ]
  },
  {
   "cell_type": "code",
   "execution_count": 834,
   "metadata": {},
   "outputs": [
    {
     "data": {
      "text/plain": [
       "<AxesSubplot:xlabel='0'>"
      ]
     },
     "execution_count": 834,
     "metadata": {},
     "output_type": "execute_result"
    },
    {
     "data": {
      "image/png": "[encoded data removed]",
      "text/plain": [
       "<Figure size 432x288 with 1 Axes>"
      ]
     },
     "metadata": {
      "needs_background": "light"
     },
     "output_type": "display_data"
    }
   ],
   "source": [
    "Lambda.plot() "
   ]
  },
  {
   "cell_type": "code",
   "execution_count": 836,
   "metadata": {},
   "outputs": [
    {
     "data": {
      "text/plain": [
       "0\n",
       "2015-08-07        4\n",
       "2015-08-08       20\n",
       "2015-08-09        0\n",
       "2015-08-10        0\n",
       "2015-08-11       84\n",
       "              ...  \n",
       "2021-09-26    23353\n",
       "2021-09-27    18413\n",
       "2021-09-28    21980\n",
       "2021-09-29    18602\n",
       "2021-09-30    20439\n",
       "Freq: D, Name: 1, Length: 2247, dtype: int64"
      ]
     },
     "execution_count": 836,
     "metadata": {},
     "output_type": "execute_result"
    }
   ],
   "source": [
    "temp[1].groupby(pd.Grouper(freq='1D')).count()"
   ]
  },
  {
   "cell_type": "markdown",
   "metadata": {},
   "source": [
    "Great, now we have one part of the fraction needed to calculate A, lets move onto the next element:\n",
    "\n",
    "# Estimating $\\alpha$\n",
    "\n",
    "To do this, we may need to take a peek at another paper in the references titled Statistical Properties of Share Volume Traded in Financial Markets by Gopikrishnan et al. The paper can be viewed here:\n",
    "\n",
    "https://arxiv.org/pdf/cond-mat/0008113.pdf\n",
    "\n",
    "Let's pick out a few days and peek at their respective distributions on a log-log scale:"
   ]
  },
  {
   "cell_type": "code",
   "execution_count": 690,
   "metadata": {},
   "outputs": [],
   "source": [
    "one_day_trades = temp[temp.index.date == datetime(2019, 8, 7).date()][2]"
   ]
  },
  {
   "cell_type": "code",
   "execution_count": 691,
   "metadata": {},
   "outputs": [
    {
     "data": {
      "text/plain": [
       "0\n",
       "2019-08-07 00:00:00    0.100000\n",
       "2019-08-07 00:00:04    0.046497\n",
       "2019-08-07 00:00:04    0.434105\n",
       "2019-08-07 00:00:25    3.424530\n",
       "2019-08-07 00:00:25    4.989024\n",
       "                         ...   \n",
       "2019-08-07 23:56:53    3.000000\n",
       "2019-08-07 23:56:53    1.000000\n",
       "2019-08-07 23:58:39    0.020000\n",
       "2019-08-07 23:59:14    0.180000\n",
       "2019-08-07 23:59:15    0.180000\n",
       "Name: 2, Length: 5454, dtype: float64"
      ]
     },
     "execution_count": 691,
     "metadata": {},
     "output_type": "execute_result"
    }
   ],
   "source": [
    "one_day_trades"
   ]
  },
  {
   "cell_type": "code",
   "execution_count": 692,
   "metadata": {},
   "outputs": [
    {
     "data": {
      "image/png": "[encoded data removed]",
      "text/plain": [
       "<Figure size 432x288 with 1 Axes>"
      ]
     },
     "metadata": {
      "needs_background": "light"
     },
     "output_type": "display_data"
    }
   ],
   "source": [
    "# Linear scale, to be transformed into log scale\n",
    "hist, bins, _ = plt.hist(one_day_trades.values, bins='auto')\n",
    "hist, bins = np.histogram(one_day_trades.values, bins='auto')"
   ]
  },
  {
   "cell_type": "code",
   "execution_count": 629,
   "metadata": {},
   "outputs": [
    {
     "data": {
      "text/plain": [
       "<AxesSubplot:>"
      ]
     },
     "execution_count": 629,
     "metadata": {},
     "output_type": "execute_result"
    },
    {
     "data": {
      "image/png": "[encoded data removed]",
      "text/plain": [
       "<Figure size 432x288 with 1 Axes>"
      ]
     },
     "metadata": {
      "needs_background": "light"
     },
     "output_type": "display_data"
    }
   ],
   "source": [
    "# Show log-log plot to demonstrate power-law distribution\n",
    "histo = pd.Series(np.log(hist)).replace(-np.inf,0)\n",
    "histo.index = np.log(bins[:-1])\n",
    "\n",
    "histo.plot()"
   ]
  },
  {
   "cell_type": "code",
   "execution_count": 630,
   "metadata": {},
   "outputs": [
    {
     "data": {
      "text/plain": [
       "5.753626727896894"
      ]
     },
     "execution_count": 630,
     "metadata": {},
     "output_type": "execute_result"
    }
   ],
   "source": [
    "# Calculate exponent\n",
    "powerlaw.Fit(histo).power_law.alpha"
   ]
  },
  {
   "cell_type": "code",
   "execution_count": 639,
   "metadata": {},
   "outputs": [
    {
     "data": {
      "image/png": "[encoded data removed]",
      "text/plain": [
       "<Figure size 1080x576 with 4 Axes>"
      ]
     },
     "metadata": {
      "needs_background": "light"
     },
     "output_type": "display_data"
    }
   ],
   "source": [
    "datelist = [datetime(x, 10, 7) for x in range(2015,2019)]\n",
    "counter = 1\n",
    "\n",
    "plt.figure(figsize=(15,8))\n",
    "\n",
    "for day in datelist:\n",
    "    plt.subplot(2,2,counter)\n",
    "    plt.title(day.strftime(\"%d %b %Y\"))\n",
    "    one_day_trades = temp[temp.index.date == day.date()][2]\n",
    "    hist, bins = np.histogram(one_day_trades.values, bins='auto')\n",
    "    histo = pd.Series(np.log(hist)).replace(-np.inf,0)\n",
    "    histo.index = np.log(bins[:-1])\n",
    "    \n",
    "    histo.plot()\n",
    "    counter+=1"
   ]
  },
  {
   "cell_type": "code",
   "execution_count": 642,
   "metadata": {},
   "outputs": [],
   "source": [
    "date_index = temp.index.date"
   ]
  },
  {
   "cell_type": "code",
   "execution_count": 648,
   "metadata": {},
   "outputs": [
    {
     "data": {
      "text/plain": [
       "[datetime.date(2015, 8, 7),\n",
       " datetime.date(2015, 8, 8),\n",
       " datetime.date(2015, 8, 11),\n",
       " datetime.date(2015, 8, 12),\n",
       " datetime.date(2015, 8, 13)]"
      ]
     },
     "execution_count": 648,
     "metadata": {},
     "output_type": "execute_result"
    }
   ],
   "source": [
    "unique_days = sorted(list(set(date_index)))\n",
    "unique_days[:5]"
   ]
  },
  {
   "cell_type": "code",
   "execution_count": 656,
   "metadata": {},
   "outputs": [],
   "source": [
    "alphas = []\n",
    "\n",
    "for day in unique_days:\n",
    "    locations = date_index == day#.date()\n",
    "    one_day_trades = temp[locations][2]\n",
    "    hist, bins = np.histogram(one_day_trades.values, bins='auto')\n",
    "    histo = pd.Series(np.log(hist)).replace(-np.inf,0)\n",
    "    alphas.append(powerlaw.Fit(histo).power_law.alpha)"
   ]
  },
  {
   "cell_type": "code",
   "execution_count": 729,
   "metadata": {},
   "outputs": [],
   "source": [
    "alpha_df = pd.DataFrame(alphas, index=unique_days)"
   ]
  },
  {
   "cell_type": "code",
   "execution_count": 730,
   "metadata": {},
   "outputs": [],
   "source": [
    "alpha_df = alpha_df.reindex(Lambda.index, method='ffill')"
   ]
  },
  {
   "cell_type": "code",
   "execution_count": 749,
   "metadata": {},
   "outputs": [],
   "source": [
    "Alist = pd.DataFrame(Lambda.values / alpha_df[0].values, index=Lambda.index).fillna(0)"
   ]
  },
  {
   "cell_type": "code",
   "execution_count": 750,
   "metadata": {},
   "outputs": [
    {
     "data": {
      "text/html": [
       "<div>\n",
       "<style scoped>\n",
       "    .dataframe tbody tr th:only-of-type {\n",
       "        vertical-align: middle;\n",
       "    }\n",
       "\n",
       "    .dataframe tbody tr th {\n",
       "        vertical-align: top;\n",
       "    }\n",
       "\n",
       "    .dataframe thead th {\n",
       "        text-align: right;\n",
       "    }\n",
       "</style>\n",
       "<table border=\"1\" class=\"dataframe\">\n",
       "  <thead>\n",
       "    <tr style=\"text-align: right;\">\n",
       "      <th></th>\n",
       "      <th>0</th>\n",
       "    </tr>\n",
       "    <tr>\n",
       "      <th>0</th>\n",
       "      <th></th>\n",
       "    </tr>\n",
       "  </thead>\n",
       "  <tbody>\n",
       "    <tr>\n",
       "      <th>2015-08-07</th>\n",
       "      <td>0.000000</td>\n",
       "    </tr>\n",
       "    <tr>\n",
       "      <th>2015-08-08</th>\n",
       "      <td>0.000000</td>\n",
       "    </tr>\n",
       "    <tr>\n",
       "      <th>2015-08-09</th>\n",
       "      <td>0.000000</td>\n",
       "    </tr>\n",
       "    <tr>\n",
       "      <th>2015-08-10</th>\n",
       "      <td>0.000000</td>\n",
       "    </tr>\n",
       "    <tr>\n",
       "      <th>2015-08-11</th>\n",
       "      <td>0.000000</td>\n",
       "    </tr>\n",
       "    <tr>\n",
       "      <th>...</th>\n",
       "      <td>...</td>\n",
       "    </tr>\n",
       "    <tr>\n",
       "      <th>2021-09-26</th>\n",
       "      <td>5184.656631</td>\n",
       "    </tr>\n",
       "    <tr>\n",
       "      <th>2021-09-27</th>\n",
       "      <td>8246.127623</td>\n",
       "    </tr>\n",
       "    <tr>\n",
       "      <th>2021-09-28</th>\n",
       "      <td>7369.864194</td>\n",
       "    </tr>\n",
       "    <tr>\n",
       "      <th>2021-09-29</th>\n",
       "      <td>4332.780464</td>\n",
       "    </tr>\n",
       "    <tr>\n",
       "      <th>2021-09-30</th>\n",
       "      <td>1913.815565</td>\n",
       "    </tr>\n",
       "  </tbody>\n",
       "</table>\n",
       "<p>2247 rows × 1 columns</p>\n",
       "</div>"
      ],
      "text/plain": [
       "                      0\n",
       "0                      \n",
       "2015-08-07     0.000000\n",
       "2015-08-08     0.000000\n",
       "2015-08-09     0.000000\n",
       "2015-08-10     0.000000\n",
       "2015-08-11     0.000000\n",
       "...                 ...\n",
       "2021-09-26  5184.656631\n",
       "2021-09-27  8246.127623\n",
       "2021-09-28  7369.864194\n",
       "2021-09-29  4332.780464\n",
       "2021-09-30  1913.815565\n",
       "\n",
       "[2247 rows x 1 columns]"
      ]
     },
     "execution_count": 750,
     "metadata": {},
     "output_type": "execute_result"
    }
   ],
   "source": [
    "Alist"
   ]
  },
  {
   "cell_type": "markdown",
   "metadata": {},
   "source": [
    "# Finding Optimal $k$\n",
    "\n",
    "$k$ is calculated as the factor of our $\\alpha$ and some market liquidity factor $K$. In the paper, it is written that:\n",
    "\n",
    "$$\n",
    "\\Lambda P(\\Delta p > \\delta) = \\Lambda P(\\ln(\\mathcal{Q}) > K\\delta)\n",
    "$$\n",
    "\n",
    "Using some simple arithmetic, we find that:\n",
    "\n",
    "$$\n",
    "K = \\frac{\\ln(\\mathcal{Q})}{\\Delta p}\n",
    "$$\n",
    "\n",
    "Where $\\mathcal{Q}$ is the size of a market order and $\\Delta p$ is the price impact of said market order. Using this information, we can estimate a daily value for $K$ and use that in our backtests:"
   ]
  },
  {
   "cell_type": "code",
   "execution_count": 361,
   "metadata": {},
   "outputs": [],
   "source": [
    "# Calculate avg price change per day\n",
    "deltap = (temp[1] - temp[1].shift(-1)).groupby(pd.Grouper(freq='1D')).mean().ffill()\n",
    "\n",
    "lnQ = np.log(temp[2].groupby(pd.Grouper(freq='1D')).mean().ffill())\n",
    "K = lnQ / deltap\n",
    "#K * alpha\n",
    "K = K.replace([np.inf, -np.inf], np.nan).dropna().shift(1)#.mean()"
   ]
  },
  {
   "cell_type": "code",
   "execution_count": 362,
   "metadata": {},
   "outputs": [],
   "source": [
    "lnQ = np.log(temp[2])\n"
   ]
  },
  {
   "cell_type": "code",
   "execution_count": 363,
   "metadata": {},
   "outputs": [
    {
     "data": {
      "text/plain": [
       "2"
      ]
     },
     "execution_count": 363,
     "metadata": {},
     "output_type": "execute_result"
    }
   ],
   "source": [
    "(temp[2].values == temp[2].values.min()).sum()"
   ]
  },
  {
   "cell_type": "code",
   "execution_count": 364,
   "metadata": {},
   "outputs": [
    {
     "data": {
      "text/plain": [
       "192424.87098656403"
      ]
     },
     "execution_count": 364,
     "metadata": {},
     "output_type": "execute_result"
    }
   ],
   "source": [
    "(K * alpha).mean()"
   ]
  },
  {
   "cell_type": "code",
   "execution_count": 365,
   "metadata": {},
   "outputs": [
    {
     "data": {
      "text/plain": [
       "(2247,)"
      ]
     },
     "execution_count": 365,
     "metadata": {},
     "output_type": "execute_result"
    }
   ],
   "source": [
    "np.shape(alpha)"
   ]
  },
  {
   "cell_type": "code",
   "execution_count": 810,
   "metadata": {},
   "outputs": [],
   "source": [
    "klist = K * alpha"
   ]
  },
  {
   "cell_type": "code",
   "execution_count": 813,
   "metadata": {},
   "outputs": [],
   "source": [
    "klist[klist==klist.max()] = 5"
   ]
  },
  {
   "cell_type": "code",
   "execution_count": 814,
   "metadata": {},
   "outputs": [
    {
     "data": {
      "text/plain": [
       "<AxesSubplot:xlabel='0'>"
      ]
     },
     "execution_count": 814,
     "metadata": {},
     "output_type": "execute_result"
    },
    {
     "data": {
      "image/png": "[encoded data removed]",
      "text/plain": [
       "<Figure size 432x288 with 1 Axes>"
      ]
     },
     "metadata": {
      "needs_background": "light"
     },
     "output_type": "display_data"
    }
   ],
   "source": [
    "klist.rolling(30).mean().plot()"
   ]
  },
  {
   "cell_type": "markdown",
   "metadata": {},
   "source": [
    "# Finding Optimal $\\gamma$\n",
    "\n",
    "Let's first try finding the best gamma over the entire time series, then we can go back and use something like yesterday's best gamma to fit today"
   ]
  },
  {
   "cell_type": "code",
   "execution_count": 387,
   "metadata": {},
   "outputs": [
    {
     "data": {
      "text/plain": [
       "30917915"
      ]
     },
     "execution_count": 387,
     "metadata": {},
     "output_type": "execute_result"
    }
   ],
   "source": [
    "len(temp.values)"
   ]
  },
  {
   "cell_type": "code",
   "execution_count": 388,
   "metadata": {},
   "outputs": [
    {
     "ename": "KeyboardInterrupt",
     "evalue": "",
     "output_type": "error",
     "traceback": [
      "\u001b[0;31m---------------------------------------------------------------------------\u001b[0m",
      "\u001b[0;31mKeyboardInterrupt\u001b[0m                         Traceback (most recent call last)",
      "\u001b[0;32m<ipython-input-388-847be93bdad6>\u001b[0m in \u001b[0;36m<module>\u001b[0;34m\u001b[0m\n\u001b[1;32m     82\u001b[0m \u001b[0msignal\u001b[0m\u001b[0;34m=\u001b[0m\u001b[0;34m[\u001b[0m\u001b[0;34m]\u001b[0m\u001b[0;34m\u001b[0m\u001b[0;34m\u001b[0m\u001b[0m\n\u001b[1;32m     83\u001b[0m \u001b[0;32mfor\u001b[0m \u001b[0mg\u001b[0m \u001b[0;32min\u001b[0m \u001b[0mrange\u001b[0m\u001b[0;34m(\u001b[0m\u001b[0mlen\u001b[0m\u001b[0;34m(\u001b[0m\u001b[0mgammas\u001b[0m\u001b[0;34m)\u001b[0m\u001b[0;34m)\u001b[0m\u001b[0;34m:\u001b[0m\u001b[0;34m\u001b[0m\u001b[0;34m\u001b[0m\u001b[0m\n\u001b[0;32m---> 84\u001b[0;31m     \u001b[0msignal\u001b[0m\u001b[0;34m.\u001b[0m\u001b[0mappend\u001b[0m\u001b[0;34m(\u001b[0m\u001b[0mqueue\u001b[0m\u001b[0;34m.\u001b[0m\u001b[0mget\u001b[0m\u001b[0;34m(\u001b[0m\u001b[0;34m)\u001b[0m\u001b[0;34m)\u001b[0m \u001b[0;31m# Returns output or blocks until ready\u001b[0m\u001b[0;34m\u001b[0m\u001b[0;34m\u001b[0m\u001b[0m\n\u001b[0m\u001b[1;32m     85\u001b[0m     \u001b[0;31m# Process my output\u001b[0m\u001b[0;34m\u001b[0m\u001b[0;34m\u001b[0m\u001b[0;34m\u001b[0m\u001b[0m\n",
      "\u001b[0;32m~/opt/anaconda3/lib/python3.7/multiprocessing/queues.py\u001b[0m in \u001b[0;36mget\u001b[0;34m(self, block, timeout)\u001b[0m\n\u001b[1;32m     92\u001b[0m         \u001b[0;32mif\u001b[0m \u001b[0mblock\u001b[0m \u001b[0;32mand\u001b[0m \u001b[0mtimeout\u001b[0m \u001b[0;32mis\u001b[0m \u001b[0;32mNone\u001b[0m\u001b[0;34m:\u001b[0m\u001b[0;34m\u001b[0m\u001b[0;34m\u001b[0m\u001b[0m\n\u001b[1;32m     93\u001b[0m             \u001b[0;32mwith\u001b[0m \u001b[0mself\u001b[0m\u001b[0;34m.\u001b[0m\u001b[0m_rlock\u001b[0m\u001b[0;34m:\u001b[0m\u001b[0;34m\u001b[0m\u001b[0;34m\u001b[0m\u001b[0m\n\u001b[0;32m---> 94\u001b[0;31m                 \u001b[0mres\u001b[0m \u001b[0;34m=\u001b[0m \u001b[0mself\u001b[0m\u001b[0;34m.\u001b[0m\u001b[0m_recv_bytes\u001b[0m\u001b[0;34m(\u001b[0m\u001b[0;34m)\u001b[0m\u001b[0;34m\u001b[0m\u001b[0;34m\u001b[0m\u001b[0m\n\u001b[0m\u001b[1;32m     95\u001b[0m             \u001b[0mself\u001b[0m\u001b[0;34m.\u001b[0m\u001b[0m_sem\u001b[0m\u001b[0;34m.\u001b[0m\u001b[0mrelease\u001b[0m\u001b[0;34m(\u001b[0m\u001b[0;34m)\u001b[0m\u001b[0;34m\u001b[0m\u001b[0;34m\u001b[0m\u001b[0m\n\u001b[1;32m     96\u001b[0m         \u001b[0;32melse\u001b[0m\u001b[0;34m:\u001b[0m\u001b[0;34m\u001b[0m\u001b[0;34m\u001b[0m\u001b[0m\n",
      "\u001b[0;32m~/opt/anaconda3/lib/python3.7/multiprocessing/connection.py\u001b[0m in \u001b[0;36mrecv_bytes\u001b[0;34m(self, maxlength)\u001b[0m\n\u001b[1;32m    214\u001b[0m         \u001b[0;32mif\u001b[0m \u001b[0mmaxlength\u001b[0m \u001b[0;32mis\u001b[0m \u001b[0;32mnot\u001b[0m \u001b[0;32mNone\u001b[0m \u001b[0;32mand\u001b[0m \u001b[0mmaxlength\u001b[0m \u001b[0;34m<\u001b[0m \u001b[0;36m0\u001b[0m\u001b[0;34m:\u001b[0m\u001b[0;34m\u001b[0m\u001b[0;34m\u001b[0m\u001b[0m\n\u001b[1;32m    215\u001b[0m             \u001b[0;32mraise\u001b[0m \u001b[0mValueError\u001b[0m\u001b[0;34m(\u001b[0m\u001b[0;34m\"negative maxlength\"\u001b[0m\u001b[0;34m)\u001b[0m\u001b[0;34m\u001b[0m\u001b[0;34m\u001b[0m\u001b[0m\n\u001b[0;32m--> 216\u001b[0;31m         \u001b[0mbuf\u001b[0m \u001b[0;34m=\u001b[0m \u001b[0mself\u001b[0m\u001b[0;34m.\u001b[0m\u001b[0m_recv_bytes\u001b[0m\u001b[0;34m(\u001b[0m\u001b[0mmaxlength\u001b[0m\u001b[0;34m)\u001b[0m\u001b[0;34m\u001b[0m\u001b[0;34m\u001b[0m\u001b[0m\n\u001b[0m\u001b[1;32m    217\u001b[0m         \u001b[0;32mif\u001b[0m \u001b[0mbuf\u001b[0m \u001b[0;32mis\u001b[0m \u001b[0;32mNone\u001b[0m\u001b[0;34m:\u001b[0m\u001b[0;34m\u001b[0m\u001b[0;34m\u001b[0m\u001b[0m\n\u001b[1;32m    218\u001b[0m             \u001b[0mself\u001b[0m\u001b[0;34m.\u001b[0m\u001b[0m_bad_message_length\u001b[0m\u001b[0;34m(\u001b[0m\u001b[0;34m)\u001b[0m\u001b[0;34m\u001b[0m\u001b[0;34m\u001b[0m\u001b[0m\n",
      "\u001b[0;32m~/opt/anaconda3/lib/python3.7/multiprocessing/connection.py\u001b[0m in \u001b[0;36m_recv_bytes\u001b[0;34m(self, maxsize)\u001b[0m\n\u001b[1;32m    405\u001b[0m \u001b[0;34m\u001b[0m\u001b[0m\n\u001b[1;32m    406\u001b[0m     \u001b[0;32mdef\u001b[0m \u001b[0m_recv_bytes\u001b[0m\u001b[0;34m(\u001b[0m\u001b[0mself\u001b[0m\u001b[0;34m,\u001b[0m \u001b[0mmaxsize\u001b[0m\u001b[0;34m=\u001b[0m\u001b[0;32mNone\u001b[0m\u001b[0;34m)\u001b[0m\u001b[0;34m:\u001b[0m\u001b[0;34m\u001b[0m\u001b[0;34m\u001b[0m\u001b[0m\n\u001b[0;32m--> 407\u001b[0;31m         \u001b[0mbuf\u001b[0m \u001b[0;34m=\u001b[0m \u001b[0mself\u001b[0m\u001b[0;34m.\u001b[0m\u001b[0m_recv\u001b[0m\u001b[0;34m(\u001b[0m\u001b[0;36m4\u001b[0m\u001b[0;34m)\u001b[0m\u001b[0;34m\u001b[0m\u001b[0;34m\u001b[0m\u001b[0m\n\u001b[0m\u001b[1;32m    408\u001b[0m         \u001b[0msize\u001b[0m\u001b[0;34m,\u001b[0m \u001b[0;34m=\u001b[0m \u001b[0mstruct\u001b[0m\u001b[0;34m.\u001b[0m\u001b[0munpack\u001b[0m\u001b[0;34m(\u001b[0m\u001b[0;34m\"!i\"\u001b[0m\u001b[0;34m,\u001b[0m \u001b[0mbuf\u001b[0m\u001b[0;34m.\u001b[0m\u001b[0mgetvalue\u001b[0m\u001b[0;34m(\u001b[0m\u001b[0;34m)\u001b[0m\u001b[0;34m)\u001b[0m\u001b[0;34m\u001b[0m\u001b[0;34m\u001b[0m\u001b[0m\n\u001b[1;32m    409\u001b[0m         \u001b[0;32mif\u001b[0m \u001b[0mmaxsize\u001b[0m \u001b[0;32mis\u001b[0m \u001b[0;32mnot\u001b[0m \u001b[0;32mNone\u001b[0m \u001b[0;32mand\u001b[0m \u001b[0msize\u001b[0m \u001b[0;34m>\u001b[0m \u001b[0mmaxsize\u001b[0m\u001b[0;34m:\u001b[0m\u001b[0;34m\u001b[0m\u001b[0;34m\u001b[0m\u001b[0m\n",
      "\u001b[0;32m~/opt/anaconda3/lib/python3.7/multiprocessing/connection.py\u001b[0m in \u001b[0;36m_recv\u001b[0;34m(self, size, read)\u001b[0m\n\u001b[1;32m    377\u001b[0m         \u001b[0mremaining\u001b[0m \u001b[0;34m=\u001b[0m \u001b[0msize\u001b[0m\u001b[0;34m\u001b[0m\u001b[0;34m\u001b[0m\u001b[0m\n\u001b[1;32m    378\u001b[0m         \u001b[0;32mwhile\u001b[0m \u001b[0mremaining\u001b[0m \u001b[0;34m>\u001b[0m \u001b[0;36m0\u001b[0m\u001b[0;34m:\u001b[0m\u001b[0;34m\u001b[0m\u001b[0;34m\u001b[0m\u001b[0m\n\u001b[0;32m--> 379\u001b[0;31m             \u001b[0mchunk\u001b[0m \u001b[0;34m=\u001b[0m \u001b[0mread\u001b[0m\u001b[0;34m(\u001b[0m\u001b[0mhandle\u001b[0m\u001b[0;34m,\u001b[0m \u001b[0mremaining\u001b[0m\u001b[0;34m)\u001b[0m\u001b[0;34m\u001b[0m\u001b[0;34m\u001b[0m\u001b[0m\n\u001b[0m\u001b[1;32m    380\u001b[0m             \u001b[0mn\u001b[0m \u001b[0;34m=\u001b[0m \u001b[0mlen\u001b[0m\u001b[0;34m(\u001b[0m\u001b[0mchunk\u001b[0m\u001b[0;34m)\u001b[0m\u001b[0;34m\u001b[0m\u001b[0;34m\u001b[0m\u001b[0m\n\u001b[1;32m    381\u001b[0m             \u001b[0;32mif\u001b[0m \u001b[0mn\u001b[0m \u001b[0;34m==\u001b[0m \u001b[0;36m0\u001b[0m\u001b[0;34m:\u001b[0m\u001b[0;34m\u001b[0m\u001b[0;34m\u001b[0m\u001b[0m\n",
      "\u001b[0;31mKeyboardInterrupt\u001b[0m: "
     ]
    }
   ],
   "source": [
    "from multiprocessing import Process, Queue\n",
    "\n",
    "gammas = np.logspace(-1,1,20)\n",
    "\n",
    "def print_range(g, que):\n",
    "    \n",
    "    N = 60*60*24\n",
    "    T = 1\n",
    "    sigma = 0.3\n",
    "    dt = T/N\n",
    "    q0 = 0\n",
    "    gamma = g\n",
    "    k = 1.5\n",
    "\n",
    "    # Initialize empty array for pnl\n",
    "    pnl = np.zeros(N+2)\n",
    "\n",
    "    # Inventory\n",
    "    q = np.zeros(N+2)\n",
    "\n",
    "    # Capital\n",
    "    x = np.zeros(N+2)\n",
    "\n",
    "    # Reserve price\n",
    "    r = np.zeros(N+1)\n",
    "\n",
    "    for i in range(len(s)):\n",
    "\n",
    "        # Update daily values if necessary\n",
    "        A = Alist[Alist.index.date == temp.index[i].date()][0]\n",
    "\n",
    "        r[i] = s[i] - q[i] * gamma * sigma**2 * (T-i*dt)\n",
    "\n",
    "        spread = gamma * sigma**2 * (T - i * dt) + (2 / gamma) * np.log(1 + (gamma / k))\n",
    "\n",
    "        spread = spread / 2\n",
    "\n",
    "        # Adjust spreads for gap between reserve price\n",
    "        # and asset mid-price\n",
    "        gap = np.abs(r[i] - s[i])\n",
    "\n",
    "        if r[i] >= s[i]:\n",
    "            delta_a = spread + gap\n",
    "            delta_b = spread - gap    \n",
    "        else:\n",
    "            delta_a = spread - gap\n",
    "            delta_b = spread + gap\n",
    "\n",
    "        # Calculate our lambdas, (12)\n",
    "        lambda_a = A*np.exp(-k*delta_a) * dt\n",
    "        lambda_b = A*np.exp(-k*delta_b) * dt\n",
    "\n",
    "        # Restrict to domain of feasible probabilities\n",
    "        # i.e. [0,1]\n",
    "        prob_ask = max(0, min(lambda_a,1))\n",
    "        prob_bid = max(0, min(lambda_b,1))\n",
    "\n",
    "        # Determine whether or not we buy/sell according\n",
    "        # to the above probabilities\n",
    "        sell = np.random.choice([1,0], p=[prob_ask, 1-prob_ask])\n",
    "        buy  = np.random.choice([1,0], p=[prob_bid, 1-prob_bid])\n",
    "\n",
    "        # Adjust inventory to reflect transactions\n",
    "        q[i+1] = q[i] + buy - sell\n",
    "\n",
    "        # Calculate new capital\n",
    "        x[i+1] = x[i] + sell*(s[i]+delta_a) - buy*(s[i]-delta_b)\n",
    "\n",
    "        # Calculate pnl of assets\n",
    "        pnl[i+1] = x[i+1] + q[i+1]*s[i]\n",
    "    \n",
    "    que.put(pnl)\n",
    "    \n",
    "\n",
    "if __name__ == '__main__':\n",
    "    queue = Queue()\n",
    "    for g in range(len(gammas)):\n",
    "        p = Process(target=print_range, args=(gammas[g], queue,))\n",
    "        p.start()\n",
    "\n",
    "#time=np.empty(2,dtype='object')\n",
    "signal=[]\n",
    "for g in range(len(gammas)):\n",
    "    signal.append(queue.get()) # Returns output or blocks until ready\n",
    "    # Process my output"
   ]
  },
  {
   "cell_type": "code",
   "execution_count": 44,
   "metadata": {},
   "outputs": [
    {
     "data": {
      "text/plain": [
       "<AxesSubplot:>"
      ]
     },
     "execution_count": 44,
     "metadata": {},
     "output_type": "execute_result"
    },
    {
     "data": {
      "image/png": "[encoded data removed]",
      "text/plain": [
       "<Figure size 1080x576 with 1 Axes>"
      ]
     },
     "metadata": {
      "needs_background": "light"
     },
     "output_type": "display_data"
    }
   ],
   "source": [
    "pd.concat([pd.Series(x) for x in signal], axis=1).plot(figsize=(15,8))"
   ]
  },
  {
   "cell_type": "code",
   "execution_count": 48,
   "metadata": {},
   "outputs": [
    {
     "data": {
      "text/plain": [
       "array([0.98246641, 1.81144713, 0.971893  , 1.69909768, 0.94928941,\n",
       "       0.85746726, 0.96335381, 0.97763633, 1.76092766, 1.10458452,\n",
       "       1.74047433, 1.02071248, 1.7072897 , 0.99838405, 0.84370884,\n",
       "       1.82011176, 1.82364984, 1.80452375, 0.9671442 , 0.93863639])"
      ]
     },
     "execution_count": 48,
     "metadata": {},
     "output_type": "execute_result"
    }
   ],
   "source": [
    "sharpes = np.mean(signal, axis=1) / np.std(signal, axis=1)\n",
    "sharpes"
   ]
  },
  {
   "cell_type": "code",
   "execution_count": 49,
   "metadata": {},
   "outputs": [
    {
     "data": {
      "text/plain": [
       "array([ 0.1       ,  0.1274275 ,  0.16237767,  0.20691381,  0.26366509,\n",
       "        0.33598183,  0.42813324,  0.54555948,  0.6951928 ,  0.88586679,\n",
       "        1.12883789,  1.43844989,  1.83298071,  2.33572147,  2.97635144,\n",
       "        3.79269019,  4.83293024,  6.15848211,  7.8475997 , 10.        ])"
      ]
     },
     "execution_count": 49,
     "metadata": {},
     "output_type": "execute_result"
    }
   ],
   "source": [
    "gammas"
   ]
  },
  {
   "cell_type": "code",
   "execution_count": 50,
   "metadata": {},
   "outputs": [
    {
     "data": {
      "text/plain": [
       "<AxesSubplot:xlabel='Gamma'>"
      ]
     },
     "execution_count": 50,
     "metadata": {},
     "output_type": "execute_result"
    },
    {
     "data": {
      "image/png": "[encoded data removed]",
      "text/plain": [
       "<Figure size 432x288 with 1 Axes>"
      ]
     },
     "metadata": {
      "needs_background": "light"
     },
     "output_type": "display_data"
    }
   ],
   "source": [
    "pd.DataFrame([gammas, sharpes], index=['Gamma', 'Sharpe']).T.set_index('Gamma').plot()"
   ]
  },
  {
   "cell_type": "markdown",
   "metadata": {},
   "source": [
    "The best performing gamma appears to be approx. 3.59:"
   ]
  },
  {
   "cell_type": "markdown",
   "metadata": {},
   "source": [
    "# Estimating Volatility\n",
    "\n",
    "$\\sigma$ may be a little easier to model. Let's do a rolling 5-day window standard deviation:"
   ]
  },
  {
   "cell_type": "code",
   "execution_count": 494,
   "metadata": {},
   "outputs": [
    {
     "data": {
      "text/plain": [
       "<AxesSubplot:xlabel='0'>"
      ]
     },
     "execution_count": 494,
     "metadata": {},
     "output_type": "execute_result"
    },
    {
     "data": {
      "image/png": "[encoded data removed]",
      "text/plain": [
       "<Figure size 432x288 with 1 Axes>"
      ]
     },
     "metadata": {
      "needs_background": "light"
     },
     "output_type": "display_data"
    }
   ],
   "source": [
    "# Calculate avg standard deviation of price changes per day\n",
    "# Recall that our price is expected to evolve according to a BM with \n",
    "# volatility sigma\n",
    "sigmalist = temp[1].diff().groupby(pd.Grouper(freq='1D')).std().ffill().rolling(5).mean().shift(1)\n",
    "\n",
    "sigmalist.plot()"
   ]
  },
  {
   "cell_type": "markdown",
   "metadata": {},
   "source": [
    "# Over Whole Time Series"
   ]
  },
  {
   "cell_type": "code",
   "execution_count": 868,
   "metadata": {},
   "outputs": [],
   "source": [
    "def print_range(day, g, Alist, sigmalist, k):\n",
    "    \n",
    "    N = 60*60*24\n",
    "    T = 1\n",
    "    #sigma = 2\n",
    "    dt = T/N\n",
    "    q0 = 0\n",
    "    gamma = g\n",
    "    #k = 10\n",
    "\n",
    "    # Initialize empty array for pnl\n",
    "    pnl = np.zeros(N+2)\n",
    "\n",
    "    # Inventory\n",
    "    q = np.zeros(N+2)\n",
    "\n",
    "    # Capital\n",
    "    x = np.zeros(N+2)\n",
    "    \n",
    "    # Ask limit orders\n",
    "    r_a = np.zeros(N+1)\n",
    "\n",
    "    # Reserve price\n",
    "    r = np.zeros(N+1)\n",
    "    \n",
    "    # Bid limit orders\n",
    "    r_b = np.zeros(N+1)\n",
    "    \n",
    "    s = day[1].values\n",
    "    \n",
    "    A = Alist#[Alist.index.date == day.index[0]][0][0]\n",
    "    sigma = sigmalist[sigmalist.index.date == day.index[0]][0]\n",
    "    #k = 0.00001#k = klist[klist.index.date == day.index[0]][0]\n",
    "\n",
    "    for i in range(len(s)):\n",
    "\n",
    "        # Update daily values if necessary\n",
    "        #A = Alist[Alist.index.date == da.index[i].date()][0]\n",
    "\n",
    "        r[i] = s[i] - q[i] * gamma * sigma**2 * (T-i*dt)\n",
    "        #print(r[i])\n",
    "\n",
    "        spread = gamma * sigma**2 * (T - i * dt) + (2 / gamma) * np.log(1 + (gamma / k))\n",
    "\n",
    "        spread = spread / 2\n",
    "\n",
    "        # Adjust spreads for gap between reserve price\n",
    "        # and asset mid-price\n",
    "        gap = np.abs(r[i] - s[i])\n",
    "\n",
    "        if r[i] >= s[i]:\n",
    "            delta_a = spread + gap\n",
    "            delta_b = spread - gap    \n",
    "        else:\n",
    "            delta_a = spread - gap\n",
    "            delta_b = spread + gap\n",
    "            \n",
    "        r_a[i] = r[i] + delta_a\n",
    "        r_b[i] = r_b[i] + delta_b\n",
    "\n",
    "        # Calculate our lambdas, (12)\n",
    "        lambda_a = A*np.exp(-k*delta_a) * dt\n",
    "        lambda_b = A*np.exp(-k*delta_b) * dt\n",
    "\n",
    "        # Restrict to domain of feasible probabilities\n",
    "        # i.e. [0,1]\n",
    "        prob_ask = max(0, min(lambda_a,1))\n",
    "        prob_bid = max(0, min(lambda_b,1))\n",
    "\n",
    "        # Determine whether or not we buy/sell according\n",
    "        # to the above probabilities\n",
    "        sell = np.random.choice([1,0], p=[prob_ask, 1-prob_ask])\n",
    "        buy  = np.random.choice([1,0], p=[prob_bid, 1-prob_bid])\n",
    "\n",
    "        # Adjust inventory to reflect transactions\n",
    "        q[i+1] = q[i] + buy - sell\n",
    "\n",
    "        # Calculate new capital\n",
    "        x[i+1] = x[i] + sell*(s[i]+delta_a) - buy*(s[i]-delta_b)\n",
    "\n",
    "        # Calculate pnl of assets\n",
    "        pnl[i+1] = x[i+1] + q[i+1]*s[i]\n",
    "    \n",
    "    return pnl, r, r_a, r_b"
   ]
  },
  {
   "cell_type": "code",
   "execution_count": 869,
   "metadata": {},
   "outputs": [],
   "source": [
    "pnldict = {}\n",
    "rdict = {}\n",
    "r_adict = {}\n",
    "r_bdict = {}\n",
    "\n",
    "start = time.time()\n",
    "for day_num in range(ndays-10,ndays-1):#range(ndays-1):\n",
    "    var = s[nsecs*day_num:nsecs*(day_num+1)]\n",
    "    pnldict[day_num], rdict[day_num], r_adict[day_num], r_bdict[day_num] = print_range(var, 1, 10000, sigmalist, 1.5)\n",
    "end = time.time()"
   ]
  },
  {
   "cell_type": "code",
   "execution_count": 867,
   "metadata": {},
   "outputs": [],
   "source": [
    "for i in range(1,len(pnldict.keys())):\n",
    "    pnldict[list(pnldict.keys())[i]] += pnldict[list(pnldict.keys())[i-1]][-2]"
   ]
  },
  {
   "cell_type": "code",
   "execution_count": 847,
   "metadata": {},
   "outputs": [
    {
     "data": {
      "text/plain": [
       "<AxesSubplot:>"
      ]
     },
     "execution_count": 847,
     "metadata": {},
     "output_type": "execute_result"
    },
    {
     "data": {
      "image/png": "[encoded data removed]",
      "text/plain": [
       "<Figure size 432x288 with 1 Axes>"
      ]
     },
     "metadata": {
      "needs_background": "light"
     },
     "output_type": "display_data"
    }
   ],
   "source": [
    "res = pd.concat([pd.Series(x) for x in pnldict.values()], axis=0)\n",
    "res.index = range(len(res.index))\n",
    "res.plot()"
   ]
  },
  {
   "cell_type": "code",
   "execution_count": 871,
   "metadata": {},
   "outputs": [],
   "source": [
    "var['ra'] = r_adict[day_num][:-1]\n",
    "var['rb'] = r_bdict[day_num][:-1]"
   ]
  },
  {
   "cell_type": "code",
   "execution_count": 872,
   "metadata": {},
   "outputs": [
    {
     "data": {
      "text/plain": [
       "<AxesSubplot:xlabel='0'>"
      ]
     },
     "execution_count": 872,
     "metadata": {},
     "output_type": "execute_result"
    },
    {
     "data": {
      "image/png": "[encoded data removed]",
      "text/plain": [
       "<Figure size 432x288 with 1 Axes>"
      ]
     },
     "metadata": {
      "needs_background": "light"
     },
     "output_type": "display_data"
    }
   ],
   "source": [
    "var.plot()"
   ]
  },
  {
   "cell_type": "code",
   "execution_count": 863,
   "metadata": {},
   "outputs": [
    {
     "data": {
      "text/html": [
       "<div>\n",
       "<style scoped>\n",
       "    .dataframe tbody tr th:only-of-type {\n",
       "        vertical-align: middle;\n",
       "    }\n",
       "\n",
       "    .dataframe tbody tr th {\n",
       "        vertical-align: top;\n",
       "    }\n",
       "\n",
       "    .dataframe thead th {\n",
       "        text-align: right;\n",
       "    }\n",
       "</style>\n",
       "<table border=\"1\" class=\"dataframe\">\n",
       "  <thead>\n",
       "    <tr style=\"text-align: right;\">\n",
       "      <th></th>\n",
       "      <th>1</th>\n",
       "      <th>2</th>\n",
       "    </tr>\n",
       "    <tr>\n",
       "      <th>0</th>\n",
       "      <th></th>\n",
       "      <th></th>\n",
       "    </tr>\n",
       "  </thead>\n",
       "  <tbody>\n",
       "    <tr>\n",
       "      <th>2015-08-07 14:03:25</th>\n",
       "      <td>3.00000</td>\n",
       "      <td>70.317378</td>\n",
       "    </tr>\n",
       "    <tr>\n",
       "      <th>2015-08-07 14:03:29</th>\n",
       "      <td>3.00000</td>\n",
       "      <td>11.539900</td>\n",
       "    </tr>\n",
       "    <tr>\n",
       "      <th>2015-08-07 17:19:22</th>\n",
       "      <td>3.00001</td>\n",
       "      <td>1.073291</td>\n",
       "    </tr>\n",
       "    <tr>\n",
       "      <th>2015-08-07 17:19:22</th>\n",
       "      <td>3.00000</td>\n",
       "      <td>41.000000</td>\n",
       "    </tr>\n",
       "    <tr>\n",
       "      <th>2015-08-08 06:43:18</th>\n",
       "      <td>3.00000</td>\n",
       "      <td>0.400000</td>\n",
       "    </tr>\n",
       "    <tr>\n",
       "      <th>...</th>\n",
       "      <td>...</td>\n",
       "      <td>...</td>\n",
       "    </tr>\n",
       "    <tr>\n",
       "      <th>2021-09-30 23:59:49</th>\n",
       "      <td>2999.79000</td>\n",
       "      <td>0.632842</td>\n",
       "    </tr>\n",
       "    <tr>\n",
       "      <th>2021-09-30 23:59:49</th>\n",
       "      <td>2999.79000</td>\n",
       "      <td>0.453733</td>\n",
       "    </tr>\n",
       "    <tr>\n",
       "      <th>2021-09-30 23:59:59</th>\n",
       "      <td>3000.22000</td>\n",
       "      <td>0.179109</td>\n",
       "    </tr>\n",
       "    <tr>\n",
       "      <th>2021-09-30 23:59:59</th>\n",
       "      <td>3000.22000</td>\n",
       "      <td>0.632842</td>\n",
       "    </tr>\n",
       "    <tr>\n",
       "      <th>2021-09-30 23:59:59</th>\n",
       "      <td>3000.22000</td>\n",
       "      <td>0.452355</td>\n",
       "    </tr>\n",
       "  </tbody>\n",
       "</table>\n",
       "<p>30917915 rows × 2 columns</p>\n",
       "</div>"
      ],
      "text/plain": [
       "                              1          2\n",
       "0                                         \n",
       "2015-08-07 14:03:25     3.00000  70.317378\n",
       "2015-08-07 14:03:29     3.00000  11.539900\n",
       "2015-08-07 17:19:22     3.00001   1.073291\n",
       "2015-08-07 17:19:22     3.00000  41.000000\n",
       "2015-08-08 06:43:18     3.00000   0.400000\n",
       "...                         ...        ...\n",
       "2021-09-30 23:59:49  2999.79000   0.632842\n",
       "2021-09-30 23:59:49  2999.79000   0.453733\n",
       "2021-09-30 23:59:59  3000.22000   0.179109\n",
       "2021-09-30 23:59:59  3000.22000   0.632842\n",
       "2021-09-30 23:59:59  3000.22000   0.452355\n",
       "\n",
       "[30917915 rows x 2 columns]"
      ]
     },
     "execution_count": 863,
     "metadata": {},
     "output_type": "execute_result"
    }
   ],
   "source": [
    "temp"
   ]
  },
  {
   "cell_type": "markdown",
   "metadata": {},
   "source": [
    "# Ignore Below Here"
   ]
  },
  {
   "cell_type": "markdown",
   "metadata": {},
   "source": [
    "Since we will indeed need mid price data i.e. the average of the closest bid and asks, I will need to use the kraken API to fetch these bid/asks. "
   ]
  },
  {
   "cell_type": "code",
   "execution_count": 44,
   "metadata": {},
   "outputs": [
    {
     "data": {
      "text/html": [
       "<div>\n",
       "<style scoped>\n",
       "    .dataframe tbody tr th:only-of-type {\n",
       "        vertical-align: middle;\n",
       "    }\n",
       "\n",
       "    .dataframe tbody tr th {\n",
       "        vertical-align: top;\n",
       "    }\n",
       "\n",
       "    .dataframe thead th {\n",
       "        text-align: right;\n",
       "    }\n",
       "</style>\n",
       "<table border=\"1\" class=\"dataframe\">\n",
       "  <thead>\n",
       "    <tr style=\"text-align: right;\">\n",
       "      <th></th>\n",
       "      <th>Bid Price</th>\n",
       "      <th>Bid Amount</th>\n",
       "      <th>Bid Time</th>\n",
       "      <th>Ask Price</th>\n",
       "      <th>Ask Amount</th>\n",
       "      <th>Ask Time</th>\n",
       "    </tr>\n",
       "    <tr>\n",
       "      <th>dtime</th>\n",
       "      <th></th>\n",
       "      <th></th>\n",
       "      <th></th>\n",
       "      <th></th>\n",
       "      <th></th>\n",
       "      <th></th>\n",
       "    </tr>\n",
       "  </thead>\n",
       "  <tbody>\n",
       "    <tr>\n",
       "      <th>2021-10-31 01:52:21</th>\n",
       "      <td>4371.86000</td>\n",
       "      <td>0.344</td>\n",
       "      <td>1635645141</td>\n",
       "      <td>4350.45000</td>\n",
       "      <td>57.225</td>\n",
       "      <td>1635645141</td>\n",
       "    </tr>\n",
       "    <tr>\n",
       "      <th>2021-10-31 01:52:21</th>\n",
       "      <td>4373.64000</td>\n",
       "      <td>0.024</td>\n",
       "      <td>1635645141</td>\n",
       "      <td>4350.45000</td>\n",
       "      <td>57.225</td>\n",
       "      <td>1635645141</td>\n",
       "    </tr>\n",
       "    <tr>\n",
       "      <th>2021-10-31 01:52:22</th>\n",
       "      <td>4372.04000</td>\n",
       "      <td>45.760</td>\n",
       "      <td>1635645142</td>\n",
       "      <td>4356.69000</td>\n",
       "      <td>14.300</td>\n",
       "      <td>1635645142</td>\n",
       "    </tr>\n",
       "    <tr>\n",
       "      <th>2021-10-31 01:52:22</th>\n",
       "      <td>4372.04000</td>\n",
       "      <td>45.760</td>\n",
       "      <td>1635645142</td>\n",
       "      <td>4363.47000</td>\n",
       "      <td>0.452</td>\n",
       "      <td>1635645142</td>\n",
       "    </tr>\n",
       "    <tr>\n",
       "      <th>2021-10-31 01:52:22</th>\n",
       "      <td>4372.04000</td>\n",
       "      <td>45.760</td>\n",
       "      <td>1635645142</td>\n",
       "      <td>4360.73000</td>\n",
       "      <td>4.500</td>\n",
       "      <td>1635645142</td>\n",
       "    </tr>\n",
       "    <tr>\n",
       "      <th>...</th>\n",
       "      <td>...</td>\n",
       "      <td>...</td>\n",
       "      <td>...</td>\n",
       "      <td>...</td>\n",
       "      <td>...</td>\n",
       "      <td>...</td>\n",
       "    </tr>\n",
       "    <tr>\n",
       "      <th>2021-10-31 01:53:12</th>\n",
       "      <td>4389.27000</td>\n",
       "      <td>121.141</td>\n",
       "      <td>1635645192</td>\n",
       "      <td>4345.59000</td>\n",
       "      <td>33.019</td>\n",
       "      <td>1635645192</td>\n",
       "    </tr>\n",
       "    <tr>\n",
       "      <th>2021-10-31 01:53:12</th>\n",
       "      <td>4377.46000</td>\n",
       "      <td>22.713</td>\n",
       "      <td>1635645192</td>\n",
       "      <td>4345.59000</td>\n",
       "      <td>33.019</td>\n",
       "      <td>1635645192</td>\n",
       "    </tr>\n",
       "    <tr>\n",
       "      <th>2021-10-31 01:53:13</th>\n",
       "      <td>4374.37000</td>\n",
       "      <td>0.354</td>\n",
       "      <td>1635645193</td>\n",
       "      <td>4362.84000</td>\n",
       "      <td>1.958</td>\n",
       "      <td>1635645193</td>\n",
       "    </tr>\n",
       "    <tr>\n",
       "      <th>2021-10-31 01:53:13</th>\n",
       "      <td>4374.37000</td>\n",
       "      <td>0.354</td>\n",
       "      <td>1635645193</td>\n",
       "      <td>4364.92000</td>\n",
       "      <td>40.035</td>\n",
       "      <td>1635645193</td>\n",
       "    </tr>\n",
       "    <tr>\n",
       "      <th>2021-10-31 01:53:13</th>\n",
       "      <td>4374.37000</td>\n",
       "      <td>0.354</td>\n",
       "      <td>1635645193</td>\n",
       "      <td>4363.88000</td>\n",
       "      <td>0.458</td>\n",
       "      <td>1635645193</td>\n",
       "    </tr>\n",
       "  </tbody>\n",
       "</table>\n",
       "<p>117 rows × 6 columns</p>\n",
       "</div>"
      ],
      "text/plain": [
       "                      Bid Price Bid Amount    Bid Time   Ask Price Ask Amount  \\\n",
       "dtime                                                                           \n",
       "2021-10-31 01:52:21  4371.86000      0.344  1635645141  4350.45000     57.225   \n",
       "2021-10-31 01:52:21  4373.64000      0.024  1635645141  4350.45000     57.225   \n",
       "2021-10-31 01:52:22  4372.04000     45.760  1635645142  4356.69000     14.300   \n",
       "2021-10-31 01:52:22  4372.04000     45.760  1635645142  4363.47000      0.452   \n",
       "2021-10-31 01:52:22  4372.04000     45.760  1635645142  4360.73000      4.500   \n",
       "...                         ...        ...         ...         ...        ...   \n",
       "2021-10-31 01:53:12  4389.27000    121.141  1635645192  4345.59000     33.019   \n",
       "2021-10-31 01:53:12  4377.46000     22.713  1635645192  4345.59000     33.019   \n",
       "2021-10-31 01:53:13  4374.37000      0.354  1635645193  4362.84000      1.958   \n",
       "2021-10-31 01:53:13  4374.37000      0.354  1635645193  4364.92000     40.035   \n",
       "2021-10-31 01:53:13  4374.37000      0.354  1635645193  4363.88000      0.458   \n",
       "\n",
       "                       Ask Time  \n",
       "dtime                            \n",
       "2021-10-31 01:52:21  1635645141  \n",
       "2021-10-31 01:52:21  1635645141  \n",
       "2021-10-31 01:52:22  1635645142  \n",
       "2021-10-31 01:52:22  1635645142  \n",
       "2021-10-31 01:52:22  1635645142  \n",
       "...                         ...  \n",
       "2021-10-31 01:53:12  1635645192  \n",
       "2021-10-31 01:53:12  1635645192  \n",
       "2021-10-31 01:53:13  1635645193  \n",
       "2021-10-31 01:53:13  1635645193  \n",
       "2021-10-31 01:53:13  1635645193  \n",
       "\n",
       "[117 rows x 6 columns]"
      ]
     },
     "execution_count": 44,
     "metadata": {},
     "output_type": "execute_result"
    }
   ],
   "source": [
    "api = krakenex.API()\n",
    "k = KrakenAPI(api)\n",
    "book = k.get_order_book('XETHZUSD')\n",
    "df = pd.merge(book[0], book[1], left_index=True, right_index=True)\n",
    "df = df.rename({\"price_x\":\"Bid Price\",\"volume_x\":\"Bid Amount\", \"time_x\":\"Bid Time\",\n",
    "                \"price_y\":\"Ask Price\",\"volume_y\":\"Ask Amount\", \"time_y\":\"Ask Time\"}, axis='columns')\n",
    "df"
   ]
  },
  {
   "cell_type": "markdown",
   "metadata": {},
   "source": [
    "This makes things a lot easier. Kraken's endpoint is extremely useful! Let's see how far back we can retrieve the data:"
   ]
  },
  {
   "cell_type": "code",
   "execution_count": 25,
   "metadata": {},
   "outputs": [],
   "source": [
    "api = krakenex.API()\n",
    "k = KrakenAPI(api)\n",
    "book = k.get_order_book('XETHZUSD', count = 10000)\n",
    "df = pd.merge(book[0], book[1], left_index=True, right_index=True)\n",
    "df = df.rename({\"price_x\":\"Bid Price\",\"volume_x\":\"Bid Amount\", \"time_x\":\"Bid Time\",\n",
    "                \"price_y\":\"Ask Price\",\"volume_y\":\"Ask Amount\", \"time_y\":\"Ask Time\"}, axis='columns')"
   ]
  },
  {
   "cell_type": "code",
   "execution_count": 274,
   "metadata": {},
   "outputs": [
    {
     "ename": "NameError",
     "evalue": "name 'df' is not defined",
     "output_type": "error",
     "traceback": [
      "\u001b[0;31m---------------------------------------------------------------------------\u001b[0m",
      "\u001b[0;31mNameError\u001b[0m                                 Traceback (most recent call last)",
      "\u001b[0;32m<ipython-input-274-00cf07b74dcd>\u001b[0m in \u001b[0;36m<module>\u001b[0;34m\u001b[0m\n\u001b[0;32m----> 1\u001b[0;31m \u001b[0mdf\u001b[0m\u001b[0;34m\u001b[0m\u001b[0;34m\u001b[0m\u001b[0m\n\u001b[0m",
      "\u001b[0;31mNameError\u001b[0m: name 'df' is not defined"
     ]
    }
   ],
   "source": [
    "df"
   ]
  },
  {
   "cell_type": "code",
   "execution_count": 35,
   "metadata": {},
   "outputs": [
    {
     "name": "stdout",
     "output_type": "stream",
     "text": [
      "{'error': [], 'result': {'XXBTZUSD': {'asks': [['62394.30000', '0.036', 1635522861], ['62396.10000', '0.032', 1635522852], ['62400.10000', '0.020', 1635522862], ['62405.00000', '0.065', 1635522862], ['62408.20000', '0.160', 1635522861], ['62408.30000', '1.107', 1635522853], ['62408.40000', '0.401', 1635522861], ['62412.50000', '0.596', 1635522861], ['62412.60000', '0.982', 1635522861], ['62412.70000', '1.094', 1635522853], ['62413.10000', '4.007', 1635522861], ['62415.60000', '1.200', 1635522846], ['62416.50000', '1.839', 1635522862], ['62417.20000', '0.641', 1635522861], ['62419.80000', '0.251', 1635522853], ['62422.00000', '0.126', 1635522853], ['62423.50000', '0.674', 1635522861], ['62424.90000', '0.034', 1635522861], ['62426.20000', '0.025', 1635522838], ['62427.40000', '3.209', 1635522824], ['62431.10000', '0.018', 1635522861], ['62433.20000', '0.205', 1635522828], ['62439.00000', '3.206', 1635522857], ['62439.50000', '0.017', 1635522861], ['62443.20000', '0.058', 1635522861], ['62448.70000', '4.008', 1635522862], ['62449.00000', '0.470', 1635522861], ['62449.10000', '0.034', 1635522861], ['62454.90000', '0.115', 1635522854], ['62455.00000', '0.064', 1635522851], ['62458.40000', '0.243', 1635522862], ['62462.30000', '0.094', 1635522857], ['62462.40000', '0.200', 1635522854], ['62465.50000', '0.048', 1635522856], ['62466.20000', '0.025', 1635522848], ['62467.20000', '3.207', 1635522847], ['62470.50000', '0.010', 1635522846], ['62472.00000', '0.037', 1635522860], ['62472.40000', '0.101', 1635522852], ['62473.50000', '0.017', 1635522854], ['62474.40000', '0.042', 1635522853], ['62476.00000', '0.034', 1635522854], ['62476.30000', '1.016', 1635522851], ['62480.50000', '0.045', 1635522861], ['62480.60000', '3.206', 1635522860], ['62481.20000', '0.076', 1635522854], ['62481.60000', '4.006', 1635522788], ['62489.00000', '3.579', 1635522859], ['62492.10000', '0.266', 1635522827], ['62498.40000', '0.672', 1635522853], ['62498.80000', '0.001', 1635522848], ['62500.00000', '18.254', 1635522856], ['62502.20000', '0.005', 1635522860], ['62504.90000', '0.002', 1635522717], ['62506.10000', '0.001', 1635522712], ['62508.60000', '0.001', 1635522851], ['62510.60000', '3.177', 1635522861], ['62510.70000', '2.452', 1635522852], ['62513.80000', '2.502', 1635522838], ['62514.60000', '0.003', 1635522763], ['62517.40000', '4.007', 1635522759], ['62518.10000', '0.992', 1635522807], ['62523.80000', '0.003', 1635522766], ['62525.10000', '0.017', 1635522422], ['62525.20000', '0.002', 1635522852], ['62525.40000', '0.403', 1635522789], ['62529.70000', '0.001', 1635522688], ['62533.30000', '0.001', 1635522652], ['62537.80000', '0.077', 1635522861], ['62539.60000', '0.635', 1635522853], ['62540.60000', '0.937', 1635522859], ['62540.70000', '0.321', 1635522814], ['62541.80000', '0.440', 1635522839], ['62541.90000', '1.673', 1635522815], ['62542.10000', '0.049', 1635522816], ['62544.30000', '0.001', 1635275731], ['62546.00000', '0.119', 1635428137], ['62548.80000', '0.003', 1635522766], ['62549.50000', '0.011', 1635522681], ['62550.00000', '5.025', 1635522472], ['62551.80000', '4.010', 1635522825], ['62553.00000', '0.037', 1635522851], ['62553.80000', '1.858', 1635522818], ['62554.00000', '0.002', 1635522713], ['62555.00000', '0.061', 1635521407], ['62555.10000', '1.250', 1635522819], ['62555.90000', '0.001', 1635521354], ['62556.30000', '0.318', 1635522819], ['62556.80000', '0.290', 1635522818], ['62558.60000', '0.001', 1635522695], ['62559.00000', '0.020', 1635522711], ['62560.80000', '0.671', 1635522853], ['62561.10000', '0.004', 1635521409], ['62565.10000', '0.001', 1635522698], ['62568.70000', '0.873', 1635522822], ['62569.00000', '0.020', 1635522406], ['62573.60000', '0.003', 1635522577], ['62573.80000', '0.003', 1635522766], ['62575.70000', '0.060', 1635522649], ['62577.20000', '0.500', 1635522807]], 'bids': [['62391.30000', '0.002', 1635522862], ['62391.20000', '0.002', 1635522862], ['62382.20000', '0.073', 1635522861], ['62372.80000', '0.245', 1635522862], ['62372.20000', '4.007', 1635522860], ['62359.10000', '4.008', 1635522862], ['62353.90000', '0.640', 1635522861], ['62353.80000', '0.827', 1635522861], ['62353.70000', '0.872', 1635522861], ['62353.60000', '0.105', 1635522859], ['62353.10000', '1.009', 1635522850], ['62352.10000', '0.025', 1635522859], ['62350.30000', '0.438', 1635522861], ['62340.60000', '0.441', 1635522862], ['62339.50000', '3.207', 1635522847], ['62336.30000', '0.025', 1635522856], ['62332.40000', '1.000', 1635522850], ['62332.00000', '0.050', 1635522832], ['62328.30000', '0.085', 1635522853], ['62326.30000', '0.001', 1635522827], ['62326.20000', '0.005', 1635522826], ['62324.30000', '3.206', 1635522861], ['62321.30000', '0.297', 1635522862], ['62321.10000', '0.024', 1635522856], ['62320.90000', '0.025', 1635522836], ['62320.70000', '0.019', 1635522838], ['62320.50000', '0.017', 1635522812], ['62320.30000', '0.017', 1635522812], ['62320.10000', '0.011', 1635522812], ['62319.90000', '0.015', 1635522812], ['62317.90000', '0.200', 1635522858], ['62316.40000', '4.008', 1635522860], ['62312.40000', '0.001', 1635522845], ['62312.20000', '0.017', 1635522825], ['62309.30000', '0.057', 1635522859], ['62306.00000', '1.056', 1635522846], ['62305.80000', '0.036', 1635522852], ['62303.20000', '0.146', 1635522857], ['62301.20000', '0.006', 1635522731], ['62300.40000', '0.034', 1635522853], ['62297.70000', '0.017', 1635522844], ['62290.90000', '0.266', 1635522838], ['62290.60000', '0.401', 1635522848], ['62289.00000', '0.976', 1635522851], ['62288.00000', '0.073', 1635522830], ['62285.40000', '0.019', 1635522862], ['62285.30000', '3.298', 1635522861], ['62285.20000', '3.206', 1635522857], ['62282.40000', '0.010', 1635522857], ['62282.30000', '4.009', 1635522831], ['62276.20000', '0.003', 1635522834], ['62275.20000', '0.674', 1635522853], ['62274.70000', '0.037', 1635522852], ['62267.80000', '0.065', 1635522851], ['62267.70000', '0.081', 1635522453], ['62265.70000', '0.003', 1635522827], ['62263.00000', '0.017', 1635522816], ['62262.30000', '0.500', 1635522815], ['62261.70000', '2.537', 1635522853], ['62261.20000', '0.126', 1635522856], ['62260.40000', '2.439', 1635522834], ['62256.90000', '0.251', 1635522860], ['62251.20000', '0.007', 1635522850], ['62248.50000', '0.300', 1635522851], ['62246.30000', '4.011', 1635522809], ['62242.90000', '0.635', 1635522860], ['62240.40000', '0.034', 1635522812], ['62237.00000', '0.136', 1635522641], ['62235.80000', '0.205', 1635522831], ['62233.30000', '16.507', 1635522860], ['62228.30000', '0.873', 1635522755], ['62220.10000', '0.181', 1635522859], ['62220.00000', '0.001', 1635522842], ['62219.90000', '0.004', 1635522827], ['62208.00000', '4.005', 1635522726], ['62203.70000', '0.675', 1635522860], ['62201.20000', '0.005', 1635522731], ['62197.40000', '4.007', 1635522797], ['62193.40000', '0.942', 1635522841], ['62193.00000', '0.403', 1635522741], ['62184.00000', '0.037', 1635522853], ['62169.40000', '0.040', 1635522686], ['62151.50000', '0.500', 1635522768], ['62151.00000', '2.813', 1635522854], ['62150.10000', '1.684', 1635522761], ['62150.00000', '0.650', 1635522410], ['62148.90000', '0.292', 1635522854], ['62143.90000', '0.951', 1635522807], ['62143.30000', '0.316', 1635522759], ['62140.40000', '0.004', 1635522859], ['62140.30000', '2.310', 1635522853], ['62133.80000', '0.320', 1635522849], ['62133.60000', '0.049', 1635522849], ['62133.50000', '0.323', 1635522850], ['62128.90000', '5.607', 1635522726], ['62124.30000', '9.178', 1635522657], ['62116.00000', '0.052', 1635521091], ['62114.60000', '1.000', 1635522810], ['62110.10000', '0.320', 1635522495], ['62109.10000', '0.293', 1635522500]]}}}\n"
     ]
    }
   ],
   "source": [
    "import requests\n",
    "\n",
    "resp = requests.get('https://api.kraken.com/0/public/Depth?pair=XBTUSD&since=1548122302')\n",
    "\n",
    "print(resp.json())"
   ]
  },
  {
   "cell_type": "code",
   "execution_count": 52,
   "metadata": {},
   "outputs": [
    {
     "data": {
      "text/plain": [
       "datetime.datetime(2021, 10, 29, 15, 53, 21)"
      ]
     },
     "execution_count": 52,
     "metadata": {},
     "output_type": "execute_result"
    }
   ],
   "source": [
    "datetime.utcfromtimestamp(1635522801)"
   ]
  },
  {
   "cell_type": "code",
   "execution_count": 53,
   "metadata": {},
   "outputs": [],
   "source": [
    "import websocket"
   ]
  },
  {
   "cell_type": "code",
   "execution_count": 19,
   "metadata": {},
   "outputs": [
    {
     "data": {
      "text/plain": [
       "['AAVEETH',\n",
       " 'ADAETH',\n",
       " 'ADXETH',\n",
       " 'AEETH',\n",
       " 'AGIETH',\n",
       " 'AIONETH',\n",
       " 'AMBETH',\n",
       " 'APPCETH',\n",
       " 'ARDRETH',\n",
       " 'ARKETH',\n",
       " 'ARNETH',\n",
       " 'ASTETH',\n",
       " 'AXSETH',\n",
       " 'BATETH',\n",
       " 'BCCETH',\n",
       " 'BCDETH',\n",
       " 'BCNETH',\n",
       " 'BCPTETH',\n",
       " 'BETHETH',\n",
       " 'BLZETH',\n",
       " 'BNBETH',\n",
       " 'BNTETH',\n",
       " 'BQXETH',\n",
       " 'BRDETH',\n",
       " 'BTGETH',\n",
       " 'BTSETH',\n",
       " 'CDTETH',\n",
       " 'CHATETH',\n",
       " 'CLOAKETH',\n",
       " 'CMTETH',\n",
       " 'CNDETH',\n",
       " 'COVERETH',\n",
       " 'CVCETH',\n",
       " 'CVPETH',\n",
       " 'DASHETH',\n",
       " 'DATAETH',\n",
       " 'DENTETH',\n",
       " 'DEXEETH',\n",
       " 'DFETH',\n",
       " 'DGDETH',\n",
       " 'DLTETH',\n",
       " 'DNTETH',\n",
       " 'DOCKETH',\n",
       " 'EASYETH',\n",
       " 'EDOETH',\n",
       " 'ELFETH',\n",
       " 'ENGETH',\n",
       " 'ENJETH',\n",
       " 'EOSETH',\n",
       " 'ETCETH',\n",
       " 'ETHAUD',\n",
       " 'ETHBEARBUSD',\n",
       " 'ETHBEARUSDT',\n",
       " 'ETHBIDR',\n",
       " 'ETHBKRW',\n",
       " 'ETHBRL',\n",
       " 'ETHBTC',\n",
       " 'ETHBULLBUSD',\n",
       " 'ETHBULLUSDT',\n",
       " 'ETHBUSD',\n",
       " 'ETHDAI',\n",
       " 'ETHDOWNUSDT',\n",
       " 'ETHEUR',\n",
       " 'ETHGBP',\n",
       " 'ETHNGN',\n",
       " 'ETHPAX',\n",
       " 'ETHRUB',\n",
       " 'ETHTRY',\n",
       " 'ETHTUSD',\n",
       " 'ETHUAH',\n",
       " 'ETHUPUSDT',\n",
       " 'ETHUSDC',\n",
       " 'ETHUSDP',\n",
       " 'ETHUSDT',\n",
       " 'ETHZAR',\n",
       " 'EVXETH',\n",
       " 'EZETH',\n",
       " 'FIROETH',\n",
       " 'FRONTETH',\n",
       " 'FTMETH',\n",
       " 'FUELETH',\n",
       " 'FUNETH',\n",
       " 'GHSTETH',\n",
       " 'GLMETH',\n",
       " 'GNTETH',\n",
       " 'GRSETH',\n",
       " 'GRTETH',\n",
       " 'GTOETH',\n",
       " 'GVTETH',\n",
       " 'GXSETH',\n",
       " 'HCETH',\n",
       " 'HEGICETH',\n",
       " 'HOTETH',\n",
       " 'HSRETH',\n",
       " 'ICNETH',\n",
       " 'ICXETH',\n",
       " 'INSETH',\n",
       " 'IOSTETH',\n",
       " 'IOTAETH',\n",
       " 'IOTXETH',\n",
       " 'KEYETH',\n",
       " 'KMDETH',\n",
       " 'KNCETH',\n",
       " 'LENDETH',\n",
       " 'LINKETH',\n",
       " 'LOOMETH',\n",
       " 'LRCETH',\n",
       " 'LSKETH',\n",
       " 'LTCETH',\n",
       " 'LUNETH',\n",
       " 'MANAETH',\n",
       " 'MCOETH',\n",
       " 'MDAETH',\n",
       " 'MFTETH',\n",
       " 'MODETH',\n",
       " 'MTHETH',\n",
       " 'MTLETH',\n",
       " 'NANOETH',\n",
       " 'NASETH',\n",
       " 'NAVETH',\n",
       " 'NCASHETH',\n",
       " 'NEBLETH',\n",
       " 'NEOETH',\n",
       " 'NPXSETH',\n",
       " 'NULSETH',\n",
       " 'NXSETH',\n",
       " 'OAXETH',\n",
       " 'OMGETH',\n",
       " 'ONTETH',\n",
       " 'OSTETH',\n",
       " 'PAXETH',\n",
       " 'PHXETH',\n",
       " 'PIVXETH',\n",
       " 'POAETH',\n",
       " 'POEETH',\n",
       " 'POWRETH',\n",
       " 'PPTETH',\n",
       " 'PROSETH',\n",
       " 'PUNDIXETH',\n",
       " 'QKCETH',\n",
       " 'QLCETH',\n",
       " 'QSPETH',\n",
       " 'QTUMETH',\n",
       " 'RCNETH',\n",
       " 'RDNETH',\n",
       " 'RENBTCETH',\n",
       " 'REPETH',\n",
       " 'REQETH',\n",
       " 'RLCETH',\n",
       " 'RPXETH',\n",
       " 'SALTETH',\n",
       " 'SCETH',\n",
       " 'SCRTETH',\n",
       " 'SKYETH',\n",
       " 'SLPETH',\n",
       " 'SNGLSETH',\n",
       " 'SNMETH',\n",
       " 'SNTETH',\n",
       " 'SOLETH',\n",
       " 'SSVETH',\n",
       " 'STEEMETH',\n",
       " 'STMXETH',\n",
       " 'STORJETH',\n",
       " 'STORMETH',\n",
       " 'STRATETH',\n",
       " 'STRAXETH',\n",
       " 'SUBETH',\n",
       " 'SUSDETH',\n",
       " 'SYSETH',\n",
       " 'THETAETH',\n",
       " 'TNBETH',\n",
       " 'TNTETH',\n",
       " 'TRIGETH',\n",
       " 'TRXETH',\n",
       " 'TUSDETH',\n",
       " 'UFTETH',\n",
       " 'VENETH',\n",
       " 'VETETH',\n",
       " 'VGXETH',\n",
       " 'VIAETH',\n",
       " 'VIBEETH',\n",
       " 'VIBETH',\n",
       " 'WABIETH',\n",
       " 'WANETH',\n",
       " 'WAVESETH',\n",
       " 'WBTCETH',\n",
       " 'WINGSETH',\n",
       " 'WPRETH',\n",
       " 'WTCETH',\n",
       " 'XEMETH',\n",
       " 'XLMETH',\n",
       " 'XMRETH',\n",
       " 'XRPETH',\n",
       " 'XVGETH',\n",
       " 'XZCETH',\n",
       " 'YOYOETH',\n",
       " 'ZECETH',\n",
       " 'ZENETH',\n",
       " 'ZILETH',\n",
       " 'ZRXETH']"
      ]
     },
     "execution_count": 19,
     "metadata": {},
     "output_type": "execute_result"
    }
   ],
   "source": [
    "[x for x in sorted(binance.tickers().keys()) if 'ETH' in x]"
   ]
  },
  {
   "cell_type": "code",
   "execution_count": 849,
   "metadata": {},
   "outputs": [],
   "source": [
    "!pip install cbpro"
   ]
  },
  {
   "cell_type": "code",
   "execution_count": 850,
   "metadata": {},
   "outputs": [],
   "source": [
    "from cbpro.public_client import PublicClient"
   ]
  },
  {
   "cell_type": "code",
   "execution_count": 46,
   "metadata": {},
   "outputs": [
    {
     "ename": "NameError",
     "evalue": "name 'PublicClient' is not defined",
     "output_type": "error",
     "traceback": [
      "\u001b[0;31m---------------------------------------------------------------------------\u001b[0m",
      "\u001b[0;31mNameError\u001b[0m                                 Traceback (most recent call last)",
      "\u001b[0;32m<ipython-input-46-0074e7d57df9>\u001b[0m in \u001b[0;36m<module>\u001b[0;34m\u001b[0m\n\u001b[0;32m----> 1\u001b[0;31m \u001b[0mclient\u001b[0m \u001b[0;34m=\u001b[0m \u001b[0mPublicClient\u001b[0m\u001b[0;34m(\u001b[0m\u001b[0;34m)\u001b[0m\u001b[0;34m\u001b[0m\u001b[0;34m\u001b[0m\u001b[0m\n\u001b[0m\u001b[1;32m      2\u001b[0m \u001b[0mob_all\u001b[0m \u001b[0;34m=\u001b[0m \u001b[0mclient\u001b[0m\u001b[0;34m.\u001b[0m\u001b[0mget_product_order_book\u001b[0m\u001b[0;34m(\u001b[0m\u001b[0;34m'ETH-USD'\u001b[0m\u001b[0;34m,\u001b[0m \u001b[0;36m1\u001b[0m\u001b[0;34m)\u001b[0m\u001b[0;34m\u001b[0m\u001b[0;34m\u001b[0m\u001b[0m\n",
      "\u001b[0;31mNameError\u001b[0m: name 'PublicClient' is not defined"
     ]
    }
   ],
   "source": [
    "client = PublicClient()\n",
    "ob_all = client.get_product_order_book('ETH-USD', 1)"
   ]
  },
  {
   "cell_type": "code",
   "execution_count": 47,
   "metadata": {},
   "outputs": [
    {
     "ename": "NameError",
     "evalue": "name 'ob_all' is not defined",
     "output_type": "error",
     "traceback": [
      "\u001b[0;31m---------------------------------------------------------------------------\u001b[0m",
      "\u001b[0;31mNameError\u001b[0m                                 Traceback (most recent call last)",
      "\u001b[0;32m<ipython-input-47-d601c2b4fc7e>\u001b[0m in \u001b[0;36m<module>\u001b[0;34m\u001b[0m\n\u001b[0;32m----> 1\u001b[0;31m \u001b[0mob_all\u001b[0m\u001b[0;34m\u001b[0m\u001b[0;34m\u001b[0m\u001b[0m\n\u001b[0m",
      "\u001b[0;31mNameError\u001b[0m: name 'ob_all' is not defined"
     ]
    }
   ],
   "source": [
    "ob_all"
   ]
  },
  {
   "cell_type": "markdown",
   "metadata": {},
   "source": [
    "# ETH Order Book Data\n",
    "\n",
    "I found order book data here: https://www.kaggle.com/martinsn/starter-high-frequency-bitcoin-forecasting"
   ]
  },
  {
   "cell_type": "code",
   "execution_count": 50,
   "metadata": {},
   "outputs": [
    {
     "data": {
      "text/plain": [
       "['BTC_1min.csv',\n",
       " 'ETH_5min.csv',\n",
       " 'ADA_1sec.csv',\n",
       " 'ETH_1min.csv',\n",
       " 'BTC_5min.csv',\n",
       " 'BTC_1sec.csv',\n",
       " 'ADA_1min.csv',\n",
       " 'ADA_5min.csv',\n",
       " 'ETH_1sec.csv']"
      ]
     },
     "execution_count": 50,
     "metadata": {},
     "output_type": "execute_result"
    }
   ],
   "source": [
    "os.listdir('../archive')"
   ]
  },
  {
   "cell_type": "code",
   "execution_count": 67,
   "metadata": {},
   "outputs": [
    {
     "data": {
      "text/html": [
       "<div>\n",
       "<style scoped>\n",
       "    .dataframe tbody tr th:only-of-type {\n",
       "        vertical-align: middle;\n",
       "    }\n",
       "\n",
       "    .dataframe tbody tr th {\n",
       "        vertical-align: top;\n",
       "    }\n",
       "\n",
       "    .dataframe thead th {\n",
       "        text-align: right;\n",
       "    }\n",
       "</style>\n",
       "<table border=\"1\" class=\"dataframe\">\n",
       "  <thead>\n",
       "    <tr style=\"text-align: right;\">\n",
       "      <th></th>\n",
       "      <th>Unnamed: 0</th>\n",
       "      <th>system_time</th>\n",
       "      <th>midpoint</th>\n",
       "      <th>spread</th>\n",
       "      <th>buys</th>\n",
       "      <th>sells</th>\n",
       "      <th>bids_distance_0</th>\n",
       "      <th>bids_distance_1</th>\n",
       "      <th>bids_distance_2</th>\n",
       "      <th>bids_distance_3</th>\n",
       "      <th>...</th>\n",
       "      <th>asks_market_notional_5</th>\n",
       "      <th>asks_market_notional_6</th>\n",
       "      <th>asks_market_notional_7</th>\n",
       "      <th>asks_market_notional_8</th>\n",
       "      <th>asks_market_notional_9</th>\n",
       "      <th>asks_market_notional_10</th>\n",
       "      <th>asks_market_notional_11</th>\n",
       "      <th>asks_market_notional_12</th>\n",
       "      <th>asks_market_notional_13</th>\n",
       "      <th>asks_market_notional_14</th>\n",
       "    </tr>\n",
       "  </thead>\n",
       "  <tbody>\n",
       "    <tr>\n",
       "      <th>0</th>\n",
       "      <td>0</td>\n",
       "      <td>2021-04-07 11:32:50.861733+00:00</td>\n",
       "      <td>1970.985</td>\n",
       "      <td>0.15</td>\n",
       "      <td>0.000000</td>\n",
       "      <td>0.000000</td>\n",
       "      <td>-0.000038</td>\n",
       "      <td>-0.000495</td>\n",
       "      <td>-0.000500</td>\n",
       "      <td>-0.000632</td>\n",
       "      <td>...</td>\n",
       "      <td>0.0</td>\n",
       "      <td>0.0</td>\n",
       "      <td>0.0</td>\n",
       "      <td>0.0</td>\n",
       "      <td>0.0</td>\n",
       "      <td>0.0</td>\n",
       "      <td>0.0</td>\n",
       "      <td>0.0</td>\n",
       "      <td>0.0</td>\n",
       "      <td>0.0</td>\n",
       "    </tr>\n",
       "    <tr>\n",
       "      <th>1</th>\n",
       "      <td>1</td>\n",
       "      <td>2021-04-07 11:32:51.861733+00:00</td>\n",
       "      <td>1970.985</td>\n",
       "      <td>0.15</td>\n",
       "      <td>0.000000</td>\n",
       "      <td>0.000000</td>\n",
       "      <td>-0.000038</td>\n",
       "      <td>-0.000495</td>\n",
       "      <td>-0.000500</td>\n",
       "      <td>-0.000632</td>\n",
       "      <td>...</td>\n",
       "      <td>0.0</td>\n",
       "      <td>0.0</td>\n",
       "      <td>0.0</td>\n",
       "      <td>0.0</td>\n",
       "      <td>0.0</td>\n",
       "      <td>0.0</td>\n",
       "      <td>0.0</td>\n",
       "      <td>0.0</td>\n",
       "      <td>0.0</td>\n",
       "      <td>0.0</td>\n",
       "    </tr>\n",
       "    <tr>\n",
       "      <th>2</th>\n",
       "      <td>2</td>\n",
       "      <td>2021-04-07 11:32:52.861733+00:00</td>\n",
       "      <td>1970.985</td>\n",
       "      <td>0.15</td>\n",
       "      <td>0.000000</td>\n",
       "      <td>0.000000</td>\n",
       "      <td>-0.000038</td>\n",
       "      <td>-0.000495</td>\n",
       "      <td>-0.000500</td>\n",
       "      <td>-0.000632</td>\n",
       "      <td>...</td>\n",
       "      <td>0.0</td>\n",
       "      <td>0.0</td>\n",
       "      <td>0.0</td>\n",
       "      <td>0.0</td>\n",
       "      <td>0.0</td>\n",
       "      <td>0.0</td>\n",
       "      <td>0.0</td>\n",
       "      <td>0.0</td>\n",
       "      <td>0.0</td>\n",
       "      <td>0.0</td>\n",
       "    </tr>\n",
       "    <tr>\n",
       "      <th>3</th>\n",
       "      <td>3</td>\n",
       "      <td>2021-04-07 11:32:53.861733+00:00</td>\n",
       "      <td>1970.985</td>\n",
       "      <td>0.15</td>\n",
       "      <td>0.000000</td>\n",
       "      <td>0.000000</td>\n",
       "      <td>-0.000038</td>\n",
       "      <td>-0.000495</td>\n",
       "      <td>-0.000500</td>\n",
       "      <td>-0.000632</td>\n",
       "      <td>...</td>\n",
       "      <td>0.0</td>\n",
       "      <td>0.0</td>\n",
       "      <td>0.0</td>\n",
       "      <td>0.0</td>\n",
       "      <td>0.0</td>\n",
       "      <td>0.0</td>\n",
       "      <td>0.0</td>\n",
       "      <td>0.0</td>\n",
       "      <td>0.0</td>\n",
       "      <td>0.0</td>\n",
       "    </tr>\n",
       "    <tr>\n",
       "      <th>4</th>\n",
       "      <td>4</td>\n",
       "      <td>2021-04-07 11:32:54.861733+00:00</td>\n",
       "      <td>1971.135</td>\n",
       "      <td>0.03</td>\n",
       "      <td>5832.007602</td>\n",
       "      <td>1.962869</td>\n",
       "      <td>-0.000008</td>\n",
       "      <td>-0.000571</td>\n",
       "      <td>-0.000576</td>\n",
       "      <td>-0.000601</td>\n",
       "      <td>...</td>\n",
       "      <td>0.0</td>\n",
       "      <td>0.0</td>\n",
       "      <td>0.0</td>\n",
       "      <td>0.0</td>\n",
       "      <td>0.0</td>\n",
       "      <td>0.0</td>\n",
       "      <td>0.0</td>\n",
       "      <td>0.0</td>\n",
       "      <td>0.0</td>\n",
       "      <td>0.0</td>\n",
       "    </tr>\n",
       "  </tbody>\n",
       "</table>\n",
       "<p>5 rows × 156 columns</p>\n",
       "</div>"
      ],
      "text/plain": [
       "   Unnamed: 0                       system_time  midpoint  spread  \\\n",
       "0           0  2021-04-07 11:32:50.861733+00:00  1970.985    0.15   \n",
       "1           1  2021-04-07 11:32:51.861733+00:00  1970.985    0.15   \n",
       "2           2  2021-04-07 11:32:52.861733+00:00  1970.985    0.15   \n",
       "3           3  2021-04-07 11:32:53.861733+00:00  1970.985    0.15   \n",
       "4           4  2021-04-07 11:32:54.861733+00:00  1971.135    0.03   \n",
       "\n",
       "          buys     sells  bids_distance_0  bids_distance_1  bids_distance_2  \\\n",
       "0     0.000000  0.000000        -0.000038        -0.000495        -0.000500   \n",
       "1     0.000000  0.000000        -0.000038        -0.000495        -0.000500   \n",
       "2     0.000000  0.000000        -0.000038        -0.000495        -0.000500   \n",
       "3     0.000000  0.000000        -0.000038        -0.000495        -0.000500   \n",
       "4  5832.007602  1.962869        -0.000008        -0.000571        -0.000576   \n",
       "\n",
       "   bids_distance_3  ...  asks_market_notional_5  asks_market_notional_6  \\\n",
       "0        -0.000632  ...                     0.0                     0.0   \n",
       "1        -0.000632  ...                     0.0                     0.0   \n",
       "2        -0.000632  ...                     0.0                     0.0   \n",
       "3        -0.000632  ...                     0.0                     0.0   \n",
       "4        -0.000601  ...                     0.0                     0.0   \n",
       "\n",
       "   asks_market_notional_7  asks_market_notional_8  asks_market_notional_9  \\\n",
       "0                     0.0                     0.0                     0.0   \n",
       "1                     0.0                     0.0                     0.0   \n",
       "2                     0.0                     0.0                     0.0   \n",
       "3                     0.0                     0.0                     0.0   \n",
       "4                     0.0                     0.0                     0.0   \n",
       "\n",
       "   asks_market_notional_10  asks_market_notional_11  asks_market_notional_12  \\\n",
       "0                      0.0                      0.0                      0.0   \n",
       "1                      0.0                      0.0                      0.0   \n",
       "2                      0.0                      0.0                      0.0   \n",
       "3                      0.0                      0.0                      0.0   \n",
       "4                      0.0                      0.0                      0.0   \n",
       "\n",
       "   asks_market_notional_13  asks_market_notional_14  \n",
       "0                      0.0                      0.0  \n",
       "1                      0.0                      0.0  \n",
       "2                      0.0                      0.0  \n",
       "3                      0.0                      0.0  \n",
       "4                      0.0                      0.0  \n",
       "\n",
       "[5 rows x 156 columns]"
      ]
     },
     "execution_count": 67,
     "metadata": {},
     "output_type": "execute_result"
    }
   ],
   "source": [
    "ETH_mid = pd.read_csv('../archive/ETH_1sec.csv')\n",
    "ETH_mid.head()"
   ]
  },
  {
   "cell_type": "code",
   "execution_count": 68,
   "metadata": {},
   "outputs": [],
   "source": [
    "ETH_mid['system_time'] = pd.to_datetime(ETH_mid['system_time'])\n",
    "ETH_mid = ETH_mid.loc[:,['system_time', 'midpoint']]"
   ]
  },
  {
   "cell_type": "code",
   "execution_count": 69,
   "metadata": {},
   "outputs": [
    {
     "data": {
      "text/html": [
       "<div>\n",
       "<style scoped>\n",
       "    .dataframe tbody tr th:only-of-type {\n",
       "        vertical-align: middle;\n",
       "    }\n",
       "\n",
       "    .dataframe tbody tr th {\n",
       "        vertical-align: top;\n",
       "    }\n",
       "\n",
       "    .dataframe thead th {\n",
       "        text-align: right;\n",
       "    }\n",
       "</style>\n",
       "<table border=\"1\" class=\"dataframe\">\n",
       "  <thead>\n",
       "    <tr style=\"text-align: right;\">\n",
       "      <th></th>\n",
       "      <th>midpoint</th>\n",
       "    </tr>\n",
       "    <tr>\n",
       "      <th>system_time</th>\n",
       "      <th></th>\n",
       "    </tr>\n",
       "  </thead>\n",
       "  <tbody>\n",
       "    <tr>\n",
       "      <th>2021-04-07 11:32:50.861733+00:00</th>\n",
       "      <td>1970.985</td>\n",
       "    </tr>\n",
       "    <tr>\n",
       "      <th>2021-04-07 11:32:51.861733+00:00</th>\n",
       "      <td>1970.985</td>\n",
       "    </tr>\n",
       "    <tr>\n",
       "      <th>2021-04-07 11:32:52.861733+00:00</th>\n",
       "      <td>1970.985</td>\n",
       "    </tr>\n",
       "    <tr>\n",
       "      <th>2021-04-07 11:32:53.861733+00:00</th>\n",
       "      <td>1970.985</td>\n",
       "    </tr>\n",
       "    <tr>\n",
       "      <th>2021-04-07 11:32:54.861733+00:00</th>\n",
       "      <td>1971.135</td>\n",
       "    </tr>\n",
       "    <tr>\n",
       "      <th>...</th>\n",
       "      <td>...</td>\n",
       "    </tr>\n",
       "    <tr>\n",
       "      <th>2021-04-19 09:53:42.345392+00:00</th>\n",
       "      <td>2237.005</td>\n",
       "    </tr>\n",
       "    <tr>\n",
       "      <th>2021-04-19 09:53:43.345392+00:00</th>\n",
       "      <td>2237.290</td>\n",
       "    </tr>\n",
       "    <tr>\n",
       "      <th>2021-04-19 09:53:44.345392+00:00</th>\n",
       "      <td>2236.430</td>\n",
       "    </tr>\n",
       "    <tr>\n",
       "      <th>2021-04-19 09:53:45.345392+00:00</th>\n",
       "      <td>2236.225</td>\n",
       "    </tr>\n",
       "    <tr>\n",
       "      <th>2021-04-19 09:53:46.345392+00:00</th>\n",
       "      <td>2236.280</td>\n",
       "    </tr>\n",
       "  </tbody>\n",
       "</table>\n",
       "<p>1030775 rows × 1 columns</p>\n",
       "</div>"
      ],
      "text/plain": [
       "                                  midpoint\n",
       "system_time                               \n",
       "2021-04-07 11:32:50.861733+00:00  1970.985\n",
       "2021-04-07 11:32:51.861733+00:00  1970.985\n",
       "2021-04-07 11:32:52.861733+00:00  1970.985\n",
       "2021-04-07 11:32:53.861733+00:00  1970.985\n",
       "2021-04-07 11:32:54.861733+00:00  1971.135\n",
       "...                                    ...\n",
       "2021-04-19 09:53:42.345392+00:00  2237.005\n",
       "2021-04-19 09:53:43.345392+00:00  2237.290\n",
       "2021-04-19 09:53:44.345392+00:00  2236.430\n",
       "2021-04-19 09:53:45.345392+00:00  2236.225\n",
       "2021-04-19 09:53:46.345392+00:00  2236.280\n",
       "\n",
       "[1030775 rows x 1 columns]"
      ]
     },
     "execution_count": 69,
     "metadata": {},
     "output_type": "execute_result"
    }
   ],
   "source": [
    "ETH_mid = ETH_mid.set_index('system_time')\n",
    "ETH_mid"
   ]
  },
  {
   "cell_type": "markdown",
   "metadata": {},
   "source": [
    "Now, this may not be completely proper, but for the sake of this project, I will need to remove the miliseconds in order for the data to properly align with the Kraken dataset. Under normal circumstances this would be bad to do. "
   ]
  },
  {
   "cell_type": "code",
   "execution_count": 98,
   "metadata": {},
   "outputs": [
    {
     "data": {
      "text/html": [
       "<div>\n",
       "<style scoped>\n",
       "    .dataframe tbody tr th:only-of-type {\n",
       "        vertical-align: middle;\n",
       "    }\n",
       "\n",
       "    .dataframe tbody tr th {\n",
       "        vertical-align: top;\n",
       "    }\n",
       "\n",
       "    .dataframe thead th {\n",
       "        text-align: right;\n",
       "    }\n",
       "</style>\n",
       "<table border=\"1\" class=\"dataframe\">\n",
       "  <thead>\n",
       "    <tr style=\"text-align: right;\">\n",
       "      <th></th>\n",
       "      <th>midpoint</th>\n",
       "    </tr>\n",
       "    <tr>\n",
       "      <th>system_time</th>\n",
       "      <th></th>\n",
       "    </tr>\n",
       "  </thead>\n",
       "  <tbody>\n",
       "    <tr>\n",
       "      <th>2021-04-07 11:32:50</th>\n",
       "      <td>1970.985</td>\n",
       "    </tr>\n",
       "    <tr>\n",
       "      <th>2021-04-07 11:32:51</th>\n",
       "      <td>1970.985</td>\n",
       "    </tr>\n",
       "    <tr>\n",
       "      <th>2021-04-07 11:32:52</th>\n",
       "      <td>1970.985</td>\n",
       "    </tr>\n",
       "    <tr>\n",
       "      <th>2021-04-07 11:32:53</th>\n",
       "      <td>1970.985</td>\n",
       "    </tr>\n",
       "    <tr>\n",
       "      <th>2021-04-07 11:32:54</th>\n",
       "      <td>1971.135</td>\n",
       "    </tr>\n",
       "  </tbody>\n",
       "</table>\n",
       "</div>"
      ],
      "text/plain": [
       "                     midpoint\n",
       "system_time                  \n",
       "2021-04-07 11:32:50  1970.985\n",
       "2021-04-07 11:32:51  1970.985\n",
       "2021-04-07 11:32:52  1970.985\n",
       "2021-04-07 11:32:53  1970.985\n",
       "2021-04-07 11:32:54  1971.135"
      ]
     },
     "execution_count": 98,
     "metadata": {},
     "output_type": "execute_result"
    }
   ],
   "source": [
    "ETH_mid.index = ETH_mid.index.strftime('%Y-%m-%d %H:%M:%S')\n",
    "ETH_mid.head()"
   ]
  },
  {
   "cell_type": "code",
   "execution_count": 118,
   "metadata": {},
   "outputs": [],
   "source": [
    "dates = pd.to_datetime(ETH_mid.index) "
   ]
  },
  {
   "cell_type": "code",
   "execution_count": 129,
   "metadata": {},
   "outputs": [],
   "source": [
    "# Split data into train and test data\n",
    "length = len(ETH_mid)\n",
    "train = ETH_mid.iloc[:int(length*0.7),:]\n",
    "test = ETH_mid.iloc[int(length*0.7):,:]"
   ]
  },
  {
   "cell_type": "code",
   "execution_count": 138,
   "metadata": {},
   "outputs": [],
   "source": [
    "train.index = pd.to_datetime(train.index)\n",
    "test.index = pd.to_datetime(test.index)"
   ]
  },
  {
   "cell_type": "markdown",
   "metadata": {},
   "source": [
    "# Assume All Orders Get Filled\n",
    "\n",
    "First, we will skip the depth of the order book and assume that all of our orders get filled by a market order (i.e. there is enough depth and our limit orders get filled first). Once we have that built out, if time permits, then we can go into a more sophisticated estimation method. \n",
    "\n",
    "Recall that we want to estimate the parameters $A$ and $\\kappa$ for our market intensity parameters, $\\lambda_{a,b}$ i.e.\n",
    "\n",
    "$$\n",
    "\\lambda(\\delta) = A e^{-\\kappa\\delta}\n",
    "$$\n",
    "\n",
    "To assist us with this parameters estimation, we will be following the method outlined by Sophie Laruelle's paper which can be found here: http://events.chairefdd.org/wp-content/uploads/2013/06/CAHIER_MICRO_1.pdf , as well as a very well-written stackexchange post by Charles-Albert Lehalle found here: https://quant.stackexchange.com/questions/36073/how-does-one-calibrate-lambda-in-a-avellaneda-stoikov-market-making-problem"
   ]
  },
  {
   "cell_type": "code",
   "execution_count": 141,
   "metadata": {},
   "outputs": [
    {
     "data": {
      "text/html": [
       "<div>\n",
       "<style scoped>\n",
       "    .dataframe tbody tr th:only-of-type {\n",
       "        vertical-align: middle;\n",
       "    }\n",
       "\n",
       "    .dataframe tbody tr th {\n",
       "        vertical-align: top;\n",
       "    }\n",
       "\n",
       "    .dataframe thead th {\n",
       "        text-align: right;\n",
       "    }\n",
       "</style>\n",
       "<table border=\"1\" class=\"dataframe\">\n",
       "  <thead>\n",
       "    <tr style=\"text-align: right;\">\n",
       "      <th></th>\n",
       "      <th>midpoint</th>\n",
       "    </tr>\n",
       "    <tr>\n",
       "      <th>system_time</th>\n",
       "      <th></th>\n",
       "    </tr>\n",
       "  </thead>\n",
       "  <tbody>\n",
       "    <tr>\n",
       "      <th>2021-04-07 23:59:55</th>\n",
       "      <td>1962.855</td>\n",
       "    </tr>\n",
       "    <tr>\n",
       "      <th>2021-04-07 23:59:56</th>\n",
       "      <td>1963.525</td>\n",
       "    </tr>\n",
       "    <tr>\n",
       "      <th>2021-04-07 23:59:57</th>\n",
       "      <td>1964.305</td>\n",
       "    </tr>\n",
       "    <tr>\n",
       "      <th>2021-04-07 23:59:58</th>\n",
       "      <td>1963.950</td>\n",
       "    </tr>\n",
       "    <tr>\n",
       "      <th>2021-04-07 23:59:59</th>\n",
       "      <td>1963.550</td>\n",
       "    </tr>\n",
       "  </tbody>\n",
       "</table>\n",
       "</div>"
      ],
      "text/plain": [
       "                     midpoint\n",
       "system_time                  \n",
       "2021-04-07 23:59:55  1962.855\n",
       "2021-04-07 23:59:56  1963.525\n",
       "2021-04-07 23:59:57  1964.305\n",
       "2021-04-07 23:59:58  1963.950\n",
       "2021-04-07 23:59:59  1963.550"
      ]
     },
     "execution_count": 141,
     "metadata": {},
     "output_type": "execute_result"
    }
   ],
   "source": [
    "# Slice one day first \n",
    "sample = train.loc['2021-04-07']\n",
    "sample.tail()"
   ]
  },
  {
   "cell_type": "code",
   "execution_count": 143,
   "metadata": {},
   "outputs": [],
   "source": [
    "deltalist = np.linspace(0.1,1,10)\n",
    "\n",
    "sample['bids'] = sample['midpoint'] - deltalist[0]\n",
    "sample['ask']  = sample['midpoint'] + deltalist[0]"
   ]
  },
  {
   "cell_type": "code",
   "execution_count": 144,
   "metadata": {},
   "outputs": [
    {
     "data": {
      "text/html": [
       "<div>\n",
       "<style scoped>\n",
       "    .dataframe tbody tr th:only-of-type {\n",
       "        vertical-align: middle;\n",
       "    }\n",
       "\n",
       "    .dataframe tbody tr th {\n",
       "        vertical-align: top;\n",
       "    }\n",
       "\n",
       "    .dataframe thead th {\n",
       "        text-align: right;\n",
       "    }\n",
       "</style>\n",
       "<table border=\"1\" class=\"dataframe\">\n",
       "  <thead>\n",
       "    <tr style=\"text-align: right;\">\n",
       "      <th></th>\n",
       "      <th>midpoint</th>\n",
       "      <th>bids</th>\n",
       "      <th>ask</th>\n",
       "    </tr>\n",
       "    <tr>\n",
       "      <th>system_time</th>\n",
       "      <th></th>\n",
       "      <th></th>\n",
       "      <th></th>\n",
       "    </tr>\n",
       "  </thead>\n",
       "  <tbody>\n",
       "    <tr>\n",
       "      <th>2021-04-07 11:32:50</th>\n",
       "      <td>1970.985</td>\n",
       "      <td>1970.885</td>\n",
       "      <td>1971.085</td>\n",
       "    </tr>\n",
       "    <tr>\n",
       "      <th>2021-04-07 11:32:51</th>\n",
       "      <td>1970.985</td>\n",
       "      <td>1970.885</td>\n",
       "      <td>1971.085</td>\n",
       "    </tr>\n",
       "    <tr>\n",
       "      <th>2021-04-07 11:32:52</th>\n",
       "      <td>1970.985</td>\n",
       "      <td>1970.885</td>\n",
       "      <td>1971.085</td>\n",
       "    </tr>\n",
       "    <tr>\n",
       "      <th>2021-04-07 11:32:53</th>\n",
       "      <td>1970.985</td>\n",
       "      <td>1970.885</td>\n",
       "      <td>1971.085</td>\n",
       "    </tr>\n",
       "    <tr>\n",
       "      <th>2021-04-07 11:32:54</th>\n",
       "      <td>1971.135</td>\n",
       "      <td>1971.035</td>\n",
       "      <td>1971.235</td>\n",
       "    </tr>\n",
       "    <tr>\n",
       "      <th>...</th>\n",
       "      <td>...</td>\n",
       "      <td>...</td>\n",
       "      <td>...</td>\n",
       "    </tr>\n",
       "    <tr>\n",
       "      <th>2021-04-07 23:59:55</th>\n",
       "      <td>1962.855</td>\n",
       "      <td>1962.755</td>\n",
       "      <td>1962.955</td>\n",
       "    </tr>\n",
       "    <tr>\n",
       "      <th>2021-04-07 23:59:56</th>\n",
       "      <td>1963.525</td>\n",
       "      <td>1963.425</td>\n",
       "      <td>1963.625</td>\n",
       "    </tr>\n",
       "    <tr>\n",
       "      <th>2021-04-07 23:59:57</th>\n",
       "      <td>1964.305</td>\n",
       "      <td>1964.205</td>\n",
       "      <td>1964.405</td>\n",
       "    </tr>\n",
       "    <tr>\n",
       "      <th>2021-04-07 23:59:58</th>\n",
       "      <td>1963.950</td>\n",
       "      <td>1963.850</td>\n",
       "      <td>1964.050</td>\n",
       "    </tr>\n",
       "    <tr>\n",
       "      <th>2021-04-07 23:59:59</th>\n",
       "      <td>1963.550</td>\n",
       "      <td>1963.450</td>\n",
       "      <td>1963.650</td>\n",
       "    </tr>\n",
       "  </tbody>\n",
       "</table>\n",
       "<p>44817 rows × 3 columns</p>\n",
       "</div>"
      ],
      "text/plain": [
       "                     midpoint      bids       ask\n",
       "system_time                                      \n",
       "2021-04-07 11:32:50  1970.985  1970.885  1971.085\n",
       "2021-04-07 11:32:51  1970.985  1970.885  1971.085\n",
       "2021-04-07 11:32:52  1970.985  1970.885  1971.085\n",
       "2021-04-07 11:32:53  1970.985  1970.885  1971.085\n",
       "2021-04-07 11:32:54  1971.135  1971.035  1971.235\n",
       "...                       ...       ...       ...\n",
       "2021-04-07 23:59:55  1962.855  1962.755  1962.955\n",
       "2021-04-07 23:59:56  1963.525  1963.425  1963.625\n",
       "2021-04-07 23:59:57  1964.305  1964.205  1964.405\n",
       "2021-04-07 23:59:58  1963.950  1963.850  1964.050\n",
       "2021-04-07 23:59:59  1963.550  1963.450  1963.650\n",
       "\n",
       "[44817 rows x 3 columns]"
      ]
     },
     "execution_count": 144,
     "metadata": {},
     "output_type": "execute_result"
    }
   ],
   "source": [
    "sample"
   ]
  },
  {
   "cell_type": "code",
   "execution_count": 166,
   "metadata": {},
   "outputs": [],
   "source": [
    "mkt_sample = temp.loc['2021-04-07']\n",
    "mkt_sample = mkt_sample.iloc[-3:-1,:]"
   ]
  },
  {
   "cell_type": "code",
   "execution_count": 181,
   "metadata": {},
   "outputs": [
    {
     "data": {
      "text/html": [
       "<div>\n",
       "<style scoped>\n",
       "    .dataframe tbody tr th:only-of-type {\n",
       "        vertical-align: middle;\n",
       "    }\n",
       "\n",
       "    .dataframe tbody tr th {\n",
       "        vertical-align: top;\n",
       "    }\n",
       "\n",
       "    .dataframe thead th {\n",
       "        text-align: right;\n",
       "    }\n",
       "</style>\n",
       "<table border=\"1\" class=\"dataframe\">\n",
       "  <thead>\n",
       "    <tr style=\"text-align: right;\">\n",
       "      <th></th>\n",
       "      <th>1</th>\n",
       "      <th>2</th>\n",
       "    </tr>\n",
       "    <tr>\n",
       "      <th>0</th>\n",
       "      <th></th>\n",
       "      <th></th>\n",
       "    </tr>\n",
       "  </thead>\n",
       "  <tbody>\n",
       "    <tr>\n",
       "      <th>2021-04-07 23:59:49</th>\n",
       "      <td>1960.17</td>\n",
       "      <td>0.5</td>\n",
       "    </tr>\n",
       "    <tr>\n",
       "      <th>2021-04-07 23:59:49</th>\n",
       "      <td>1961.06</td>\n",
       "      <td>4.5</td>\n",
       "    </tr>\n",
       "  </tbody>\n",
       "</table>\n",
       "</div>"
      ],
      "text/plain": [
       "                           1    2\n",
       "0                                \n",
       "2021-04-07 23:59:49  1960.17  0.5\n",
       "2021-04-07 23:59:49  1961.06  4.5"
      ]
     },
     "execution_count": 181,
     "metadata": {},
     "output_type": "execute_result"
    }
   ],
   "source": [
    "mkt_sample"
   ]
  },
  {
   "cell_type": "code",
   "execution_count": 182,
   "metadata": {},
   "outputs": [
    {
     "data": {
      "text/html": [
       "<div>\n",
       "<style scoped>\n",
       "    .dataframe tbody tr th:only-of-type {\n",
       "        vertical-align: middle;\n",
       "    }\n",
       "\n",
       "    .dataframe tbody tr th {\n",
       "        vertical-align: top;\n",
       "    }\n",
       "\n",
       "    .dataframe thead th {\n",
       "        text-align: right;\n",
       "    }\n",
       "</style>\n",
       "<table border=\"1\" class=\"dataframe\">\n",
       "  <thead>\n",
       "    <tr style=\"text-align: right;\">\n",
       "      <th></th>\n",
       "      <th>midpoint</th>\n",
       "      <th>bids</th>\n",
       "      <th>ask</th>\n",
       "    </tr>\n",
       "    <tr>\n",
       "      <th>0</th>\n",
       "      <th></th>\n",
       "      <th></th>\n",
       "      <th></th>\n",
       "    </tr>\n",
       "  </thead>\n",
       "  <tbody>\n",
       "    <tr>\n",
       "      <th>2021-04-07 23:59:49</th>\n",
       "      <td>1960.195</td>\n",
       "      <td>1960.095</td>\n",
       "      <td>1960.295</td>\n",
       "    </tr>\n",
       "    <tr>\n",
       "      <th>2021-04-07 23:59:49</th>\n",
       "      <td>1960.195</td>\n",
       "      <td>1960.095</td>\n",
       "      <td>1960.295</td>\n",
       "    </tr>\n",
       "  </tbody>\n",
       "</table>\n",
       "</div>"
      ],
      "text/plain": [
       "                     midpoint      bids       ask\n",
       "0                                                \n",
       "2021-04-07 23:59:49  1960.195  1960.095  1960.295\n",
       "2021-04-07 23:59:49  1960.195  1960.095  1960.295"
      ]
     },
     "execution_count": 182,
     "metadata": {},
     "output_type": "execute_result"
    }
   ],
   "source": [
    "sample.loc[mkt_sample.index]"
   ]
  },
  {
   "cell_type": "code",
   "execution_count": 184,
   "metadata": {},
   "outputs": [
    {
     "data": {
      "text/plain": [
       "0\n",
       "2021-04-07 23:59:49    True\n",
       "Freq: S, Name: 1, dtype: bool"
      ]
     },
     "execution_count": 184,
     "metadata": {},
     "output_type": "execute_result"
    }
   ],
   "source": [
    "# Only need the minimum value for each 1s interval to determine if \n",
    "# a market order filled\n",
    "mkt_sample[1].groupby(pd.Grouper(freq='1S')).apply(lambda x: any(x > sample.loc[x.name, 'ask']))"
   ]
  },
  {
   "cell_type": "code",
   "execution_count": 204,
   "metadata": {},
   "outputs": [
    {
     "data": {
      "text/plain": [
       "DatetimeIndex(['2021-04-07 11:32:50', '2021-04-07 11:32:51',\n",
       "               '2021-04-07 11:32:51', '2021-04-07 11:32:52',\n",
       "               '2021-04-07 11:32:52', '2021-04-07 11:32:55',\n",
       "               '2021-04-07 11:32:56', '2021-04-07 11:32:56',\n",
       "               '2021-04-07 11:32:56', '2021-04-07 11:32:56',\n",
       "               ...\n",
       "               '2021-04-07 23:59:46', '2021-04-07 23:59:46',\n",
       "               '2021-04-07 23:59:46', '2021-04-07 23:59:46',\n",
       "               '2021-04-07 23:59:47', '2021-04-07 23:59:47',\n",
       "               '2021-04-07 23:59:47', '2021-04-07 23:59:49',\n",
       "               '2021-04-07 23:59:49', '2021-04-07 23:59:52'],\n",
       "              dtype='datetime64[ns]', name=0, length=33009, freq=None)"
      ]
     },
     "execution_count": 204,
     "metadata": {},
     "output_type": "execute_result"
    }
   ],
   "source": [
    "mkt_sample = temp.loc[sample.index[0]:sample.index[-1]]\n",
    "mkt_sample.index"
   ]
  },
  {
   "cell_type": "code",
   "execution_count": 215,
   "metadata": {},
   "outputs": [
    {
     "data": {
      "text/plain": [
       "0"
      ]
     },
     "execution_count": 215,
     "metadata": {},
     "output_type": "execute_result"
    }
   ],
   "source": [
    "# There seems to be some missing data...\n",
    "(sample.index == '2021-04-07 16:00:00').sum()"
   ]
  },
  {
   "cell_type": "code",
   "execution_count": 241,
   "metadata": {},
   "outputs": [],
   "source": [
    "sample = sample.resample('S').asfreq(fill_value=np.nan)"
   ]
  },
  {
   "cell_type": "code",
   "execution_count": 242,
   "metadata": {},
   "outputs": [],
   "source": [
    "# Ensure that "
   ]
  },
  {
   "cell_type": "code",
   "execution_count": 243,
   "metadata": {},
   "outputs": [],
   "source": [
    "# Do this for all\n",
    "bid_limit_order_hit = mkt_sample[1].groupby(pd.Grouper(freq='1S')).apply(lambda x: any(x < sample.loc[x.name, 'bids']))\n",
    "ask_limit_order_hit = mkt_sample[1].groupby(pd.Grouper(freq='1S')).apply(lambda x: any(x > sample.loc[x.name, 'ask']))"
   ]
  },
  {
   "cell_type": "code",
   "execution_count": 245,
   "metadata": {},
   "outputs": [
    {
     "data": {
      "text/plain": [
       "0\n",
       "2021-04-07 11:32:50     True\n",
       "2021-04-07 11:32:51     True\n",
       "2021-04-07 11:32:52     True\n",
       "2021-04-07 11:32:53    False\n",
       "2021-04-07 11:32:54    False\n",
       "                       ...  \n",
       "2021-04-07 23:59:48    False\n",
       "2021-04-07 23:59:49    False\n",
       "2021-04-07 23:59:50    False\n",
       "2021-04-07 23:59:51    False\n",
       "2021-04-07 23:59:52     True\n",
       "Freq: S, Name: 1, Length: 44823, dtype: bool"
      ]
     },
     "execution_count": 245,
     "metadata": {},
     "output_type": "execute_result"
    }
   ],
   "source": [
    "bid_limit_order_hit"
   ]
  },
  {
   "cell_type": "code",
   "execution_count": 253,
   "metadata": {},
   "outputs": [],
   "source": [
    "# Combine the two into a single signal\n",
    "limit_order_hit = bid_limit_order_hit | ask_limit_order_hit"
   ]
  },
  {
   "cell_type": "code",
   "execution_count": 255,
   "metadata": {},
   "outputs": [
    {
     "data": {
      "text/plain": [
       "True"
      ]
     },
     "execution_count": 255,
     "metadata": {},
     "output_type": "execute_result"
    }
   ],
   "source": [
    "# Sanity check\n",
    "limit_order_hit.sum() > bid_limit_order_hit.sum()"
   ]
  },
  {
   "cell_type": "code",
   "execution_count": 256,
   "metadata": {},
   "outputs": [
    {
     "data": {
      "text/plain": [
       "True"
      ]
     },
     "execution_count": 256,
     "metadata": {},
     "output_type": "execute_result"
    }
   ],
   "source": [
    "# Sanity check\n",
    "limit_order_hit.sum() > ask_limit_order_hit.sum()"
   ]
  },
  {
   "cell_type": "markdown",
   "metadata": {},
   "source": [
    "Calculate the duration it takes for a market order to fill a limit order:"
   ]
  },
  {
   "cell_type": "code",
   "execution_count": 297,
   "metadata": {},
   "outputs": [],
   "source": [
    "deltas01 = pd.Series(limit_order_hit[limit_order_hit == 1].index).diff().apply(lambda x: x.total_seconds())"
   ]
  },
  {
   "cell_type": "markdown",
   "metadata": {},
   "source": [
    "We know that the maximum likelihood estimator of $\\lambda$ for a Poisson distribution is the sample mean therefore:"
   ]
  },
  {
   "cell_type": "code",
   "execution_count": 299,
   "metadata": {},
   "outputs": [
    {
     "data": {
      "text/plain": [
       "0        NaN\n",
       "1        1.0\n",
       "2        1.0\n",
       "3        3.0\n",
       "4        1.0\n",
       "        ... \n",
       "10041    2.0\n",
       "10042    2.0\n",
       "10043    1.0\n",
       "10044    2.0\n",
       "10045    3.0\n",
       "Name: 0, Length: 10046, dtype: float64"
      ]
     },
     "execution_count": 299,
     "metadata": {},
     "output_type": "execute_result"
    }
   ],
   "source": [
    "deltas01#ly(lambda x: x.total_seconds())"
   ]
  },
  {
   "cell_type": "code",
   "execution_count": 477,
   "metadata": {},
   "outputs": [
    {
     "data": {
      "text/plain": [
       "3150.285714285714"
      ]
     },
     "execution_count": 477,
     "metadata": {},
     "output_type": "execute_result"
    }
   ],
   "source": [
    "np.mean(deltas01)"
   ]
  },
  {
   "cell_type": "code",
   "execution_count": 490,
   "metadata": {},
   "outputs": [
    {
     "data": {
      "text/plain": [
       "system_time\n",
       "2021-04-07 11:32:50    1970.985\n",
       "2021-04-07 11:32:51    1970.985\n",
       "2021-04-07 11:32:52    1970.985\n",
       "2021-04-07 11:32:53    1970.985\n",
       "2021-04-07 11:32:54    1971.135\n",
       "                         ...   \n",
       "2021-04-07 23:59:55    1962.855\n",
       "2021-04-07 23:59:56    1963.525\n",
       "2021-04-07 23:59:57    1964.305\n",
       "2021-04-07 23:59:58    1963.950\n",
       "2021-04-07 23:59:59    1963.550\n",
       "Freq: S, Name: midpoint, Length: 44830, dtype: float64"
      ]
     },
     "execution_count": 490,
     "metadata": {},
     "output_type": "execute_result"
    }
   ],
   "source": [
    "sample['midpoint']"
   ]
  },
  {
   "cell_type": "markdown",
   "metadata": {},
   "source": [
    "Now, let's extend this to each value in our deltalist:"
   ]
  },
  {
   "cell_type": "code",
   "execution_count": 575,
   "metadata": {},
   "outputs": [
    {
     "name": "stdout",
     "output_type": "stream",
     "text": [
      "0.1\n",
      "0.2\n",
      "0.30000000000000004\n",
      "0.4\n",
      "0.5\n",
      "0.6\n",
      "0.7000000000000001\n",
      "0.8\n",
      "0.9\n",
      "1.0\n"
     ]
    }
   ],
   "source": [
    "deltalist = np.linspace(0.1,1,10)\n",
    "deltadict = {}\n",
    "\n",
    "for price_delta in deltalist:\n",
    "    print(price_delta)\n",
    "    sample['bids'] = sample['midpoint'] - price_delta\n",
    "    sample['ask']  = sample['midpoint'] + price_delta\n",
    "    \n",
    "    bid_limit_order_hit = mkt_sample[1].groupby(pd.Grouper(freq='1S')).apply(lambda x: any(x < sample.loc[x.name, 'bids']))\n",
    "    ask_limit_order_hit = mkt_sample[1].groupby(pd.Grouper(freq='1S')).apply(lambda x: any(x > sample.loc[x.name, 'ask']))\n",
    "    \n",
    "    # Combine the two into a single signal\n",
    "    limit_order_hit = bid_limit_order_hit | ask_limit_order_hit\n",
    "    \n",
    "    deltas01 = pd.Series(limit_order_hit[limit_order_hit == 1].index).diff().apply(lambda x: x.total_seconds())\n",
    "    \n",
    "    deltadict[price_delta] = deltas01"
   ]
  },
  {
   "cell_type": "code",
   "execution_count": 576,
   "metadata": {},
   "outputs": [],
   "source": [
    "def exp_fit(x,a,b):\n",
    "    y = a*np.exp(-b*x)\n",
    "    return y"
   ]
  },
  {
   "cell_type": "code",
   "execution_count": 577,
   "metadata": {},
   "outputs": [
    {
     "data": {
      "text/plain": [
       "0.22410869662219443"
      ]
     },
     "execution_count": 577,
     "metadata": {},
     "output_type": "execute_result"
    }
   ],
   "source": [
    "1/deltadict[0.1].mean()"
   ]
  },
  {
   "cell_type": "code",
   "execution_count": 578,
   "metadata": {},
   "outputs": [
    {
     "data": {
      "text/plain": [
       "<AxesSubplot:xlabel='0'>"
      ]
     },
     "execution_count": 578,
     "metadata": {},
     "output_type": "execute_result"
    },
    {
     "data": {
      "image/png": "[encoded data removed]",
      "text/plain": [
       "<Figure size 432x288 with 1 Axes>"
      ]
     },
     "metadata": {
      "needs_background": "light"
     },
     "output_type": "display_data"
    }
   ],
   "source": [
    "lambdas = pd.DataFrame([[key,1/deltadict[key].mean()] for key in deltadict.keys()]).set_index(0)\n",
    "lambdas.plot()"
   ]
  },
  {
   "cell_type": "code",
   "execution_count": 579,
   "metadata": {},
   "outputs": [],
   "source": [
    "paramsB, cv = scipy.optimize.curve_fit(exp_fit, np.array(lambdas.index), np.array(lambdas[1].values))\n",
    "a, b = paramsB"
   ]
  },
  {
   "cell_type": "code",
   "execution_count": 581,
   "metadata": {},
   "outputs": [
    {
     "data": {
      "text/plain": [
       "Text(0.5, 1.0, 'Fitted Exponential Curve')"
      ]
     },
     "execution_count": 581,
     "metadata": {},
     "output_type": "execute_result"
    },
    {
     "data": {
      "image/png": "[encoded data removed]",
      "text/plain": [
       "<Figure size 432x288 with 1 Axes>"
      ]
     },
     "metadata": {
      "needs_background": "light"
     },
     "output_type": "display_data"
    }
   ],
   "source": [
    "plt.plot(np.array(lambdas.index), np.array(lambdas[1].values), '.', label=\"data\")\n",
    "plt.plot(np.array(lambdas.index), exp_fit(np.array(lambdas.index), a, b), '--', label=\"fitted\")\n",
    "plt.title(\"Fitted Exponential Curve\")"
   ]
  },
  {
   "cell_type": "code",
   "execution_count": 583,
   "metadata": {},
   "outputs": [
    {
     "data": {
      "text/plain": [
       "0.2602008010592739"
      ]
     },
     "execution_count": 583,
     "metadata": {},
     "output_type": "execute_result"
    }
   ],
   "source": [
    "a * b"
   ]
  },
  {
   "cell_type": "code",
   "execution_count": 585,
   "metadata": {},
   "outputs": [
    {
     "data": {
      "text/plain": [
       "0.22756146490065415"
      ]
     },
     "execution_count": 585,
     "metadata": {},
     "output_type": "execute_result"
    }
   ],
   "source": [
    "a*np.exp(-b*0.1)"
   ]
  },
  {
   "cell_type": "code",
   "execution_count": 706,
   "metadata": {},
   "outputs": [
    {
     "data": {
      "text/plain": [
       "0.054845130096152814"
      ]
     },
     "execution_count": 706,
     "metadata": {},
     "output_type": "execute_result"
    }
   ],
   "source": [
    "mkt_sample[1].pct_change().std()*np.sqrt(N)"
   ]
  },
  {
   "cell_type": "code",
   "execution_count": 597,
   "metadata": {},
   "outputs": [
    {
     "data": {
      "text/plain": [
       "Index(['2021-04-07 11:32:50', '2021-04-07 11:32:51', '2021-04-07 11:32:52',\n",
       "       '2021-04-07 11:32:53', '2021-04-07 11:32:54', '2021-04-07 11:32:55',\n",
       "       '2021-04-07 11:32:56', '2021-04-07 11:32:57', '2021-04-07 11:32:58',\n",
       "       '2021-04-07 11:32:59',\n",
       "       ...\n",
       "       '2021-04-19 09:53:37', '2021-04-19 09:53:38', '2021-04-19 09:53:39',\n",
       "       '2021-04-19 09:53:40', '2021-04-19 09:53:41', '2021-04-19 09:53:42',\n",
       "       '2021-04-19 09:53:43', '2021-04-19 09:53:44', '2021-04-19 09:53:45',\n",
       "       '2021-04-19 09:53:46'],\n",
       "      dtype='object', name='system_time', length=1030775)"
      ]
     },
     "execution_count": 597,
     "metadata": {},
     "output_type": "execute_result"
    }
   ],
   "source": [
    "ETH_mid.index"
   ]
  },
  {
   "cell_type": "code",
   "execution_count": 745,
   "metadata": {},
   "outputs": [],
   "source": []
  },
  {
   "cell_type": "code",
   "execution_count": 750,
   "metadata": {},
   "outputs": [],
   "source": [
    "#sigma\n",
    "log_norm = np.log(mkt_sample[1]).diff(1).dropna()"
   ]
  },
  {
   "cell_type": "code",
   "execution_count": 799,
   "metadata": {},
   "outputs": [
    {
     "data": {
      "text/plain": [
       "0.05484364831874166"
      ]
     },
     "execution_count": 799,
     "metadata": {},
     "output_type": "execute_result"
    }
   ],
   "source": [
    "log_norm.std() * np.sqrt(N)"
   ]
  },
  {
   "cell_type": "code",
   "execution_count": 801,
   "metadata": {},
   "outputs": [
    {
     "data": {
      "text/plain": [
       "False"
      ]
     },
     "execution_count": 801,
     "metadata": {},
     "output_type": "execute_result"
    }
   ],
   "source": [
    "a < np.nan"
   ]
  },
  {
   "cell_type": "markdown",
   "metadata": {},
   "source": [
    "# Use Parameters for Next Day"
   ]
  },
  {
   "cell_type": "code",
   "execution_count": 829,
   "metadata": {},
   "outputs": [],
   "source": [
    "# Get mid prices for next day\n",
    "s = train.loc['2021-04-08']\n",
    "s = s.resample('S').asfreq(fill_value=np.nan)\n",
    "s = s.ffill()\n",
    "s = s['midpoint'] \n",
    "\n",
    "# Get market orders for next day, low market is lowest\n",
    "# price of market order submitted in 1-sec\n",
    "low_mkt = temp.loc['2021-04-08'].resample('S').min().reindex(s.index)\n",
    "\n",
    "# hi market is highest price of market order submitted\n",
    "# in 1-sec\n",
    "hi_mkt = temp.loc['2021-04-08'].resample('S').max().reindex(s.index)"
   ]
  },
  {
   "cell_type": "code",
   "execution_count": 834,
   "metadata": {},
   "outputs": [],
   "source": [
    "N = 60*60*24\n",
    "T = 1\n",
    "sigma = 0.0548#1064#np.std(mkt_sample[1]) / np.sqrt(N)\n",
    "dt = T/N\n",
    "q0 = 0\n",
    "gamma = 0.1\n",
    "A = a# * 33009\n",
    "k = b# * a\n",
    "\n",
    "# Initialize empty array for pnl\n",
    "pnl = np.zeros(N+2)\n",
    "\n",
    "# Inventory\n",
    "q = np.zeros(N+2)\n",
    "\n",
    "# Capital\n",
    "x = np.zeros(N+2)\n",
    "\n",
    "# Ask limit orders\n",
    "r_a = np.zeros(N+1)\n",
    "\n",
    "# Reserve price\n",
    "r = np.zeros(N+1)\n",
    "\n",
    "# Bid limit orders\n",
    "r_b = np.zeros(N+1)\n",
    "\n",
    "for i in range(len(s)):\n",
    "    date = s.index[i]\n",
    "\n",
    "    # Update daily values if necessary\n",
    "    #A = Alist[Alist.index.date == da.index[i].date()][0]\n",
    "\n",
    "    r[i] = s[i] - q[i] * gamma * sigma**2 * (T-i*dt)\n",
    "    #print(r[i])\n",
    "\n",
    "    spread = gamma * sigma**2 * (T - i * dt) + (2 / gamma) * np.log(1 + (gamma / k))\n",
    "\n",
    "    spread = spread / 2\n",
    "\n",
    "    # Adjust spreads for gap between reserve price\n",
    "    # and asset mid-price\n",
    "    gap = np.abs(r[i] - s[i])\n",
    "\n",
    "    if r[i] >= s[i]:\n",
    "        delta_a = spread + gap\n",
    "        delta_b = spread - gap    \n",
    "    else:\n",
    "        delta_a = spread - gap\n",
    "        delta_b = spread + gap\n",
    "\n",
    "    r_a[i] = r[i] + delta_a\n",
    "    r_b[i] = r[i] - delta_b\n",
    "    \n",
    "    sell = 0\n",
    "    buy  = 0\n",
    "    \n",
    "    if hi_mkt.loc[date,1] > r_a[i]:\n",
    "        sell = 0.1\n",
    "    \n",
    "    if low_mkt.loc[date,1] < r_b[i]:\n",
    "        buy = 0.1\n",
    "\n",
    "    # Adjust inventory to reflect transactions\n",
    "    q[i+1] = q[i] + buy - sell\n",
    "\n",
    "    #     # Calculate new capital\n",
    "    x[i+1] = x[i] + sell*(s[i]+delta_a) - buy*(s[i]-delta_b)\n",
    "\n",
    "    #     # Calculate pnl of assets\n",
    "    pnl[i+1] = x[i+1] + q[i+1]*s[i]\n"
   ]
  },
  {
   "cell_type": "code",
   "execution_count": 835,
   "metadata": {},
   "outputs": [
    {
     "data": {
      "text/plain": [
       "<AxesSubplot:>"
      ]
     },
     "execution_count": 835,
     "metadata": {},
     "output_type": "execute_result"
    },
    {
     "data": {
      "image/png": "[encoded data removed]",
      "text/plain": [
       "<Figure size 432x288 with 1 Axes>"
      ]
     },
     "metadata": {
      "needs_background": "light"
     },
     "output_type": "display_data"
    }
   ],
   "source": [
    "pd.DataFrame(pnl).plot()"
   ]
  },
  {
   "cell_type": "code",
   "execution_count": 784,
   "metadata": {},
   "outputs": [
    {
     "data": {
      "text/html": [
       "<div>\n",
       "<style scoped>\n",
       "    .dataframe tbody tr th:only-of-type {\n",
       "        vertical-align: middle;\n",
       "    }\n",
       "\n",
       "    .dataframe tbody tr th {\n",
       "        vertical-align: top;\n",
       "    }\n",
       "\n",
       "    .dataframe thead th {\n",
       "        text-align: right;\n",
       "    }\n",
       "</style>\n",
       "<table border=\"1\" class=\"dataframe\">\n",
       "  <thead>\n",
       "    <tr style=\"text-align: right;\">\n",
       "      <th></th>\n",
       "      <th>0</th>\n",
       "      <th>1</th>\n",
       "    </tr>\n",
       "    <tr>\n",
       "      <th>system_time</th>\n",
       "      <th></th>\n",
       "      <th></th>\n",
       "    </tr>\n",
       "  </thead>\n",
       "  <tbody>\n",
       "    <tr>\n",
       "      <th>2021-04-08 00:00:01</th>\n",
       "      <td>1965.365556</td>\n",
       "      <td>1963.514444</td>\n",
       "    </tr>\n",
       "    <tr>\n",
       "      <th>2021-04-08 00:00:02</th>\n",
       "      <td>1965.365556</td>\n",
       "      <td>1963.514444</td>\n",
       "    </tr>\n",
       "    <tr>\n",
       "      <th>2021-04-08 00:00:03</th>\n",
       "      <td>1965.365556</td>\n",
       "      <td>1963.514444</td>\n",
       "    </tr>\n",
       "    <tr>\n",
       "      <th>2021-04-08 00:00:04</th>\n",
       "      <td>1965.365556</td>\n",
       "      <td>1963.514444</td>\n",
       "    </tr>\n",
       "    <tr>\n",
       "      <th>2021-04-08 00:00:05</th>\n",
       "      <td>1965.365556</td>\n",
       "      <td>1963.514444</td>\n",
       "    </tr>\n",
       "    <tr>\n",
       "      <th>...</th>\n",
       "      <td>...</td>\n",
       "      <td>...</td>\n",
       "    </tr>\n",
       "    <tr>\n",
       "      <th>2021-04-08 23:59:55</th>\n",
       "      <td>2082.130406</td>\n",
       "      <td>2080.279594</td>\n",
       "    </tr>\n",
       "    <tr>\n",
       "      <th>2021-04-08 23:59:56</th>\n",
       "      <td>2082.130406</td>\n",
       "      <td>2080.279594</td>\n",
       "    </tr>\n",
       "    <tr>\n",
       "      <th>2021-04-08 23:59:57</th>\n",
       "      <td>2082.110406</td>\n",
       "      <td>2080.259594</td>\n",
       "    </tr>\n",
       "    <tr>\n",
       "      <th>2021-04-08 23:59:58</th>\n",
       "      <td>2082.400406</td>\n",
       "      <td>2080.549594</td>\n",
       "    </tr>\n",
       "    <tr>\n",
       "      <th>2021-04-08 23:59:59</th>\n",
       "      <td>2082.220406</td>\n",
       "      <td>2080.369594</td>\n",
       "    </tr>\n",
       "  </tbody>\n",
       "</table>\n",
       "<p>86399 rows × 2 columns</p>\n",
       "</div>"
      ],
      "text/plain": [
       "                               0            1\n",
       "system_time                                  \n",
       "2021-04-08 00:00:01  1965.365556  1963.514444\n",
       "2021-04-08 00:00:02  1965.365556  1963.514444\n",
       "2021-04-08 00:00:03  1965.365556  1963.514444\n",
       "2021-04-08 00:00:04  1965.365556  1963.514444\n",
       "2021-04-08 00:00:05  1965.365556  1963.514444\n",
       "...                          ...          ...\n",
       "2021-04-08 23:59:55  2082.130406  2080.279594\n",
       "2021-04-08 23:59:56  2082.130406  2080.279594\n",
       "2021-04-08 23:59:57  2082.110406  2080.259594\n",
       "2021-04-08 23:59:58  2082.400406  2080.549594\n",
       "2021-04-08 23:59:59  2082.220406  2080.369594\n",
       "\n",
       "[86399 rows x 2 columns]"
      ]
     },
     "execution_count": 784,
     "metadata": {},
     "output_type": "execute_result"
    }
   ],
   "source": [
    "r_df = pd.DataFrame(np.array([r_a[:-2], r_b[:-2]]), columns=s.index).T\n",
    "r_df"
   ]
  },
  {
   "cell_type": "code",
   "execution_count": 788,
   "metadata": {},
   "outputs": [
    {
     "data": {
      "text/plain": [
       "[<matplotlib.lines.Line2D at 0x7ff33dec1e90>,\n",
       " <matplotlib.lines.Line2D at 0x7ff34fac9650>]"
      ]
     },
     "execution_count": 788,
     "metadata": {},
     "output_type": "execute_result"
    },
    {
     "data": {
      "image/png": "[encoded data removed]",
      "text/plain": [
       "<Figure size 1080x576 with 1 Axes>"
      ]
     },
     "metadata": {
      "needs_background": "light"
     },
     "output_type": "display_data"
    }
   ],
   "source": [
    "start = '2021-04-08 12:00:00'\n",
    "end = '2021-04-08 12:15:00'\n",
    "\n",
    "plt.figure(figsize=(15,8))\n",
    "plt.scatter(temp.loc[start:end][1].index, temp.loc[start:end][1].values)\n",
    "plt.plot(r_df.loc[start:end])"
   ]
  },
  {
   "cell_type": "code",
   "execution_count": null,
   "metadata": {},
   "outputs": [],
   "source": []
  }
 ],
 "metadata": {
  "kernelspec": {
   "display_name": "Python 3",
   "language": "python",
   "name": "python3"
  },
  "language_info": {
   "codemirror_mode": {
    "name": "ipython",
    "version": 3
   },
   "file_extension": ".py",
   "mimetype": "text/x-python",
   "name": "python",
   "nbconvert_exporter": "python",
   "pygments_lexer": "ipython3",
   "version": "3.7.4"
  }
 },
 "nbformat": 4,
 "nbformat_minor": 2
}
