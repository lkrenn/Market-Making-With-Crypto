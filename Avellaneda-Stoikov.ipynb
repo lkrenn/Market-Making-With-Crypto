{
 "cells": [
  {
   "cell_type": "markdown",
   "metadata": {},
   "source": [
    "# Market Making Strategy with Cryptocurrencies\n",
    "\n",
    "In this notebook, I will be implementing the market-making methodology outlined in Avellaneda and Stoikov's popular market making whitepaper titled High-Frequency Trading in a Limit Order Book. The paper can be found for free here: https://www.math.nyu.edu/~avellane/HighFrequencyTrading.pdf\n",
    "\n",
    "In the whitepaper, the optimal behaviour of a market maker given certain assumptions is derived. Ultimately, this derivation yields a bid/ask spread that is defined as follows:\n",
    "\n",
    "$$\n",
    "\\text{bid / ask spread} = \\gamma \\sigma ^2 (T - t) + \\frac{2}{\\gamma}\\ln\\left(1 + \\frac{\\gamma}{k}\\right)\n",
    "$$\n",
    "\n",
    "This spread is defined around a reservation price i.e. a price at which a market maker is indifferent between their current portfolio and their current portfolio + a new share. The reservation price is derived in the whitepaper as follows:\n",
    "\n",
    "$$\n",
    "\\text{reservation price} = s - q\\gamma\\sigma^2(T-t)\n",
    "$$\n",
    "\n",
    "The variables mentioned in the above definitions are as follows:\n",
    "\n",
    "* $s = S_t$ i.e. the per-unit price of an asset at time $t$\n",
    "* $T$, the terminus of the time series \n",
    "* $\\sigma$, the volatility of the asset \n",
    "* $q$, the number of assets held in inventory\n",
    "* $\\gamma$, a risk factor that is adjusted to meet the risk/return trade-off of the market maker\n",
    "* $x$, the initial capital of the market maker\n",
    "* $k$, the intensity of the arrival of orders\n",
    "\n",
    "\n",
    "# 0 - Implementation of the Paper\n",
    "\n",
    "Now that we have an idea of where to start, let us first implement the simulation that is done in the paper, and see if we can translate it directly to the crypo pairs that we picked earlier."
   ]
  },
  {
   "cell_type": "code",
   "execution_count": 2,
   "metadata": {},
   "outputs": [],
   "source": [
    "import numpy as np\n",
    "import pandas as pd\n",
    "import matplotlib.pyplot as plt\n",
    "import random"
   ]
  },
  {
   "cell_type": "code",
   "execution_count": 96,
   "metadata": {},
   "outputs": [],
   "source": [
    "# Create a brownian motion generator\n",
    "def brownian_motion(x0, n, dt, sigma):\n",
    "    \n",
    "    # x0 is an array of initial conditions\n",
    "    x0 = np.array(x0)\n",
    "    \n",
    "    # Generate normal random variables\n",
    "    r = np.random.normal(size = x0.shape + (n,), scale = sigma*np.sqrt(dt))\n",
    "    \n",
    "    # Calculate cumulative sum of random variables\n",
    "    cumsum = np.cumsum(r, axis=1)\n",
    "    \n",
    "    # Add in initial conditions\n",
    "    cumsum += np.expand_dims(x0, axis=-1)\n",
    "    \n",
    "    cumsum[:,0] = x0\n",
    "    \n",
    "    return cumsum"
   ]
  },
  {
   "cell_type": "code",
   "execution_count": 97,
   "metadata": {},
   "outputs": [
    {
     "data": {
      "text/plain": [
       "array([[100.        ,  99.72873457,  99.81256616, 100.05076017,\n",
       "         99.89718526,  99.86352087,  99.54779064,  99.68029434,\n",
       "         99.46754058,  99.57683659,  99.57833343,  99.30961624,\n",
       "         99.24499488,  99.22394462,  99.17891108,  99.13081884,\n",
       "         99.08389386,  99.0531074 ,  99.24406963,  99.17635092],\n",
       "       [102.        , 101.95063648, 102.20491585, 102.38002499,\n",
       "        102.40517432, 102.41283074, 102.30314073, 102.48199023,\n",
       "        102.60135417, 102.74146875, 102.83925284, 102.72487711,\n",
       "        102.77271691, 102.85155839, 102.65660463, 102.98150337,\n",
       "        102.84762847, 102.48117848, 102.31659999, 102.43351057]])"
      ]
     },
     "execution_count": 97,
     "metadata": {},
     "output_type": "execute_result"
    }
   ],
   "source": [
    "# Sanity Check\n",
    "brownian_motion([100,102], 20, 0.005, 2)"
   ]
  },
  {
   "cell_type": "code",
   "execution_count": 149,
   "metadata": {},
   "outputs": [],
   "source": [
    "# Sample Brownian Motion\n",
    "\n",
    "# Initial stock price\n",
    "s0 = 100\n",
    "\n",
    "# Number of time steps\n",
    "N = 20000\n",
    "\n",
    "# Terminus \n",
    "T = 1\n",
    "\n",
    "# Step size\n",
    "dt = T/N\n",
    "\n",
    "# Stdev\n",
    "sigma = 2\n",
    "\n",
    "# Initialize empty array to keep track of\n",
    "# Evolution of simulated stock price\n",
    "s = brownian_motion([s0], N, dt, sigma)"
   ]
  },
  {
   "cell_type": "code",
   "execution_count": 150,
   "metadata": {},
   "outputs": [
    {
     "data": {
      "text/plain": [
       "<AxesSubplot:>"
      ]
     },
     "execution_count": 150,
     "metadata": {},
     "output_type": "execute_result"
    },
    {
     "data": {
      "image/png": "[encoded data removed]",
      "text/plain": [
       "<Figure size 432x288 with 1 Axes>"
      ]
     },
     "metadata": {
      "needs_background": "light"
     },
     "output_type": "display_data"
    }
   ],
   "source": [
    "# Rough graph of stock evolution\n",
    "pd.DataFrame(s).T.plot()"
   ]
  },
  {
   "cell_type": "code",
   "execution_count": 151,
   "metadata": {},
   "outputs": [
    {
     "data": {
      "text/plain": [
       "(1, 20000)"
      ]
     },
     "execution_count": 151,
     "metadata": {},
     "output_type": "execute_result"
    }
   ],
   "source": [
    "np.shape(s)"
   ]
  },
  {
   "cell_type": "code",
   "execution_count": 152,
   "metadata": {},
   "outputs": [],
   "source": [
    "s = s[0]"
   ]
  },
  {
   "cell_type": "markdown",
   "metadata": {},
   "source": [
    "Since crypto markets do not close, we will be implementing the version of the model that has an infinite time horizon. This means that some new parameters will need to be defined, including:\n",
    "\n",
    "* $\\omega$, the upper bound of inventory that the market maker is allowed to have"
   ]
  },
  {
   "cell_type": "code",
   "execution_count": 153,
   "metadata": {},
   "outputs": [],
   "source": [
    "# Define variables for our market maker\n",
    "\n",
    "# Initialize empty array for pnl\n",
    "pnl = np.zeros(N+1)\n",
    "\n",
    "# Capital \n",
    "x = np.zeros(N+1)\n",
    "\n",
    "# Inventory\n",
    "q = np.zeros(N+1)\n",
    "q_max = 5\n",
    "\n",
    "# Reserve price\n",
    "r = np.zeros(N)\n",
    "\n",
    "# Optimal bid/ask\n",
    "r_a = np.zeros(N+1)\n",
    "r_b = np.zeros(N+1)\n",
    "\n",
    "# Risk tolerance of market maker\n",
    "gamma = 0.5\n",
    "\n",
    "# Intensity of arrival orders\n",
    "k = 2\n",
    "\n",
    "# Order consumption probability factors\n",
    "M = s0 / N\n",
    "A = np.exp(k*M/2)/dt\n",
    "\n",
    "# Keep track of max/mins\n",
    "max_q_held = 0\n",
    "min_q_held = 0"
   ]
  },
  {
   "cell_type": "code",
   "execution_count": 154,
   "metadata": {},
   "outputs": [],
   "source": [
    "for i in range(N):\n",
    "    omega = 1/2 * gamma **2 * sigma**2 * (q_max+1)**2\n",
    "    \n",
    "    coef = gamma**2 * sigma**2 /(2*omega-gamma**2 * q[i]**2 * sigma**2)\n",
    "    \n",
    "    r_a[i] = s[i] + np.log(1+(1-2*q[i])*coef)/gamma\n",
    "    r_b[i] = s[i] + np.log(1+(-1-2*q[i])*coef)/gamma\n",
    "    \n",
    "    r[i] = (r_a[i] + r_b[i])/2\n",
    "    \n",
    "    delta_a = r_a[i] - s[i]\n",
    "    delta_b = s[i] - r_b[i]\n",
    "    \n",
    "    lambda_a = A * np.exp(-k*delta_a)\n",
    "    lambda_b = A * np.exp(-k*delta_b)\n",
    "    \n",
    "    y_a = random.random()\n",
    "    y_b = random.random()\n",
    "    \n",
    "    dNa = 0\n",
    "    dNb = 0\n",
    "    \n",
    "    prob_ask = 1-np.exp(-lambda_a*dt)\n",
    "    prob_bid = 1-np.exp(-lambda_b*dt)\n",
    "    \n",
    "    if y_a < prob_ask:\n",
    "        dNa = 1\n",
    "    if y_b < prob_bid:\n",
    "        dNb = 1\n",
    "        \n",
    "    q[i+1] = q[i] - dNa + dNb\n",
    "    x[i+1] = x[i] + r_a[i]*dNa -r_b[i]*dNb\n",
    "    pnl[i+1] = x[i+1] + q[i+1]*s[i]\n",
    "    \n",
    "    if q[i+1] > max_q_held:\n",
    "        max_q_held = q[i+1]\n",
    "    if q[i+1] < min_q_held:\n",
    "        min_q_held = q[i+1]\n",
    "\n",
    "pnl_sim = pnl[-1]\n",
    "    \n",
    "    "
   ]
  },
  {
   "cell_type": "code",
   "execution_count": 156,
   "metadata": {},
   "outputs": [
    {
     "data": {
      "text/plain": [
       "<AxesSubplot:>"
      ]
     },
     "execution_count": 156,
     "metadata": {},
     "output_type": "execute_result"
    },
    {
     "data": {
      "image/png": "[encoded data removed]",
      "text/plain": [
       "<Figure size 432x288 with 1 Axes>"
      ]
     },
     "metadata": {
      "needs_background": "light"
     },
     "output_type": "display_data"
    }
   ],
   "source": [
    "a = pd.DataFrame(pnl)\n",
    "a.plot()"
   ]
  },
  {
   "cell_type": "markdown",
   "metadata": {},
   "source": [
    "# 1 - Data\n",
    "\n",
    "To trade in a limit order book, we must first get order book data. Kraken makes it very easy to download .csv files of their historical order book data, and also provide a REST API. Since there are limitations to the data that can be downloaded via the API, we will first work with the .csv files and if time permits, create an algorithm that extracts the data that we want. \n",
    "\n",
    "We will look at two crypto/USD pairs, namely Ethereum/Ether (ETH) and Covalent (CQT). The data for each pair has already been downloaded, so we can"
   ]
  },
  {
   "cell_type": "code",
   "execution_count": null,
   "metadata": {},
   "outputs": [],
   "source": []
  }
 ],
 "metadata": {
  "kernelspec": {
   "display_name": "Python 3",
   "language": "python",
   "name": "python3"
  },
  "language_info": {
   "codemirror_mode": {
    "name": "ipython",
    "version": 3
   },
   "file_extension": ".py",
   "mimetype": "text/x-python",
   "name": "python",
   "nbconvert_exporter": "python",
   "pygments_lexer": "ipython3",
   "version": "3.7.4"
  }
 },
 "nbformat": 4,
 "nbformat_minor": 2
}
