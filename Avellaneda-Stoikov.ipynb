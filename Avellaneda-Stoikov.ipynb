{
 "cells": [
  {
   "cell_type": "markdown",
   "metadata": {},
   "source": [
    "# Market Making Strategy with Cryptocurrencies\n",
    "\n",
    "In this notebook, I will be implementing the market-making methodology outlined in Avellaneda and Stoikov's popular market making whitepaper titled High-Frequency Trading in a Limit Order Book. The paper can be found for free here: https://www.math.nyu.edu/~avellane/HighFrequencyTrading.pdf\n",
    "\n",
    "In the whitepaper, the optimal behaviour of a market maker given certain assumptions is derived. Ultimately, this derivation yields a spread used to calculate the optimal placement for limit order, which is defined as follows:\n",
    "\n",
    "$$\n",
    "\\text{bid / ask spread} = \\gamma \\sigma ^2 (T - t) + \\frac{2}{\\gamma}\\ln\\left(1 + \\frac{\\gamma}{k}\\right)\n",
    "$$\n",
    "\n",
    "This spread is defined around a reservation price i.e. a price at which a market maker is indifferent between their current portfolio and their current portfolio $\\pm$ a new share. The reservation price is derived in the whitepaper as follows:\n",
    "\n",
    "$$\n",
    "\\text{reservation price} = s - q\\gamma\\sigma^2(T-t)\n",
    "$$\n",
    "\n",
    "The variables mentioned in the above definitions are as follows:\n",
    "\n",
    "* $s$ i.e. the per-unit mid-price of the\n",
    "* $T$, the terminus of the time series \n",
    "* $\\sigma$, the volatility of the asset \n",
    "* $q$, the number of assets held in inventory\n",
    "* $\\gamma$, a risk factor that is adjusted to meet the risk/return trade-off of the market maker\n",
    "* $x$, the initial capital of the market maker\n",
    "* $k$, the intensity of the arrival of orders\n",
    "\n",
    "\n",
    "# 0 - Implementation of the Paper\n",
    "\n",
    "Now that we have an idea of where to start, let us first implement the simulation that is done in the paper, and see if we can translate it directly to the crypo pairs that we picked earlier."
   ]
  },
  {
   "cell_type": "code",
   "execution_count": 1,
   "metadata": {},
   "outputs": [],
   "source": [
    "#!pip install pykrakenapi\n",
    "#!pip install binance\n",
    "#!pip install powerlaw"
   ]
  },
  {
   "cell_type": "code",
   "execution_count": 1,
   "metadata": {},
   "outputs": [
    {
     "name": "stderr",
     "output_type": "stream",
     "text": [
      "/Users/lucaskrenn/opt/anaconda3/lib/python3.7/site-packages/statsmodels/tools/_testing.py:19: FutureWarning: pandas.util.testing is deprecated. Use the functions in the public API at pandas.testing instead.\n",
      "  import pandas.util.testing as tm\n"
     ]
    }
   ],
   "source": [
    "# For calculations\n",
    "import numpy as np\n",
    "import pandas as pd\n",
    "import random\n",
    "from datetime import datetime\n",
    "import powerlaw\n",
    "import scipy.optimize\n",
    "\n",
    "# For Visualization\n",
    "import matplotlib.pyplot as plt\n",
    "from matplotlib import gridspec\n",
    "import seaborn as sns\n",
    "import matplotlib.dates as mdates\n",
    "\n",
    "# Save To/Navigate Through System Directory\n",
    "import sys\n",
    "import os\n",
    "import pickle\n",
    "\n",
    "# For Parallel Computation\n",
    "from multiprocessing import Pool\n",
    "\n",
    "# Other/APIs\n",
    "import krakenex\n",
    "from pykrakenapi import KrakenAPI\n",
    "import binance"
   ]
  },
  {
   "cell_type": "markdown",
   "metadata": {},
   "source": [
    "First, we need to define a Brownian Motion generator in order to simulate the mid-price of our asset:"
   ]
  },
  {
   "cell_type": "code",
   "execution_count": 2,
   "metadata": {},
   "outputs": [],
   "source": [
    "# Create a brownian motion generator\n",
    "def brownian_motion(x0, n, dt, sigma):\n",
    "\n",
    "    # Generate normal random variables\n",
    "    r = np.random.normal(size = n, scale = sigma*np.sqrt(dt))\n",
    "\n",
    "    # Calculate cumulative sum of random variables\n",
    "    cumsum = np.cumsum(r)\n",
    "\n",
    "    # Add in initial conditions\n",
    "    cumsum += np.expand_dims(x0, axis=-1)\n",
    "    cumsum[0] = x0\n",
    "    \n",
    "    return cumsum"
   ]
  },
  {
   "cell_type": "code",
   "execution_count": 3,
   "metadata": {},
   "outputs": [],
   "source": [
    "# Set seed for reproducible results\n",
    "np.random.seed(101)\n",
    "\n",
    "# Initialize parameters\n",
    "s0 = 100\n",
    "T = 1\n",
    "sigma = 2\n",
    "dt = 0.005\n",
    "gamma = 0.1\n",
    "k = 1.5\n",
    "A = 140\n",
    "sim_length = 1000"
   ]
  },
  {
   "cell_type": "code",
   "execution_count": 4,
   "metadata": {},
   "outputs": [],
   "source": [
    "# Use lists to keep track of results\n",
    "spreadlist = []\n",
    "reslist = []\n",
    "qlist = []\n",
    "\n",
    "# Duration of each simulation\n",
    "N = 200\n",
    "\n",
    "for sim in range(sim_length):\n",
    "    s = brownian_motion(s0, N+1, dt, sigma)\n",
    "    \n",
    "    # Initialize empty array for pnl\n",
    "    pnl = np.zeros(N+2)\n",
    "  \n",
    "    # Inventory\n",
    "    q = np.zeros(N+2)\n",
    "    \n",
    "    # Capital/Cash\n",
    "    x = np.zeros(N+2)\n",
    "    \n",
    "    # Ask limit order\n",
    "    s_a = np.zeros(N+1)\n",
    "\n",
    "    # Reserve price\n",
    "    r = np.zeros(N+1)\n",
    "    \n",
    "    # Bid limit order\n",
    "    s_b = np.zeros(N+1)\n",
    "\n",
    "    for i in range(len(s)):\n",
    "        \n",
    "        # Calculate reservation price\n",
    "        r[i] = s[i] - q[i] * gamma * sigma**2 * (T-i*dt)\n",
    "\n",
    "        # Calculate spread\n",
    "        spread = gamma * sigma**2 * (T - i * dt) + (2 / gamma) * np.log(1 + (gamma / k))\n",
    "        \n",
    "        spread = spread / 2\n",
    "\n",
    "        # Adjust spreads for gap between reserve price\n",
    "        # and asset mid-price\n",
    "        gap = np.abs(r[i] - s[i])\n",
    "\n",
    "        if r[i] >= s[i]:\n",
    "            delta_a = spread + gap\n",
    "            delta_b = spread - gap    \n",
    "        else:\n",
    "            delta_a = spread - gap\n",
    "            delta_b = spread + gap\n",
    "\n",
    "        s_a[i] = s[i] + delta_a\n",
    "        s_b[i] = s[i] - delta_b\n",
    "        \n",
    "        # Calculate our lambdas, (12)\n",
    "        lambda_a = A*np.exp(-k*delta_a) * dt\n",
    "        lambda_b = A*np.exp(-k*delta_b) * dt\n",
    "\n",
    "        # Restrict to domain of feasible probabilities\n",
    "        # i.e. [0,1]\n",
    "        prob_ask = max(0, min(lambda_a,1))\n",
    "        prob_bid = max(0, min(lambda_b,1))\n",
    "\n",
    "        # Determine whether or not we buy/sell according\n",
    "        # to the above probabilities\n",
    "        sell = np.random.choice([1,0], p=[prob_ask, 1-prob_ask])\n",
    "        buy  = np.random.choice([1,0], p=[prob_bid, 1-prob_bid])\n",
    "\n",
    "        # Adjust inventory to reflect transactions\n",
    "        q[i+1] = q[i] + buy - sell\n",
    "        \n",
    "        # Calculate new capital\n",
    "        x[i+1] = x[i] + sell*(s[i]+delta_a) - buy*(s[i]-delta_b)\n",
    "\n",
    "        # Calculate pnl of assets\n",
    "        pnl[i+1] = x[i+1] + q[i+1]*s[i]\n",
    "        \n",
    "        # Append results to lists\n",
    "        spreadlist.append(spread * 2)\n",
    "        \n",
    "    reslist.append(pnl[-1])\n",
    "    qlist.append(q[-1])"
   ]
  },
  {
   "cell_type": "markdown",
   "metadata": {},
   "source": [
    "To ensure that we have correctly implemented the model, our results should be similar to those in the paper:\n",
    "\n",
    "<img src=\"img/AS_results.png\" alt=\"Drawing\" style=\"width: 400px;\"/>"
   ]
  },
  {
   "cell_type": "code",
   "execution_count": 5,
   "metadata": {},
   "outputs": [
    {
     "data": {
      "text/html": [
       "<div>\n",
       "<style scoped>\n",
       "    .dataframe tbody tr th:only-of-type {\n",
       "        vertical-align: middle;\n",
       "    }\n",
       "\n",
       "    .dataframe tbody tr th {\n",
       "        vertical-align: top;\n",
       "    }\n",
       "\n",
       "    .dataframe thead th {\n",
       "        text-align: right;\n",
       "    }\n",
       "</style>\n",
       "<table border=\"1\" class=\"dataframe\">\n",
       "  <thead>\n",
       "    <tr style=\"text-align: right;\">\n",
       "      <th></th>\n",
       "      <th>Avg. Spread</th>\n",
       "      <th>Profit</th>\n",
       "      <th>Std (Profit)</th>\n",
       "      <th>Final $q$</th>\n",
       "      <th>Std (Final $q$)</th>\n",
       "    </tr>\n",
       "  </thead>\n",
       "  <tbody>\n",
       "    <tr>\n",
       "      <th>Inventory</th>\n",
       "      <td>1.49077</td>\n",
       "      <td>65.308775</td>\n",
       "      <td>6.605462</td>\n",
       "      <td>0.1</td>\n",
       "      <td>2.989314</td>\n",
       "    </tr>\n",
       "  </tbody>\n",
       "</table>\n",
       "</div>"
      ],
      "text/plain": [
       "           Avg. Spread     Profit  Std (Profit)  Final $q$  Std (Final $q$)\n",
       "Inventory      1.49077  65.308775      6.605462        0.1         2.989314"
      ]
     },
     "execution_count": 5,
     "metadata": {},
     "output_type": "execute_result"
    }
   ],
   "source": [
    "pd.DataFrame([np.mean(spreadlist), np.mean(reslist), np.std(reslist), np.mean(qlist), np.std(qlist)],\n",
    "            index=['Avg. Spread','Profit','Std (Profit)', 'Final $q$', 'Std (Final $q$)'],\n",
    "            columns=['Inventory']).T"
   ]
  },
  {
   "cell_type": "markdown",
   "metadata": {},
   "source": [
    "I believe that these results are sufficiently close to assume that the strategy was implemented properly. Let's take a peek at some visualizations:"
   ]
  },
  {
   "cell_type": "code",
   "execution_count": 6,
   "metadata": {},
   "outputs": [
    {
     "data": {
      "image/png": "[encoded data removed]",
      "text/plain": [
       "<Figure size 1080x576 with 1 Axes>"
      ]
     },
     "metadata": {
      "needs_background": "light"
     },
     "output_type": "display_data"
    }
   ],
   "source": [
    "plt.figure(figsize=(15,8))\n",
    "\n",
    "plt.title('Histogram and Kernel Density Estimate of Final PnL Values')\n",
    "\n",
    "# Set plot style\n",
    "sns.set()\n",
    "\n",
    "# Plot kernel density estimate with normalized histogram\n",
    "sns.distplot(reslist,bins=55)\n",
    "\n",
    "plt.axvline(x=np.mean(reslist),\n",
    "            color='red', label='mean $\\mu$ = '+str(np.round(np.mean(reslist),2)))\n",
    "\n",
    "plt.legend()\n",
    "plt.ylabel('Density')\n",
    "plt.xlabel('Final PnL Value')\n",
    "\n",
    "plt.show()"
   ]
  },
  {
   "cell_type": "code",
   "execution_count": 7,
   "metadata": {},
   "outputs": [
    {
     "data": {
      "image/png": "[encoded data removed]",
      "text/plain": [
       "<Figure size 1080x576 with 1 Axes>"
      ]
     },
     "metadata": {},
     "output_type": "display_data"
    }
   ],
   "source": [
    "plt.figure(figsize=(15,8))\n",
    "\n",
    "plt.title('Histogram and Kernel Density Estimate of Final Inventory Values')\n",
    "\n",
    "# Set plot style\n",
    "sns.set()\n",
    "\n",
    "# Plot kernel density estimate with normalized histogram\n",
    "sns.distplot(qlist,bins=19)\n",
    "\n",
    "plt.axvline(x=np.mean(qlist),\n",
    "            color='red', label='mean $\\mu$ = '+str(np.round(np.mean(qlist),2)))\n",
    "\n",
    "plt.legend()\n",
    "plt.ylabel('Density')\n",
    "plt.xlabel('Final Inventory Value')\n",
    "\n",
    "plt.show()"
   ]
  },
  {
   "cell_type": "markdown",
   "metadata": {},
   "source": [
    "Now, let's move onto some visualizations of a single simulation to see what's going on behind the scenes:"
   ]
  },
  {
   "cell_type": "code",
   "execution_count": 8,
   "metadata": {},
   "outputs": [],
   "source": [
    "# Combine all our results into a single DataFrane\n",
    "res = pd.DataFrame([s_a, s, s_b], index=['sell limit orders', 'mid price', 'buy limit orders']).T\n",
    "\n",
    "res['sells']  = ((pd.Series(q).diff() < 0)[:-1] * s_a).replace(0,np.nan)\n",
    "res['buys']   = ((pd.Series(q).diff() > 0)[:-1] * s_b).replace(0,np.nan)"
   ]
  },
  {
   "cell_type": "code",
   "execution_count": 10,
   "metadata": {},
   "outputs": [
    {
     "data": {
      "image/png": "[encoded data removed]",
      "text/plain": [
       "<Figure size 1080x720 with 2 Axes>"
      ]
     },
     "metadata": {},
     "output_type": "display_data"
    }
   ],
   "source": [
    "fig = plt.figure(figsize=(15,10))\n",
    "\n",
    "spec = gridspec.GridSpec(ncols=1, nrows=2, wspace=0.5,\n",
    "                         hspace=0.5, height_ratios=[3, 1])\n",
    "\n",
    "fig.add_subplot(spec[0])\n",
    "\n",
    "# Plot limit orders and mid price\n",
    "plt.plot(res.iloc[:,0], color='grey',  label='Ask Limit Orders', ls=':')\n",
    "plt.plot(res.iloc[:,1], color='black', label='Mid Price')\n",
    "plt.plot(res.iloc[:,2], color='grey',  label='Bid Limit Orders', ls=':')\n",
    "\n",
    "# Add buys and sells\n",
    "plt.scatter(range(201), res.iloc[:,3], color='red', label='Sell Limit Order Filled')\n",
    "plt.scatter(range(201), res.iloc[:,4], color='green', label='Buy Limit Order Filled')\n",
    "\n",
    "plt.legend()\n",
    "plt.title('Trade History of a Single Simulation')\n",
    "\n",
    "fig.add_subplot(spec[1])\n",
    "\n",
    "plt.subplot(3,1,3)\n",
    "plt.bar(range(len(q)), q*(q>0), color='g', edgecolor='g')\n",
    "plt.bar(range(len(q)), q*(q<0), color='r', edgecolor='r')\n",
    "plt.title('Inventory')\n",
    "\n",
    "plt.show()"
   ]
  },
  {
   "cell_type": "markdown",
   "metadata": {},
   "source": [
    "# 1 - Ethereum\n",
    "\n",
    "Now that we are comfortable with the Avellaneda-Stoikov model, let's source some crypto market/order book data so that we can apply the model to the crypto markets! We will first start with a large-cap crypto with lots of liquidity since data is more freely available. \n",
    "\n",
    "## 1.1 - Data\n",
    "\n",
    "Naturally, the first thing we need to do is source data. The crypto industry is extremely generous with their data, so getting price data is quite easy and is often free.\n",
    "\n",
    "### 1.1.1 - Kraken Market Data\n",
    "\n",
    "Kraken makes it very easy to download .csv files of their market order data, and also provide a REST API. Since there are limitations to the data that can be downloaded via the API, we will first work with the .csv files and if time permits, create an algorithm that extracts the data that we want. \n",
    "\n",
    "First, let's look at ETH/USD. Since these files are extremely large, they will be kept in a separate folder."
   ]
  },
  {
   "cell_type": "code",
   "execution_count": 326,
   "metadata": {},
   "outputs": [
    {
     "data": {
      "text/html": [
       "<div>\n",
       "<style scoped>\n",
       "    .dataframe tbody tr th:only-of-type {\n",
       "        vertical-align: middle;\n",
       "    }\n",
       "\n",
       "    .dataframe tbody tr th {\n",
       "        vertical-align: top;\n",
       "    }\n",
       "\n",
       "    .dataframe thead th {\n",
       "        text-align: right;\n",
       "    }\n",
       "</style>\n",
       "<table border=\"1\" class=\"dataframe\">\n",
       "  <thead>\n",
       "    <tr style=\"text-align: right;\">\n",
       "      <th></th>\n",
       "      <th>0</th>\n",
       "      <th>1</th>\n",
       "      <th>2</th>\n",
       "    </tr>\n",
       "  </thead>\n",
       "  <tbody>\n",
       "    <tr>\n",
       "      <th>0</th>\n",
       "      <td>1438956205</td>\n",
       "      <td>3.00000</td>\n",
       "      <td>70.317378</td>\n",
       "    </tr>\n",
       "    <tr>\n",
       "      <th>1</th>\n",
       "      <td>1438956209</td>\n",
       "      <td>3.00000</td>\n",
       "      <td>11.539900</td>\n",
       "    </tr>\n",
       "    <tr>\n",
       "      <th>2</th>\n",
       "      <td>1438967962</td>\n",
       "      <td>3.00001</td>\n",
       "      <td>1.073291</td>\n",
       "    </tr>\n",
       "    <tr>\n",
       "      <th>3</th>\n",
       "      <td>1438967962</td>\n",
       "      <td>3.00000</td>\n",
       "      <td>41.000000</td>\n",
       "    </tr>\n",
       "    <tr>\n",
       "      <th>4</th>\n",
       "      <td>1439016198</td>\n",
       "      <td>3.00000</td>\n",
       "      <td>0.400000</td>\n",
       "    </tr>\n",
       "  </tbody>\n",
       "</table>\n",
       "</div>"
      ],
      "text/plain": [
       "            0        1          2\n",
       "0  1438956205  3.00000  70.317378\n",
       "1  1438956209  3.00000  11.539900\n",
       "2  1438967962  3.00001   1.073291\n",
       "3  1438967962  3.00000  41.000000\n",
       "4  1439016198  3.00000   0.400000"
      ]
     },
     "execution_count": 326,
     "metadata": {},
     "output_type": "execute_result"
    }
   ],
   "source": [
    "temp = pd.read_csv('../ETH/ETHUSD.csv', header=None)\n",
    "temp.head() "
   ]
  },
  {
   "cell_type": "markdown",
   "metadata": {},
   "source": [
    "Now, we know from the Kraken website that the data is formatted as follows:\n",
    "\n",
    "* Date\n",
    "* Asset Price\n",
    "* Volume Exchanged\n",
    "\n",
    "So let's properly name these columns to make the code a little more readable:"
   ]
  },
  {
   "cell_type": "code",
   "execution_count": 327,
   "metadata": {},
   "outputs": [
    {
     "data": {
      "text/html": [
       "<div>\n",
       "<style scoped>\n",
       "    .dataframe tbody tr th:only-of-type {\n",
       "        vertical-align: middle;\n",
       "    }\n",
       "\n",
       "    .dataframe tbody tr th {\n",
       "        vertical-align: top;\n",
       "    }\n",
       "\n",
       "    .dataframe thead th {\n",
       "        text-align: right;\n",
       "    }\n",
       "</style>\n",
       "<table border=\"1\" class=\"dataframe\">\n",
       "  <thead>\n",
       "    <tr style=\"text-align: right;\">\n",
       "      <th></th>\n",
       "      <th>Timestamp</th>\n",
       "      <th>Price</th>\n",
       "      <th>Volume</th>\n",
       "    </tr>\n",
       "  </thead>\n",
       "  <tbody>\n",
       "    <tr>\n",
       "      <th>0</th>\n",
       "      <td>1438956205</td>\n",
       "      <td>3.00000</td>\n",
       "      <td>70.317378</td>\n",
       "    </tr>\n",
       "    <tr>\n",
       "      <th>1</th>\n",
       "      <td>1438956209</td>\n",
       "      <td>3.00000</td>\n",
       "      <td>11.539900</td>\n",
       "    </tr>\n",
       "    <tr>\n",
       "      <th>2</th>\n",
       "      <td>1438967962</td>\n",
       "      <td>3.00001</td>\n",
       "      <td>1.073291</td>\n",
       "    </tr>\n",
       "    <tr>\n",
       "      <th>3</th>\n",
       "      <td>1438967962</td>\n",
       "      <td>3.00000</td>\n",
       "      <td>41.000000</td>\n",
       "    </tr>\n",
       "    <tr>\n",
       "      <th>4</th>\n",
       "      <td>1439016198</td>\n",
       "      <td>3.00000</td>\n",
       "      <td>0.400000</td>\n",
       "    </tr>\n",
       "  </tbody>\n",
       "</table>\n",
       "</div>"
      ],
      "text/plain": [
       "    Timestamp    Price     Volume\n",
       "0  1438956205  3.00000  70.317378\n",
       "1  1438956209  3.00000  11.539900\n",
       "2  1438967962  3.00001   1.073291\n",
       "3  1438967962  3.00000  41.000000\n",
       "4  1439016198  3.00000   0.400000"
      ]
     },
     "execution_count": 327,
     "metadata": {},
     "output_type": "execute_result"
    }
   ],
   "source": [
    "temp.columns = ['Timestamp', 'Price', 'Volume']\n",
    "temp.head()"
   ]
  },
  {
   "cell_type": "markdown",
   "metadata": {},
   "source": [
    "Now, let's look at each column individually to get a sense of how they are formatted/distributed:"
   ]
  },
  {
   "cell_type": "code",
   "execution_count": 328,
   "metadata": {},
   "outputs": [],
   "source": [
    "# Look at dates first\n",
    "dates = temp['Timestamp']"
   ]
  },
  {
   "cell_type": "code",
   "execution_count": 329,
   "metadata": {},
   "outputs": [
    {
     "data": {
      "text/plain": [
       "0"
      ]
     },
     "execution_count": 329,
     "metadata": {},
     "output_type": "execute_result"
    }
   ],
   "source": [
    "# Are there any NaNs? \n",
    "dates.isnull().sum()"
   ]
  },
  {
   "cell_type": "code",
   "execution_count": 330,
   "metadata": {},
   "outputs": [
    {
     "data": {
      "text/plain": [
       "1438956205"
      ]
     },
     "execution_count": 330,
     "metadata": {},
     "output_type": "execute_result"
    }
   ],
   "source": [
    "# Pick an individual date to see how it is formatted\n",
    "single_date = dates[0]\n",
    "single_date"
   ]
  },
  {
   "cell_type": "markdown",
   "metadata": {},
   "source": [
    "These numbers are certainly Unix-formatted. Let's convert one to standard date/time format and verify:"
   ]
  },
  {
   "cell_type": "code",
   "execution_count": 331,
   "metadata": {},
   "outputs": [
    {
     "data": {
      "text/plain": [
       "Timestamp('2015-08-07 14:03:25')"
      ]
     },
     "execution_count": 331,
     "metadata": {},
     "output_type": "execute_result"
    }
   ],
   "source": [
    "pd.to_datetime(single_date, unit='s')"
   ]
  },
  {
   "cell_type": "markdown",
   "metadata": {},
   "source": [
    "The price at this time should be equal to the price in this dataset. We can verify this by comparing to data from another service provider, CoinMarketCap:\n",
    "\n",
    "<img src=\"img/ETH_price.png\" alt=\"Drawing\" style=\"width: 800px;\"/>"
   ]
  },
  {
   "cell_type": "code",
   "execution_count": 332,
   "metadata": {},
   "outputs": [
    {
     "data": {
      "text/plain": [
       "3.0"
      ]
     },
     "execution_count": 332,
     "metadata": {},
     "output_type": "execute_result"
    }
   ],
   "source": [
    "# Verify that the price is within the price range on that date\n",
    "temp['Price'][0]"
   ]
  },
  {
   "cell_type": "markdown",
   "metadata": {},
   "source": [
    "The price is consistent with our third-party verification, so I feel comfortable converting the Date column to human-readable format (for the sake of readability). "
   ]
  },
  {
   "cell_type": "code",
   "execution_count": 333,
   "metadata": {},
   "outputs": [
    {
     "data": {
      "text/html": [
       "<div>\n",
       "<style scoped>\n",
       "    .dataframe tbody tr th:only-of-type {\n",
       "        vertical-align: middle;\n",
       "    }\n",
       "\n",
       "    .dataframe tbody tr th {\n",
       "        vertical-align: top;\n",
       "    }\n",
       "\n",
       "    .dataframe thead th {\n",
       "        text-align: right;\n",
       "    }\n",
       "</style>\n",
       "<table border=\"1\" class=\"dataframe\">\n",
       "  <thead>\n",
       "    <tr style=\"text-align: right;\">\n",
       "      <th></th>\n",
       "      <th>Timestamp</th>\n",
       "      <th>Price</th>\n",
       "      <th>Volume</th>\n",
       "    </tr>\n",
       "  </thead>\n",
       "  <tbody>\n",
       "    <tr>\n",
       "      <th>30917910</th>\n",
       "      <td>2021-09-30 23:59:49</td>\n",
       "      <td>2999.79</td>\n",
       "      <td>0.632842</td>\n",
       "    </tr>\n",
       "    <tr>\n",
       "      <th>30917911</th>\n",
       "      <td>2021-09-30 23:59:49</td>\n",
       "      <td>2999.79</td>\n",
       "      <td>0.453733</td>\n",
       "    </tr>\n",
       "    <tr>\n",
       "      <th>30917912</th>\n",
       "      <td>2021-09-30 23:59:59</td>\n",
       "      <td>3000.22</td>\n",
       "      <td>0.179109</td>\n",
       "    </tr>\n",
       "    <tr>\n",
       "      <th>30917913</th>\n",
       "      <td>2021-09-30 23:59:59</td>\n",
       "      <td>3000.22</td>\n",
       "      <td>0.632842</td>\n",
       "    </tr>\n",
       "    <tr>\n",
       "      <th>30917914</th>\n",
       "      <td>2021-09-30 23:59:59</td>\n",
       "      <td>3000.22</td>\n",
       "      <td>0.452355</td>\n",
       "    </tr>\n",
       "  </tbody>\n",
       "</table>\n",
       "</div>"
      ],
      "text/plain": [
       "                   Timestamp    Price    Volume\n",
       "30917910 2021-09-30 23:59:49  2999.79  0.632842\n",
       "30917911 2021-09-30 23:59:49  2999.79  0.453733\n",
       "30917912 2021-09-30 23:59:59  3000.22  0.179109\n",
       "30917913 2021-09-30 23:59:59  3000.22  0.632842\n",
       "30917914 2021-09-30 23:59:59  3000.22  0.452355"
      ]
     },
     "execution_count": 333,
     "metadata": {},
     "output_type": "execute_result"
    }
   ],
   "source": [
    "temp['Timestamp'] = pd.to_datetime(temp['Timestamp'], unit='s')\n",
    "temp.tail()"
   ]
  },
  {
   "cell_type": "code",
   "execution_count": 334,
   "metadata": {},
   "outputs": [
    {
     "data": {
      "text/html": [
       "<div>\n",
       "<style scoped>\n",
       "    .dataframe tbody tr th:only-of-type {\n",
       "        vertical-align: middle;\n",
       "    }\n",
       "\n",
       "    .dataframe tbody tr th {\n",
       "        vertical-align: top;\n",
       "    }\n",
       "\n",
       "    .dataframe thead th {\n",
       "        text-align: right;\n",
       "    }\n",
       "</style>\n",
       "<table border=\"1\" class=\"dataframe\">\n",
       "  <thead>\n",
       "    <tr style=\"text-align: right;\">\n",
       "      <th></th>\n",
       "      <th>Price</th>\n",
       "      <th>Volume</th>\n",
       "    </tr>\n",
       "    <tr>\n",
       "      <th>Timestamp</th>\n",
       "      <th></th>\n",
       "      <th></th>\n",
       "    </tr>\n",
       "  </thead>\n",
       "  <tbody>\n",
       "    <tr>\n",
       "      <th>2021-09-30 23:59:49</th>\n",
       "      <td>2999.79</td>\n",
       "      <td>0.632842</td>\n",
       "    </tr>\n",
       "    <tr>\n",
       "      <th>2021-09-30 23:59:49</th>\n",
       "      <td>2999.79</td>\n",
       "      <td>0.453733</td>\n",
       "    </tr>\n",
       "    <tr>\n",
       "      <th>2021-09-30 23:59:59</th>\n",
       "      <td>3000.22</td>\n",
       "      <td>0.179109</td>\n",
       "    </tr>\n",
       "    <tr>\n",
       "      <th>2021-09-30 23:59:59</th>\n",
       "      <td>3000.22</td>\n",
       "      <td>0.632842</td>\n",
       "    </tr>\n",
       "    <tr>\n",
       "      <th>2021-09-30 23:59:59</th>\n",
       "      <td>3000.22</td>\n",
       "      <td>0.452355</td>\n",
       "    </tr>\n",
       "  </tbody>\n",
       "</table>\n",
       "</div>"
      ],
      "text/plain": [
       "                       Price    Volume\n",
       "Timestamp                             \n",
       "2021-09-30 23:59:49  2999.79  0.632842\n",
       "2021-09-30 23:59:49  2999.79  0.453733\n",
       "2021-09-30 23:59:59  3000.22  0.179109\n",
       "2021-09-30 23:59:59  3000.22  0.632842\n",
       "2021-09-30 23:59:59  3000.22  0.452355"
      ]
     },
     "execution_count": 334,
     "metadata": {},
     "output_type": "execute_result"
    }
   ],
   "source": [
    "# Set timestamp as the index for the temp DataFrame\n",
    "temp = temp.set_index('Timestamp')\n",
    "temp.tail()"
   ]
  },
  {
   "cell_type": "markdown",
   "metadata": {},
   "source": [
    "We can see that some timestamps show up more than once. Naturally, this means that there is more than one transaction-per-second. This is just something to keep in mind for our model. Now, let's move onto price:"
   ]
  },
  {
   "cell_type": "code",
   "execution_count": 335,
   "metadata": {},
   "outputs": [
    {
     "data": {
      "text/html": [
       "<div>\n",
       "<style scoped>\n",
       "    .dataframe tbody tr th:only-of-type {\n",
       "        vertical-align: middle;\n",
       "    }\n",
       "\n",
       "    .dataframe tbody tr th {\n",
       "        vertical-align: top;\n",
       "    }\n",
       "\n",
       "    .dataframe thead th {\n",
       "        text-align: right;\n",
       "    }\n",
       "</style>\n",
       "<table border=\"1\" class=\"dataframe\">\n",
       "  <thead>\n",
       "    <tr style=\"text-align: right;\">\n",
       "      <th></th>\n",
       "      <th>count</th>\n",
       "      <th>mean</th>\n",
       "      <th>std</th>\n",
       "      <th>min</th>\n",
       "      <th>25%</th>\n",
       "      <th>50%</th>\n",
       "      <th>75%</th>\n",
       "      <th>max</th>\n",
       "    </tr>\n",
       "  </thead>\n",
       "  <tbody>\n",
       "    <tr>\n",
       "      <th>Price</th>\n",
       "      <td>30917915.0</td>\n",
       "      <td>1132.848534</td>\n",
       "      <td>1106.88941</td>\n",
       "      <td>0.15</td>\n",
       "      <td>232.79</td>\n",
       "      <td>589.66</td>\n",
       "      <td>1930.96</td>\n",
       "      <td>4380.0</td>\n",
       "    </tr>\n",
       "  </tbody>\n",
       "</table>\n",
       "</div>"
      ],
      "text/plain": [
       "            count         mean         std   min     25%     50%      75%  \\\n",
       "Price  30917915.0  1132.848534  1106.88941  0.15  232.79  589.66  1930.96   \n",
       "\n",
       "          max  \n",
       "Price  4380.0  "
      ]
     },
     "execution_count": 335,
     "metadata": {},
     "output_type": "execute_result"
    }
   ],
   "source": [
    "pd.DataFrame(temp['Price'].describe()).T"
   ]
  },
  {
   "cell_type": "markdown",
   "metadata": {},
   "source": [
    "Everything looks good here. We verified that the price data does indeed make sense, so without going into extremely granular detail, I think it's safe to move on to volume:"
   ]
  },
  {
   "cell_type": "code",
   "execution_count": 336,
   "metadata": {},
   "outputs": [
    {
     "data": {
      "text/html": [
       "<div>\n",
       "<style scoped>\n",
       "    .dataframe tbody tr th:only-of-type {\n",
       "        vertical-align: middle;\n",
       "    }\n",
       "\n",
       "    .dataframe tbody tr th {\n",
       "        vertical-align: top;\n",
       "    }\n",
       "\n",
       "    .dataframe thead th {\n",
       "        text-align: right;\n",
       "    }\n",
       "</style>\n",
       "<table border=\"1\" class=\"dataframe\">\n",
       "  <thead>\n",
       "    <tr style=\"text-align: right;\">\n",
       "      <th></th>\n",
       "      <th>count</th>\n",
       "      <th>mean</th>\n",
       "      <th>std</th>\n",
       "      <th>min</th>\n",
       "      <th>25%</th>\n",
       "      <th>50%</th>\n",
       "      <th>75%</th>\n",
       "      <th>max</th>\n",
       "    </tr>\n",
       "  </thead>\n",
       "  <tbody>\n",
       "    <tr>\n",
       "      <th>Volume</th>\n",
       "      <td>30917915.0</td>\n",
       "      <td>4.721387</td>\n",
       "      <td>21.997935</td>\n",
       "      <td>0.0</td>\n",
       "      <td>0.1</td>\n",
       "      <td>0.665997</td>\n",
       "      <td>3.0</td>\n",
       "      <td>6857.221051</td>\n",
       "    </tr>\n",
       "  </tbody>\n",
       "</table>\n",
       "</div>"
      ],
      "text/plain": [
       "             count      mean        std  min  25%       50%  75%          max\n",
       "Volume  30917915.0  4.721387  21.997935  0.0  0.1  0.665997  3.0  6857.221051"
      ]
     },
     "execution_count": 336,
     "metadata": {},
     "output_type": "execute_result"
    }
   ],
   "source": [
    "pd.DataFrame(temp['Volume'].describe()).T"
   ]
  },
  {
   "cell_type": "markdown",
   "metadata": {},
   "source": [
    "Considering each observation is meant to represent a trade/transaction, there shouldn't be any volume values equal to zero. Let's take a closer look:"
   ]
  },
  {
   "cell_type": "code",
   "execution_count": 337,
   "metadata": {},
   "outputs": [
    {
     "data": {
      "text/plain": [
       "Timestamp\n",
       "2018-05-07 15:56:37    0.0\n",
       "2018-05-25 07:58:54    0.0\n",
       "Name: Volume, dtype: float64"
      ]
     },
     "execution_count": 337,
     "metadata": {},
     "output_type": "execute_result"
    }
   ],
   "source": [
    "temp['Volume'][temp['Volume'] == float(0)]"
   ]
  },
  {
   "cell_type": "markdown",
   "metadata": {},
   "source": [
    "Since there are only 2 of these observations, let's remove them--they don't make any sense (a trade executing but exchanging 0 shares?)"
   ]
  },
  {
   "cell_type": "code",
   "execution_count": 338,
   "metadata": {},
   "outputs": [
    {
     "data": {
      "text/html": [
       "<div>\n",
       "<style scoped>\n",
       "    .dataframe tbody tr th:only-of-type {\n",
       "        vertical-align: middle;\n",
       "    }\n",
       "\n",
       "    .dataframe tbody tr th {\n",
       "        vertical-align: top;\n",
       "    }\n",
       "\n",
       "    .dataframe thead th {\n",
       "        text-align: right;\n",
       "    }\n",
       "</style>\n",
       "<table border=\"1\" class=\"dataframe\">\n",
       "  <thead>\n",
       "    <tr style=\"text-align: right;\">\n",
       "      <th></th>\n",
       "      <th>count</th>\n",
       "      <th>mean</th>\n",
       "      <th>std</th>\n",
       "      <th>min</th>\n",
       "      <th>25%</th>\n",
       "      <th>50%</th>\n",
       "      <th>75%</th>\n",
       "      <th>max</th>\n",
       "    </tr>\n",
       "  </thead>\n",
       "  <tbody>\n",
       "    <tr>\n",
       "      <th>Price</th>\n",
       "      <td>30917913.0</td>\n",
       "      <td>1132.848565</td>\n",
       "      <td>1106.889439</td>\n",
       "      <td>1.500000e-01</td>\n",
       "      <td>232.79</td>\n",
       "      <td>589.660000</td>\n",
       "      <td>1930.96</td>\n",
       "      <td>4380.000000</td>\n",
       "    </tr>\n",
       "    <tr>\n",
       "      <th>Volume</th>\n",
       "      <td>30917913.0</td>\n",
       "      <td>4.721388</td>\n",
       "      <td>21.997936</td>\n",
       "      <td>1.000000e-08</td>\n",
       "      <td>0.10</td>\n",
       "      <td>0.665997</td>\n",
       "      <td>3.00</td>\n",
       "      <td>6857.221051</td>\n",
       "    </tr>\n",
       "  </tbody>\n",
       "</table>\n",
       "</div>"
      ],
      "text/plain": [
       "             count         mean          std           min     25%  \\\n",
       "Price   30917913.0  1132.848565  1106.889439  1.500000e-01  232.79   \n",
       "Volume  30917913.0     4.721388    21.997936  1.000000e-08    0.10   \n",
       "\n",
       "               50%      75%          max  \n",
       "Price   589.660000  1930.96  4380.000000  \n",
       "Volume    0.665997     3.00  6857.221051  "
      ]
     },
     "execution_count": 338,
     "metadata": {},
     "output_type": "execute_result"
    }
   ],
   "source": [
    "temp = temp[temp['Volume'] != float(0)]\n",
    "temp.describe().T"
   ]
  },
  {
   "cell_type": "code",
   "execution_count": 340,
   "metadata": {},
   "outputs": [],
   "source": [
    "# Save to .csv\n",
    "#temp['2021-04-07':'2021-04-20'].to_csv('save/ETH_mkt.csv')"
   ]
  },
  {
   "cell_type": "markdown",
   "metadata": {},
   "source": [
    "Now, the distribution of volume makes more sense. I'm weary of that 1e-08 number, but as far as I know, such small transactions are feasible. Therefore, I will keep it in the dataset. "
   ]
  },
  {
   "cell_type": "markdown",
   "metadata": {},
   "source": [
    "### 1.1.2 Order Book Data\n",
    "\n",
    "Luckily, I was able to source order book data for some cryptos at the following link: \n",
    "\n",
    "https://www.kaggle.com/martinsn/starter-high-frequency-bitcoin-forecasting/notebook\n",
    "\n",
    "Included in the dataset are Cardano (ADA), Bitcoin (BTC), and Ether/Ethereum (ETH). We will examine the ETH dataset:"
   ]
  },
  {
   "cell_type": "code",
   "execution_count": 27,
   "metadata": {},
   "outputs": [
    {
     "data": {
      "text/html": [
       "<div>\n",
       "<style scoped>\n",
       "    .dataframe tbody tr th:only-of-type {\n",
       "        vertical-align: middle;\n",
       "    }\n",
       "\n",
       "    .dataframe tbody tr th {\n",
       "        vertical-align: top;\n",
       "    }\n",
       "\n",
       "    .dataframe thead th {\n",
       "        text-align: right;\n",
       "    }\n",
       "</style>\n",
       "<table border=\"1\" class=\"dataframe\">\n",
       "  <thead>\n",
       "    <tr style=\"text-align: right;\">\n",
       "      <th></th>\n",
       "      <th>Unnamed: 0</th>\n",
       "      <th>system_time</th>\n",
       "      <th>midpoint</th>\n",
       "      <th>spread</th>\n",
       "      <th>buys</th>\n",
       "      <th>sells</th>\n",
       "      <th>bids_distance_0</th>\n",
       "      <th>bids_distance_1</th>\n",
       "      <th>bids_distance_2</th>\n",
       "      <th>bids_distance_3</th>\n",
       "      <th>...</th>\n",
       "      <th>asks_market_notional_5</th>\n",
       "      <th>asks_market_notional_6</th>\n",
       "      <th>asks_market_notional_7</th>\n",
       "      <th>asks_market_notional_8</th>\n",
       "      <th>asks_market_notional_9</th>\n",
       "      <th>asks_market_notional_10</th>\n",
       "      <th>asks_market_notional_11</th>\n",
       "      <th>asks_market_notional_12</th>\n",
       "      <th>asks_market_notional_13</th>\n",
       "      <th>asks_market_notional_14</th>\n",
       "    </tr>\n",
       "  </thead>\n",
       "  <tbody>\n",
       "    <tr>\n",
       "      <th>0</th>\n",
       "      <td>0</td>\n",
       "      <td>2021-04-07 11:32:50.861733+00:00</td>\n",
       "      <td>1970.985</td>\n",
       "      <td>0.15</td>\n",
       "      <td>0.000000</td>\n",
       "      <td>0.000000</td>\n",
       "      <td>-0.000038</td>\n",
       "      <td>-0.000495</td>\n",
       "      <td>-0.000500</td>\n",
       "      <td>-0.000632</td>\n",
       "      <td>...</td>\n",
       "      <td>0.0</td>\n",
       "      <td>0.0</td>\n",
       "      <td>0.0</td>\n",
       "      <td>0.0</td>\n",
       "      <td>0.0</td>\n",
       "      <td>0.0</td>\n",
       "      <td>0.0</td>\n",
       "      <td>0.0</td>\n",
       "      <td>0.0</td>\n",
       "      <td>0.0</td>\n",
       "    </tr>\n",
       "    <tr>\n",
       "      <th>1</th>\n",
       "      <td>1</td>\n",
       "      <td>2021-04-07 11:32:51.861733+00:00</td>\n",
       "      <td>1970.985</td>\n",
       "      <td>0.15</td>\n",
       "      <td>0.000000</td>\n",
       "      <td>0.000000</td>\n",
       "      <td>-0.000038</td>\n",
       "      <td>-0.000495</td>\n",
       "      <td>-0.000500</td>\n",
       "      <td>-0.000632</td>\n",
       "      <td>...</td>\n",
       "      <td>0.0</td>\n",
       "      <td>0.0</td>\n",
       "      <td>0.0</td>\n",
       "      <td>0.0</td>\n",
       "      <td>0.0</td>\n",
       "      <td>0.0</td>\n",
       "      <td>0.0</td>\n",
       "      <td>0.0</td>\n",
       "      <td>0.0</td>\n",
       "      <td>0.0</td>\n",
       "    </tr>\n",
       "    <tr>\n",
       "      <th>2</th>\n",
       "      <td>2</td>\n",
       "      <td>2021-04-07 11:32:52.861733+00:00</td>\n",
       "      <td>1970.985</td>\n",
       "      <td>0.15</td>\n",
       "      <td>0.000000</td>\n",
       "      <td>0.000000</td>\n",
       "      <td>-0.000038</td>\n",
       "      <td>-0.000495</td>\n",
       "      <td>-0.000500</td>\n",
       "      <td>-0.000632</td>\n",
       "      <td>...</td>\n",
       "      <td>0.0</td>\n",
       "      <td>0.0</td>\n",
       "      <td>0.0</td>\n",
       "      <td>0.0</td>\n",
       "      <td>0.0</td>\n",
       "      <td>0.0</td>\n",
       "      <td>0.0</td>\n",
       "      <td>0.0</td>\n",
       "      <td>0.0</td>\n",
       "      <td>0.0</td>\n",
       "    </tr>\n",
       "    <tr>\n",
       "      <th>3</th>\n",
       "      <td>3</td>\n",
       "      <td>2021-04-07 11:32:53.861733+00:00</td>\n",
       "      <td>1970.985</td>\n",
       "      <td>0.15</td>\n",
       "      <td>0.000000</td>\n",
       "      <td>0.000000</td>\n",
       "      <td>-0.000038</td>\n",
       "      <td>-0.000495</td>\n",
       "      <td>-0.000500</td>\n",
       "      <td>-0.000632</td>\n",
       "      <td>...</td>\n",
       "      <td>0.0</td>\n",
       "      <td>0.0</td>\n",
       "      <td>0.0</td>\n",
       "      <td>0.0</td>\n",
       "      <td>0.0</td>\n",
       "      <td>0.0</td>\n",
       "      <td>0.0</td>\n",
       "      <td>0.0</td>\n",
       "      <td>0.0</td>\n",
       "      <td>0.0</td>\n",
       "    </tr>\n",
       "    <tr>\n",
       "      <th>4</th>\n",
       "      <td>4</td>\n",
       "      <td>2021-04-07 11:32:54.861733+00:00</td>\n",
       "      <td>1971.135</td>\n",
       "      <td>0.03</td>\n",
       "      <td>5832.007602</td>\n",
       "      <td>1.962869</td>\n",
       "      <td>-0.000008</td>\n",
       "      <td>-0.000571</td>\n",
       "      <td>-0.000576</td>\n",
       "      <td>-0.000601</td>\n",
       "      <td>...</td>\n",
       "      <td>0.0</td>\n",
       "      <td>0.0</td>\n",
       "      <td>0.0</td>\n",
       "      <td>0.0</td>\n",
       "      <td>0.0</td>\n",
       "      <td>0.0</td>\n",
       "      <td>0.0</td>\n",
       "      <td>0.0</td>\n",
       "      <td>0.0</td>\n",
       "      <td>0.0</td>\n",
       "    </tr>\n",
       "  </tbody>\n",
       "</table>\n",
       "<p>5 rows × 156 columns</p>\n",
       "</div>"
      ],
      "text/plain": [
       "   Unnamed: 0                       system_time  midpoint  spread  \\\n",
       "0           0  2021-04-07 11:32:50.861733+00:00  1970.985    0.15   \n",
       "1           1  2021-04-07 11:32:51.861733+00:00  1970.985    0.15   \n",
       "2           2  2021-04-07 11:32:52.861733+00:00  1970.985    0.15   \n",
       "3           3  2021-04-07 11:32:53.861733+00:00  1970.985    0.15   \n",
       "4           4  2021-04-07 11:32:54.861733+00:00  1971.135    0.03   \n",
       "\n",
       "          buys     sells  bids_distance_0  bids_distance_1  bids_distance_2  \\\n",
       "0     0.000000  0.000000        -0.000038        -0.000495        -0.000500   \n",
       "1     0.000000  0.000000        -0.000038        -0.000495        -0.000500   \n",
       "2     0.000000  0.000000        -0.000038        -0.000495        -0.000500   \n",
       "3     0.000000  0.000000        -0.000038        -0.000495        -0.000500   \n",
       "4  5832.007602  1.962869        -0.000008        -0.000571        -0.000576   \n",
       "\n",
       "   bids_distance_3  ...  asks_market_notional_5  asks_market_notional_6  \\\n",
       "0        -0.000632  ...                     0.0                     0.0   \n",
       "1        -0.000632  ...                     0.0                     0.0   \n",
       "2        -0.000632  ...                     0.0                     0.0   \n",
       "3        -0.000632  ...                     0.0                     0.0   \n",
       "4        -0.000601  ...                     0.0                     0.0   \n",
       "\n",
       "   asks_market_notional_7  asks_market_notional_8  asks_market_notional_9  \\\n",
       "0                     0.0                     0.0                     0.0   \n",
       "1                     0.0                     0.0                     0.0   \n",
       "2                     0.0                     0.0                     0.0   \n",
       "3                     0.0                     0.0                     0.0   \n",
       "4                     0.0                     0.0                     0.0   \n",
       "\n",
       "   asks_market_notional_10  asks_market_notional_11  asks_market_notional_12  \\\n",
       "0                      0.0                      0.0                      0.0   \n",
       "1                      0.0                      0.0                      0.0   \n",
       "2                      0.0                      0.0                      0.0   \n",
       "3                      0.0                      0.0                      0.0   \n",
       "4                      0.0                      0.0                      0.0   \n",
       "\n",
       "   asks_market_notional_13  asks_market_notional_14  \n",
       "0                      0.0                      0.0  \n",
       "1                      0.0                      0.0  \n",
       "2                      0.0                      0.0  \n",
       "3                      0.0                      0.0  \n",
       "4                      0.0                      0.0  \n",
       "\n",
       "[5 rows x 156 columns]"
      ]
     },
     "execution_count": 27,
     "metadata": {},
     "output_type": "execute_result"
    }
   ],
   "source": [
    "ETH_mid = pd.read_csv('../archive/ETH_1sec.csv')\n",
    "ETH_mid.head() "
   ]
  },
  {
   "cell_type": "markdown",
   "metadata": {},
   "source": [
    "We only really need the system_time and midpoint columns for now, so let's clean those up:"
   ]
  },
  {
   "cell_type": "code",
   "execution_count": 28,
   "metadata": {},
   "outputs": [],
   "source": [
    "ETH_mid['system_time'] = pd.to_datetime(ETH_mid['system_time'])\n",
    "ETH_mid = ETH_mid.loc[:,['system_time', 'midpoint']]"
   ]
  },
  {
   "cell_type": "code",
   "execution_count": 30,
   "metadata": {},
   "outputs": [],
   "source": [
    "# Get a list of all the dates in which we have market data\n",
    "list_of_dates = ETH_mid['system_time'].dt.date.unique().tolist()"
   ]
  },
  {
   "cell_type": "code",
   "execution_count": 31,
   "metadata": {},
   "outputs": [
    {
     "data": {
      "text/html": [
       "<div>\n",
       "<style scoped>\n",
       "    .dataframe tbody tr th:only-of-type {\n",
       "        vertical-align: middle;\n",
       "    }\n",
       "\n",
       "    .dataframe tbody tr th {\n",
       "        vertical-align: top;\n",
       "    }\n",
       "\n",
       "    .dataframe thead th {\n",
       "        text-align: right;\n",
       "    }\n",
       "</style>\n",
       "<table border=\"1\" class=\"dataframe\">\n",
       "  <thead>\n",
       "    <tr style=\"text-align: right;\">\n",
       "      <th></th>\n",
       "      <th>midpoint</th>\n",
       "    </tr>\n",
       "    <tr>\n",
       "      <th>system_time</th>\n",
       "      <th></th>\n",
       "    </tr>\n",
       "  </thead>\n",
       "  <tbody>\n",
       "    <tr>\n",
       "      <th>2021-04-07 11:32:50.861733+00:00</th>\n",
       "      <td>1970.985</td>\n",
       "    </tr>\n",
       "    <tr>\n",
       "      <th>2021-04-07 11:32:51.861733+00:00</th>\n",
       "      <td>1970.985</td>\n",
       "    </tr>\n",
       "    <tr>\n",
       "      <th>2021-04-07 11:32:52.861733+00:00</th>\n",
       "      <td>1970.985</td>\n",
       "    </tr>\n",
       "    <tr>\n",
       "      <th>2021-04-07 11:32:53.861733+00:00</th>\n",
       "      <td>1970.985</td>\n",
       "    </tr>\n",
       "    <tr>\n",
       "      <th>2021-04-07 11:32:54.861733+00:00</th>\n",
       "      <td>1971.135</td>\n",
       "    </tr>\n",
       "  </tbody>\n",
       "</table>\n",
       "</div>"
      ],
      "text/plain": [
       "                                  midpoint\n",
       "system_time                               \n",
       "2021-04-07 11:32:50.861733+00:00  1970.985\n",
       "2021-04-07 11:32:51.861733+00:00  1970.985\n",
       "2021-04-07 11:32:52.861733+00:00  1970.985\n",
       "2021-04-07 11:32:53.861733+00:00  1970.985\n",
       "2021-04-07 11:32:54.861733+00:00  1971.135"
      ]
     },
     "execution_count": 31,
     "metadata": {},
     "output_type": "execute_result"
    }
   ],
   "source": [
    "# Change index to the timestamp\n",
    "ETH_mid = ETH_mid.set_index('system_time')\n",
    "ETH_mid.head()"
   ]
  },
  {
   "cell_type": "markdown",
   "metadata": {},
   "source": [
    "Now, this may not be completely proper, but for the sake of this project, I will need to remove the miliseconds in order for the data to properly align with the Kraken dataset. **Under normal circumstances this would be bad to do.**"
   ]
  },
  {
   "cell_type": "code",
   "execution_count": 32,
   "metadata": {},
   "outputs": [
    {
     "data": {
      "text/html": [
       "<div>\n",
       "<style scoped>\n",
       "    .dataframe tbody tr th:only-of-type {\n",
       "        vertical-align: middle;\n",
       "    }\n",
       "\n",
       "    .dataframe tbody tr th {\n",
       "        vertical-align: top;\n",
       "    }\n",
       "\n",
       "    .dataframe thead th {\n",
       "        text-align: right;\n",
       "    }\n",
       "</style>\n",
       "<table border=\"1\" class=\"dataframe\">\n",
       "  <thead>\n",
       "    <tr style=\"text-align: right;\">\n",
       "      <th></th>\n",
       "      <th>midpoint</th>\n",
       "    </tr>\n",
       "    <tr>\n",
       "      <th>system_time</th>\n",
       "      <th></th>\n",
       "    </tr>\n",
       "  </thead>\n",
       "  <tbody>\n",
       "    <tr>\n",
       "      <th>2021-04-07 11:32:50</th>\n",
       "      <td>1970.985</td>\n",
       "    </tr>\n",
       "    <tr>\n",
       "      <th>2021-04-07 11:32:51</th>\n",
       "      <td>1970.985</td>\n",
       "    </tr>\n",
       "    <tr>\n",
       "      <th>2021-04-07 11:32:52</th>\n",
       "      <td>1970.985</td>\n",
       "    </tr>\n",
       "    <tr>\n",
       "      <th>2021-04-07 11:32:53</th>\n",
       "      <td>1970.985</td>\n",
       "    </tr>\n",
       "    <tr>\n",
       "      <th>2021-04-07 11:32:54</th>\n",
       "      <td>1971.135</td>\n",
       "    </tr>\n",
       "  </tbody>\n",
       "</table>\n",
       "</div>"
      ],
      "text/plain": [
       "                     midpoint\n",
       "system_time                  \n",
       "2021-04-07 11:32:50  1970.985\n",
       "2021-04-07 11:32:51  1970.985\n",
       "2021-04-07 11:32:52  1970.985\n",
       "2021-04-07 11:32:53  1970.985\n",
       "2021-04-07 11:32:54  1971.135"
      ]
     },
     "execution_count": 32,
     "metadata": {},
     "output_type": "execute_result"
    }
   ],
   "source": [
    "ETH_mid.index = pd.to_datetime(ETH_mid.index.strftime('%Y-%m-%d %H:%M:%S'))\n",
    "ETH_mid.head()"
   ]
  },
  {
   "cell_type": "code",
   "execution_count": 33,
   "metadata": {},
   "outputs": [
    {
     "data": {
      "text/plain": [
       "False"
      ]
     },
     "execution_count": 33,
     "metadata": {},
     "output_type": "execute_result"
    }
   ],
   "source": [
    "# Check if there are any missing seconds\n",
    "len(ETH_mid) == len(ETH_mid.resample('S').asfreq())"
   ]
  },
  {
   "cell_type": "code",
   "execution_count": 34,
   "metadata": {},
   "outputs": [],
   "source": [
    "# Fill in the gaps with the previos value\n",
    "ETH_mid = ETH_mid.resample('S').ffill()"
   ]
  },
  {
   "cell_type": "markdown",
   "metadata": {},
   "source": [
    "## 1.2 - Implementation of A-S to Ethereum Data\n",
    "\n",
    "The first step of an implementation is to move away from simulating market orders. Now, we can use real market data to do a backtest, so let's define a function that we will use to run our backtests. \n",
    "\n",
    "For now, we will assume that all our orders of size 1 get filled. It is important to keep track of any biases that may arrive so we also need to assume that our order gets filled first, and fully filled."
   ]
  },
  {
   "cell_type": "code",
   "execution_count": 36,
   "metadata": {},
   "outputs": [],
   "source": [
    "def run_backtest(s, m, gamma, A, k, sigma):\n",
    "    \n",
    "    N = 60*60*24\n",
    "    T = 1\n",
    "    dt = T/N\n",
    "\n",
    "    # Initialize empty array for pnl\n",
    "    pnl = np.zeros(N+1)\n",
    "\n",
    "    # Inventory\n",
    "    q = np.zeros(N+1)\n",
    "\n",
    "    # Capital\n",
    "    x = np.zeros(N+1)\n",
    "    \n",
    "    # Spread\n",
    "    spr = np.zeros(N+1)\n",
    "\n",
    "    # Ask limit orders\n",
    "    r_a = np.zeros(N+1)\n",
    "\n",
    "    # Reserve price\n",
    "    r = np.zeros(N+1)\n",
    "\n",
    "    # Bid limit orders\n",
    "    r_b = np.zeros(N+1)\n",
    "     \n",
    "    # Get market orders for next day, low market is lowest\n",
    "    # price of market order submitted in 1-sec\n",
    "    low_mkt = m.resample('S').min().reindex(s.index)\n",
    "\n",
    "    # hi market is highest price of market order submitted\n",
    "    # in 1-sec\n",
    "    hi_mkt = m.resample('S').max().reindex(s.index)\n",
    "\n",
    "    # Iterate through each second\n",
    "    for i in range(len(s)):\n",
    "        \n",
    "        # Find the date for the given iteration\n",
    "        date = s.index[i]\n",
    "        \n",
    "        # Calculate our reservation price\n",
    "        r[i] = s[i] - q[i] * gamma * sigma**2 * (T-i*dt)\n",
    "        \n",
    "        # Calculate our spread\n",
    "        spread = gamma * sigma**2 * (T - i * dt) + (2 / gamma) * np.log(1 + (gamma / k))\n",
    "        spr[i] = spread\n",
    "        spread = spread / 2\n",
    "\n",
    "        # Adjust spreads for gap between reserve price\n",
    "        # and asset mid-price\n",
    "        gap = np.abs(r[i] - s[i])\n",
    "    \n",
    "        # Define the distance between r[i] and our limit orders\n",
    "        if r[i] >= s[i]:\n",
    "            delta_a = spread + gap\n",
    "            delta_b = spread - gap    \n",
    "        else:\n",
    "            delta_a = spread - gap\n",
    "            delta_b = spread + gap\n",
    "            \n",
    "        # Define our limit orders\n",
    "        r_a[i] = r[i] + delta_a\n",
    "        r_b[i] = r[i] - delta_b\n",
    "        \n",
    "        # Do not buy or sell unless we get a feasible market order\n",
    "        sell = 0\n",
    "        buy  = 0\n",
    "\n",
    "        # If a market order is higher than our ask price, sell 1 unit\n",
    "        if hi_mkt.loc[:,'Price'].values[i] > r_a[i]:\n",
    "            sell = 1\n",
    "\n",
    "        # If a market order is lower than our bid price, buy 1 unit\n",
    "        if low_mkt.loc[:,'Price'].values[i] < r_b[i]:\n",
    "            buy = 1\n",
    "\n",
    "        # Adjust inventory to reflect transactions\n",
    "        q[i+1] = q[i] + buy - sell\n",
    "\n",
    "        #     # Calculate new capital\n",
    "        x[i+1] = x[i] + sell*(s[i]+delta_a) - buy*(s[i]-delta_b)\n",
    "\n",
    "        #     # Calculate pnl of assets\n",
    "        pnl[i+1] = x[i+1] + q[i+1]*s[i]\n",
    "\n",
    "    return {'pnl':pnl, 'x':x, 'q':q, 'spread':spr, 'r':r, 'r_a':r_a, 'r_b':r_b}"
   ]
  },
  {
   "cell_type": "markdown",
   "metadata": {},
   "source": [
    "### 1.2.1 -  Parameter Estimation Methodology\n",
    "\n",
    "The final piece of the puzzle required for the implementation of the A-S model is the parameter estimation. For this, we will go through the methodology one parameter at a time. Since our mid-price data begins on April 7, 2021, we will pick that day to calculate our initial parameters and walk through our estimation methodology:"
   ]
  },
  {
   "cell_type": "code",
   "execution_count": 37,
   "metadata": {},
   "outputs": [
    {
     "data": {
      "text/html": [
       "<div>\n",
       "<style scoped>\n",
       "    .dataframe tbody tr th:only-of-type {\n",
       "        vertical-align: middle;\n",
       "    }\n",
       "\n",
       "    .dataframe tbody tr th {\n",
       "        vertical-align: top;\n",
       "    }\n",
       "\n",
       "    .dataframe thead th {\n",
       "        text-align: right;\n",
       "    }\n",
       "</style>\n",
       "<table border=\"1\" class=\"dataframe\">\n",
       "  <thead>\n",
       "    <tr style=\"text-align: right;\">\n",
       "      <th></th>\n",
       "      <th>Price</th>\n",
       "      <th>Volume</th>\n",
       "    </tr>\n",
       "    <tr>\n",
       "      <th>Timestamp</th>\n",
       "      <th></th>\n",
       "      <th></th>\n",
       "    </tr>\n",
       "  </thead>\n",
       "  <tbody>\n",
       "    <tr>\n",
       "      <th>2021-04-07 00:00:00</th>\n",
       "      <td>2112.59</td>\n",
       "      <td>0.836880</td>\n",
       "    </tr>\n",
       "    <tr>\n",
       "      <th>2021-04-07 00:00:00</th>\n",
       "      <td>2112.59</td>\n",
       "      <td>0.628760</td>\n",
       "    </tr>\n",
       "    <tr>\n",
       "      <th>2021-04-07 00:00:00</th>\n",
       "      <td>2112.59</td>\n",
       "      <td>0.463560</td>\n",
       "    </tr>\n",
       "    <tr>\n",
       "      <th>2021-04-07 00:00:00</th>\n",
       "      <td>2112.59</td>\n",
       "      <td>0.855800</td>\n",
       "    </tr>\n",
       "    <tr>\n",
       "      <th>2021-04-07 00:00:00</th>\n",
       "      <td>2112.59</td>\n",
       "      <td>0.525141</td>\n",
       "    </tr>\n",
       "    <tr>\n",
       "      <th>...</th>\n",
       "      <td>...</td>\n",
       "      <td>...</td>\n",
       "    </tr>\n",
       "    <tr>\n",
       "      <th>2021-04-07 23:59:47</th>\n",
       "      <td>1960.00</td>\n",
       "      <td>0.050000</td>\n",
       "    </tr>\n",
       "    <tr>\n",
       "      <th>2021-04-07 23:59:47</th>\n",
       "      <td>1960.00</td>\n",
       "      <td>1.000000</td>\n",
       "    </tr>\n",
       "    <tr>\n",
       "      <th>2021-04-07 23:59:49</th>\n",
       "      <td>1960.17</td>\n",
       "      <td>0.500000</td>\n",
       "    </tr>\n",
       "    <tr>\n",
       "      <th>2021-04-07 23:59:49</th>\n",
       "      <td>1961.06</td>\n",
       "      <td>4.500000</td>\n",
       "    </tr>\n",
       "    <tr>\n",
       "      <th>2021-04-07 23:59:52</th>\n",
       "      <td>1961.94</td>\n",
       "      <td>0.007618</td>\n",
       "    </tr>\n",
       "  </tbody>\n",
       "</table>\n",
       "<p>49175 rows × 2 columns</p>\n",
       "</div>"
      ],
      "text/plain": [
       "                       Price    Volume\n",
       "Timestamp                             \n",
       "2021-04-07 00:00:00  2112.59  0.836880\n",
       "2021-04-07 00:00:00  2112.59  0.628760\n",
       "2021-04-07 00:00:00  2112.59  0.463560\n",
       "2021-04-07 00:00:00  2112.59  0.855800\n",
       "2021-04-07 00:00:00  2112.59  0.525141\n",
       "...                      ...       ...\n",
       "2021-04-07 23:59:47  1960.00  0.050000\n",
       "2021-04-07 23:59:47  1960.00  1.000000\n",
       "2021-04-07 23:59:49  1960.17  0.500000\n",
       "2021-04-07 23:59:49  1961.06  4.500000\n",
       "2021-04-07 23:59:52  1961.94  0.007618\n",
       "\n",
       "[49175 rows x 2 columns]"
      ]
     },
     "execution_count": 37,
     "metadata": {},
     "output_type": "execute_result"
    }
   ],
   "source": [
    "day = '2021-04-07'\n",
    "temp.loc[day]"
   ]
  },
  {
   "cell_type": "markdown",
   "metadata": {},
   "source": [
    "#### 1.2.1.1 Estimation of Volatility, $\\sigma$\n",
    "\n",
    "One of the most important measures of an asset is its volatility. Under the assumptions of the model, $\\sigma$ is the diffusion factor of a Brownian Motion. Therefore, once we are given price data, we can develop a naive estimate of an asset's $\\sigma$ by calculating the standard deviation of the previous days' price movements.  we use log-returns to calculate volatility i.e. \n",
    "\n",
    "$$\n",
    "\\begin{aligned}\n",
    "\\text{Log Return} &= \\ln\\left(\\frac{p_t}{p_{t-1}}\\right) = \\ln\\left(p_t\\right) - \\ln\\left(p_{t-1}\\right)\\\\\n",
    "\\\\\n",
    "\\Rightarrow \\sigma &= \\frac{\\sqrt{\\sum\\ln^2 \\left(\\frac{S_{i+1}}{S_i}\\right)}}{\\sqrt{N-1}} \\sqrt{60\\cdot60\\cdot24}\\\\\n",
    "\\end{aligned}\n",
    "$$\n",
    "\n",
    "where the coefficient comes from the fact that there are 60 seconds per minute, 60 minutes per hour, 24 hours per $T=1$ day. The application of this is as follows:"
   ]
  },
  {
   "cell_type": "code",
   "execution_count": 39,
   "metadata": {},
   "outputs": [
    {
     "data": {
      "text/plain": [
       "Timestamp\n",
       "2021-04-07 00:00:00    2112.59\n",
       "2021-04-07 00:00:00    2112.59\n",
       "2021-04-07 00:00:00    2112.59\n",
       "2021-04-07 00:00:00    2112.59\n",
       "2021-04-07 00:00:00    2112.59\n",
       "                        ...   \n",
       "2021-04-07 23:59:47    1960.00\n",
       "2021-04-07 23:59:47    1960.00\n",
       "2021-04-07 23:59:49    1960.17\n",
       "2021-04-07 23:59:49    1961.06\n",
       "2021-04-07 23:59:52    1961.94\n",
       "Name: Price, Length: 49175, dtype: float64"
      ]
     },
     "execution_count": 39,
     "metadata": {},
     "output_type": "execute_result"
    }
   ],
   "source": [
    "prices = temp.loc[day, 'Price']\n",
    "prices"
   ]
  },
  {
   "cell_type": "code",
   "execution_count": 40,
   "metadata": {},
   "outputs": [
    {
     "data": {
      "text/plain": [
       "0.05809787330873711"
      ]
     },
     "execution_count": 40,
     "metadata": {},
     "output_type": "execute_result"
    }
   ],
   "source": [
    "# Recreate the calculations shown above\n",
    "log_norm = np.log(prices).diff().dropna()\n",
    "sigma = log_norm.std() * np.sqrt(60*60*24)\n",
    "sigma"
   ]
  },
  {
   "cell_type": "markdown",
   "metadata": {},
   "source": [
    "Now that we know how to solve for $\\sigma$, let's find the $\\sigma$'s for all feasible days, and calculate a 5-day moving average to smooth out the process a little in case of an outlier:"
   ]
  },
  {
   "cell_type": "code",
   "execution_count": 41,
   "metadata": {},
   "outputs": [
    {
     "data": {
      "text/plain": [
       "Timestamp\n",
       "2015-08-07     0.000980\n",
       "2015-08-08    82.242284\n",
       "2015-08-09    82.242284\n",
       "2015-08-10    82.242284\n",
       "2015-08-11    60.746097\n",
       "                ...    \n",
       "2021-09-26     0.092940\n",
       "2021-09-27     0.092378\n",
       "2021-09-28     0.089354\n",
       "2021-09-29     0.088951\n",
       "2021-09-30     0.089777\n",
       "Freq: D, Name: Price, Length: 2247, dtype: float64"
      ]
     },
     "execution_count": 41,
     "metadata": {},
     "output_type": "execute_result"
    }
   ],
   "source": [
    "# Calculate the stds\n",
    "std = (np.log(temp.loc[:,'Price']).diff() # Difference the log prices\n",
    "                                  .dropna() # Remove any NaNs\n",
    "                                  .groupby(pd.Grouper(freq='1D')).std() # Calculate the std for each day\n",
    "                                  .rolling('7D').mean()) # Compute the rolling 7-D average of these\n",
    "\n",
    "# Scale accordingly\n",
    "std = std * np.sqrt(60*60*24)\n",
    "std"
   ]
  },
  {
   "cell_type": "code",
   "execution_count": 42,
   "metadata": {},
   "outputs": [
    {
     "data": {
      "text/plain": [
       "[0.05502268091856958,\n",
       " 0.053729649212704685,\n",
       " 0.05318846118327977,\n",
       " 0.050691240661882714,\n",
       " 0.04956186601647773,\n",
       " 0.0514890238342001,\n",
       " 0.0503860522361862,\n",
       " 0.050693890834401914,\n",
       " 0.051845935925207635,\n",
       " 0.05409234186163478,\n",
       " 0.06942669871988483,\n",
       " 0.10066567725867692,\n",
       " 0.10135468878197729]"
      ]
     },
     "execution_count": 42,
     "metadata": {},
     "output_type": "execute_result"
    }
   ],
   "source": [
    "# Combine all the results into a single list\n",
    "sigmalist = [std[d.strftime('%Y-%m-%d')] for d in list_of_dates]\n",
    "sigmalist"
   ]
  },
  {
   "cell_type": "code",
   "execution_count": 43,
   "metadata": {},
   "outputs": [],
   "source": [
    "# Save so that we do not always need to recalculate\n",
    "#pd.DataFrame(sigmalist).to_csv('save/ETH_sigmalist.csv')"
   ]
  },
  {
   "cell_type": "code",
   "execution_count": 2,
   "metadata": {
    "scrolled": true
   },
   "outputs": [],
   "source": [
    "sigmalist = pd.read_csv('save/ETH_sigmalist.csv', header=None)[1][1:].tolist()"
   ]
  },
  {
   "cell_type": "markdown",
   "metadata": {},
   "source": [
    "#### 1.2.1.2 Estimation of $A$ and $k$\n",
    "\n",
    "Next, we will need to estimate the coefficients responsible for characterizing the liquidity of the asset (see Dealing with the Inventory Risk here: https://arxiv.org/pdf/1105.3115.pdf) where\n",
    "\n",
    "$$\n",
    "\\lambda(\\delta) = A e^{-\\kappa\\delta}\n",
    "$$\n",
    "\n",
    "To assist us with this parameters estimation, we will be following the method outlined by Sophie Laruelle's paper which can be found here: \n",
    "\n",
    "http://events.chairefdd.org/wp-content/uploads/2013/06/CAHIER_MICRO_1.pdf \n",
    "\n",
    "as well as a very well-written stackexchange post by Charles-Albert Lehalle found here: \n",
    "\n",
    "https://quant.stackexchange.com/questions/36073/how-does-one-calibrate-lambda-in-a-avellaneda-stoikov-market-making-problem\n",
    "\n",
    "The idea behind this estimation method is as follows:\n",
    "\n",
    "1. Define a range of gaps from the mid price ($\\delta$)\n",
    "2. For each delta, place a limit buy/sell order at the asset mid price $\\pm\\delta$\n",
    "3. Using the market data, calculate how long it takes for these limit orders to theoretically be filled ($\\delta_t$)\n",
    "4. Form a histogram of the $\\delta_t$ for each $\\delta$, they should form a nice exponential distribution\n",
    "5. Calculate the empirical exponential parameter $\\lambda$ for this distribution for each $\\delta$\n",
    "6. These $\\lambda$ parameters themselves follow an exponential distribution--solve for the parameters of this distribution to get $A$, $k$\n",
    "\n",
    "This sounds very complicated, but we will work through it step-by-step:"
   ]
  },
  {
   "cell_type": "code",
   "execution_count": 47,
   "metadata": {},
   "outputs": [
    {
     "data": {
      "text/html": [
       "<div>\n",
       "<style scoped>\n",
       "    .dataframe tbody tr th:only-of-type {\n",
       "        vertical-align: middle;\n",
       "    }\n",
       "\n",
       "    .dataframe tbody tr th {\n",
       "        vertical-align: top;\n",
       "    }\n",
       "\n",
       "    .dataframe thead th {\n",
       "        text-align: right;\n",
       "    }\n",
       "</style>\n",
       "<table border=\"1\" class=\"dataframe\">\n",
       "  <thead>\n",
       "    <tr style=\"text-align: right;\">\n",
       "      <th></th>\n",
       "      <th>midpoint</th>\n",
       "    </tr>\n",
       "    <tr>\n",
       "      <th>system_time</th>\n",
       "      <th></th>\n",
       "    </tr>\n",
       "  </thead>\n",
       "  <tbody>\n",
       "    <tr>\n",
       "      <th>2021-04-07 11:32:50</th>\n",
       "      <td>1970.985</td>\n",
       "    </tr>\n",
       "    <tr>\n",
       "      <th>2021-04-07 11:32:51</th>\n",
       "      <td>1970.985</td>\n",
       "    </tr>\n",
       "    <tr>\n",
       "      <th>2021-04-07 11:32:52</th>\n",
       "      <td>1970.985</td>\n",
       "    </tr>\n",
       "    <tr>\n",
       "      <th>2021-04-07 11:32:53</th>\n",
       "      <td>1970.985</td>\n",
       "    </tr>\n",
       "    <tr>\n",
       "      <th>2021-04-07 11:32:54</th>\n",
       "      <td>1971.135</td>\n",
       "    </tr>\n",
       "  </tbody>\n",
       "</table>\n",
       "</div>"
      ],
      "text/plain": [
       "                     midpoint\n",
       "system_time                  \n",
       "2021-04-07 11:32:50  1970.985\n",
       "2021-04-07 11:32:51  1970.985\n",
       "2021-04-07 11:32:52  1970.985\n",
       "2021-04-07 11:32:53  1970.985\n",
       "2021-04-07 11:32:54  1971.135"
      ]
     },
     "execution_count": 47,
     "metadata": {},
     "output_type": "execute_result"
    }
   ],
   "source": [
    "# Use a single day as an example to start\n",
    "sample = ETH_mid.loc[day]\n",
    "sample.index = pd.to_datetime(sample.index)\n",
    "sample.head()"
   ]
  },
  {
   "cell_type": "code",
   "execution_count": 48,
   "metadata": {},
   "outputs": [
    {
     "data": {
      "text/html": [
       "<div>\n",
       "<style scoped>\n",
       "    .dataframe tbody tr th:only-of-type {\n",
       "        vertical-align: middle;\n",
       "    }\n",
       "\n",
       "    .dataframe tbody tr th {\n",
       "        vertical-align: top;\n",
       "    }\n",
       "\n",
       "    .dataframe thead th {\n",
       "        text-align: right;\n",
       "    }\n",
       "</style>\n",
       "<table border=\"1\" class=\"dataframe\">\n",
       "  <thead>\n",
       "    <tr style=\"text-align: right;\">\n",
       "      <th></th>\n",
       "      <th>midpoint</th>\n",
       "      <th>bid</th>\n",
       "      <th>ask</th>\n",
       "    </tr>\n",
       "    <tr>\n",
       "      <th>system_time</th>\n",
       "      <th></th>\n",
       "      <th></th>\n",
       "      <th></th>\n",
       "    </tr>\n",
       "  </thead>\n",
       "  <tbody>\n",
       "    <tr>\n",
       "      <th>2021-04-07 11:32:50</th>\n",
       "      <td>1970.985</td>\n",
       "      <td>1970.885</td>\n",
       "      <td>1971.085</td>\n",
       "    </tr>\n",
       "    <tr>\n",
       "      <th>2021-04-07 11:32:51</th>\n",
       "      <td>1970.985</td>\n",
       "      <td>1970.885</td>\n",
       "      <td>1971.085</td>\n",
       "    </tr>\n",
       "    <tr>\n",
       "      <th>2021-04-07 11:32:52</th>\n",
       "      <td>1970.985</td>\n",
       "      <td>1970.885</td>\n",
       "      <td>1971.085</td>\n",
       "    </tr>\n",
       "    <tr>\n",
       "      <th>2021-04-07 11:32:53</th>\n",
       "      <td>1970.985</td>\n",
       "      <td>1970.885</td>\n",
       "      <td>1971.085</td>\n",
       "    </tr>\n",
       "    <tr>\n",
       "      <th>2021-04-07 11:32:54</th>\n",
       "      <td>1971.135</td>\n",
       "      <td>1971.035</td>\n",
       "      <td>1971.235</td>\n",
       "    </tr>\n",
       "  </tbody>\n",
       "</table>\n",
       "</div>"
      ],
      "text/plain": [
       "                     midpoint       bid       ask\n",
       "system_time                                      \n",
       "2021-04-07 11:32:50  1970.985  1970.885  1971.085\n",
       "2021-04-07 11:32:51  1970.985  1970.885  1971.085\n",
       "2021-04-07 11:32:52  1970.985  1970.885  1971.085\n",
       "2021-04-07 11:32:53  1970.985  1970.885  1971.085\n",
       "2021-04-07 11:32:54  1971.135  1971.035  1971.235"
      ]
     },
     "execution_count": 48,
     "metadata": {},
     "output_type": "execute_result"
    }
   ],
   "source": [
    "# Define our list of gaps from mid price, delta\n",
    "deltalist = np.linspace(0.1,1,10)\n",
    "\n",
    "# Define our limit order placement for the first delta\n",
    "sample['bid'] = sample['midpoint'] - deltalist[0]\n",
    "sample['ask']  = sample['midpoint'] + deltalist[0]\n",
    "\n",
    "sample.head()"
   ]
  },
  {
   "cell_type": "code",
   "execution_count": 49,
   "metadata": {},
   "outputs": [
    {
     "data": {
      "text/plain": [
       "Timestamp\n",
       "2021-04-07 23:59:47    1960.00\n",
       "2021-04-07 23:59:47    1960.00\n",
       "2021-04-07 23:59:49    1960.17\n",
       "2021-04-07 23:59:49    1961.06\n",
       "2021-04-07 23:59:52    1961.94\n",
       "Name: Price, dtype: float64"
      ]
     },
     "execution_count": 49,
     "metadata": {},
     "output_type": "execute_result"
    }
   ],
   "source": [
    "# Get the market transactions for the same day, pull same times as sample\n",
    "mkt_sample = temp.loc[day][sample.index[0]:]['Price']\n",
    "mkt_sample.tail()"
   ]
  },
  {
   "cell_type": "markdown",
   "metadata": {},
   "source": [
    "Recall that there can be more than one market order in a one-second increment. Therefore, we can determine if an ask limit order is filled by considering the max market order that happened in a given one-second increment. Consider the following case:"
   ]
  },
  {
   "cell_type": "code",
   "execution_count": 50,
   "metadata": {},
   "outputs": [
    {
     "data": {
      "text/plain": [
       "Timestamp\n",
       "2021-04-07 23:59:49    1960.17\n",
       "2021-04-07 23:59:49    1961.06\n",
       "Name: Price, dtype: float64"
      ]
     },
     "execution_count": 50,
     "metadata": {},
     "output_type": "execute_result"
    }
   ],
   "source": [
    "two_orders = mkt_sample.iloc[-3:-1]\n",
    "two_orders"
   ]
  },
  {
   "cell_type": "markdown",
   "metadata": {},
   "source": [
    "We can see here that two transactions occurred in this one-second interval, so if the maximum market order (\\$1961.06) is greater than our ask limit order, then we consider the order as 'filled.' This applies also to buy limit orders, but instead we consider the maximum order in a given one-second interval. "
   ]
  },
  {
   "cell_type": "code",
   "execution_count": 51,
   "metadata": {},
   "outputs": [
    {
     "data": {
      "text/plain": [
       "midpoint    1960.195\n",
       "bid         1960.095\n",
       "ask         1960.295\n",
       "Name: 2021-04-07 23:59:49, dtype: float64"
      ]
     },
     "execution_count": 51,
     "metadata": {},
     "output_type": "execute_result"
    }
   ],
   "source": [
    "sample.loc['2021-04-07 23:59:49']"
   ]
  },
  {
   "cell_type": "markdown",
   "metadata": {},
   "source": [
    "We can see here that our ask limit order (1960.295) is priced cheaper than the highest market order (1961.06) therefore, we consider that limit order to be filled. Let's try to formulate this now into code:"
   ]
  },
  {
   "cell_type": "code",
   "execution_count": 52,
   "metadata": {},
   "outputs": [
    {
     "data": {
      "text/plain": [
       "Timestamp\n",
       "2021-04-07 23:59:49    True\n",
       "Freq: S, Name: Price, dtype: bool"
      ]
     },
     "execution_count": 52,
     "metadata": {},
     "output_type": "execute_result"
    }
   ],
   "source": [
    "# Only need the minimum value for each 1s interval to determine if \n",
    "# a market order filled\n",
    "(two_orders.groupby(pd.Grouper(freq='1S')) # Group by second-increments\n",
    "           .apply(lambda x: np.max(x) > sample.loc[x.name, 'ask'])) # Determine if any value is \n",
    "                                                                    # greater than limit ask"
   ]
  },
  {
   "cell_type": "code",
   "execution_count": 53,
   "metadata": {},
   "outputs": [],
   "source": [
    "# Do this for all\n",
    "bid_limit_order_hit = (mkt_sample.groupby(pd.Grouper(freq='1S'))\n",
    "                                 .apply(lambda x: np.max(x) < sample.loc[x.name, 'bid']))\n",
    "\n",
    "\n",
    "ask_limit_order_hit = (mkt_sample.groupby(pd.Grouper(freq='1S'))\n",
    "                                .apply(lambda x: np.max(x) > sample.loc[x.name, 'ask']))"
   ]
  },
  {
   "cell_type": "code",
   "execution_count": 54,
   "metadata": {},
   "outputs": [
    {
     "data": {
      "text/plain": [
       "Timestamp\n",
       "2021-04-07 11:32:50     True\n",
       "2021-04-07 11:32:51     True\n",
       "2021-04-07 11:32:52     True\n",
       "2021-04-07 11:32:53    False\n",
       "2021-04-07 11:32:54    False\n",
       "                       ...  \n",
       "2021-04-07 23:59:48    False\n",
       "2021-04-07 23:59:49     True\n",
       "2021-04-07 23:59:50    False\n",
       "2021-04-07 23:59:51    False\n",
       "2021-04-07 23:59:52     True\n",
       "Freq: S, Name: Price, Length: 44823, dtype: bool"
      ]
     },
     "execution_count": 54,
     "metadata": {},
     "output_type": "execute_result"
    }
   ],
   "source": [
    "# Combine the two into a single signal\n",
    "limit_order_hit = bid_limit_order_hit | ask_limit_order_hit\n",
    "limit_order_hit"
   ]
  },
  {
   "cell_type": "code",
   "execution_count": 55,
   "metadata": {},
   "outputs": [
    {
     "data": {
      "text/plain": [
       "True"
      ]
     },
     "execution_count": 55,
     "metadata": {},
     "output_type": "execute_result"
    }
   ],
   "source": [
    "# Sanity check\n",
    "limit_order_hit.sum() > bid_limit_order_hit.sum()"
   ]
  },
  {
   "cell_type": "code",
   "execution_count": 56,
   "metadata": {},
   "outputs": [
    {
     "data": {
      "text/plain": [
       "True"
      ]
     },
     "execution_count": 56,
     "metadata": {},
     "output_type": "execute_result"
    }
   ],
   "source": [
    "# Sanity check\n",
    "limit_order_hit.sum() > ask_limit_order_hit.sum()"
   ]
  },
  {
   "cell_type": "markdown",
   "metadata": {},
   "source": [
    "Calculate the duration it takes for a market order to fill a limit order:"
   ]
  },
  {
   "cell_type": "code",
   "execution_count": 57,
   "metadata": {},
   "outputs": [],
   "source": [
    "times = pd.Series(limit_order_hit[limit_order_hit == 1].index).diff().apply(lambda x: x.total_seconds())"
   ]
  },
  {
   "cell_type": "markdown",
   "metadata": {},
   "source": [
    "We know that the maximum likelihood estimator of $\\lambda$ for a Poisson distribution is the 1/sample mean therefore:"
   ]
  },
  {
   "cell_type": "code",
   "execution_count": 58,
   "metadata": {},
   "outputs": [
    {
     "data": {
      "text/plain": [
       "0.21978046495024764"
      ]
     },
     "execution_count": 58,
     "metadata": {},
     "output_type": "execute_result"
    }
   ],
   "source": [
    "lambda_01 = 1/times.mean()\n",
    "lambda_01"
   ]
  },
  {
   "cell_type": "markdown",
   "metadata": {},
   "source": [
    "Now, let's extend this to each value in our deltalist:"
   ]
  },
  {
   "cell_type": "code",
   "execution_count": 59,
   "metadata": {},
   "outputs": [
    {
     "name": "stdout",
     "output_type": "stream",
     "text": [
      "0.1\n",
      "0.2\n",
      "0.3\n",
      "0.4\n",
      "0.5\n",
      "0.6\n",
      "0.7\n",
      "0.8\n",
      "0.9\n",
      "1.0\n"
     ]
    }
   ],
   "source": [
    "deltalist = np.linspace(0.1,1,10)\n",
    "\n",
    "# For some reason, linspace will add very far our decimals\n",
    "deltalist = [np.round(x,1) for x in deltalist]\n",
    "\n",
    "deltadict = {}\n",
    "\n",
    "for price_delta in deltalist:\n",
    "    print(price_delta)\n",
    "    sample['bid'] = sample['midpoint'] - price_delta\n",
    "    sample['ask']  = sample['midpoint'] + price_delta\n",
    "    \n",
    "    bid_limit_order_hit = (mkt_sample.groupby(pd.Grouper(freq='1S'))\n",
    "                                     .apply(lambda x: np.max(x) < sample.loc[x.name, 'bid']))\n",
    "\n",
    "    ask_limit_order_hit = (mkt_sample.groupby(pd.Grouper(freq='1S'))\n",
    "                                     .apply(lambda x: np.max(x) > sample.loc[x.name, 'ask']))\n",
    "    \n",
    "    # Combine the two into a single signal\n",
    "    limit_order_hit = bid_limit_order_hit | ask_limit_order_hit\n",
    "    \n",
    "    deltas = pd.Series(limit_order_hit[limit_order_hit == 1].index).diff().apply(lambda x: x.total_seconds())\n",
    "    \n",
    "    deltadict[price_delta] = deltas"
   ]
  },
  {
   "cell_type": "markdown",
   "metadata": {},
   "source": [
    "Now that we've calculated these time gaps, we can get an idea of how they are distributed. Let's consider the time gaps associated with placing limit order \\$0.10 away from the mid price:"
   ]
  },
  {
   "cell_type": "code",
   "execution_count": 570,
   "metadata": {},
   "outputs": [
    {
     "data": {
      "image/png": "[encoded data removed]",
      "text/plain": [
       "<Figure size 1080x576 with 1 Axes>"
      ]
     },
     "metadata": {},
     "output_type": "display_data"
    }
   ],
   "source": [
    "plt.figure(figsize=(15,8))\n",
    "plt.title('Histogram and Kernel Density Estimate of Filled Limit Orders with $\\delta=0.1$')\n",
    "sns.distplot(deltadict[0.1].dropna())\n",
    "plt.xlabel('Time Until Fill (in Seconds)')\n",
    "plt.ylabel('Probability Density')\n",
    "plt.show()"
   ]
  },
  {
   "cell_type": "markdown",
   "metadata": {},
   "source": [
    "Now, for each $\\delta$ that we have defined, there exists a distribution similar to the one above. Therefore, for each $\\delta$, we can calculate the mean waiting time until an order is filled, and get a respective $\\lambda_\\delta$. By doing exactly this, we can create the chart shown below, which seems to match the chart in Sophie Laruelle's paper quite nicely. "
   ]
  },
  {
   "cell_type": "code",
   "execution_count": 573,
   "metadata": {},
   "outputs": [
    {
     "data": {
      "text/html": [
       "<div>\n",
       "<style scoped>\n",
       "    .dataframe tbody tr th:only-of-type {\n",
       "        vertical-align: middle;\n",
       "    }\n",
       "\n",
       "    .dataframe tbody tr th {\n",
       "        vertical-align: top;\n",
       "    }\n",
       "\n",
       "    .dataframe thead th {\n",
       "        text-align: right;\n",
       "    }\n",
       "</style>\n",
       "<table border=\"1\" class=\"dataframe\">\n",
       "  <thead>\n",
       "    <tr style=\"text-align: right;\">\n",
       "      <th></th>\n",
       "      <th>lambda_delta</th>\n",
       "    </tr>\n",
       "    <tr>\n",
       "      <th>delta</th>\n",
       "      <th></th>\n",
       "    </tr>\n",
       "  </thead>\n",
       "  <tbody>\n",
       "    <tr>\n",
       "      <th>0.1</th>\n",
       "      <td>0.219780</td>\n",
       "    </tr>\n",
       "    <tr>\n",
       "      <th>0.2</th>\n",
       "      <td>0.198162</td>\n",
       "    </tr>\n",
       "    <tr>\n",
       "      <th>0.3</th>\n",
       "      <td>0.177324</td>\n",
       "    </tr>\n",
       "    <tr>\n",
       "      <th>0.4</th>\n",
       "      <td>0.158980</td>\n",
       "    </tr>\n",
       "    <tr>\n",
       "      <th>0.5</th>\n",
       "      <td>0.142455</td>\n",
       "    </tr>\n",
       "    <tr>\n",
       "      <th>0.6</th>\n",
       "      <td>0.127572</td>\n",
       "    </tr>\n",
       "    <tr>\n",
       "      <th>0.7</th>\n",
       "      <td>0.113474</td>\n",
       "    </tr>\n",
       "    <tr>\n",
       "      <th>0.8</th>\n",
       "      <td>0.100732</td>\n",
       "    </tr>\n",
       "    <tr>\n",
       "      <th>0.9</th>\n",
       "      <td>0.088290</td>\n",
       "    </tr>\n",
       "    <tr>\n",
       "      <th>1.0</th>\n",
       "      <td>0.077332</td>\n",
       "    </tr>\n",
       "  </tbody>\n",
       "</table>\n",
       "</div>"
      ],
      "text/plain": [
       "       lambda_delta\n",
       "delta              \n",
       "0.1        0.219780\n",
       "0.2        0.198162\n",
       "0.3        0.177324\n",
       "0.4        0.158980\n",
       "0.5        0.142455\n",
       "0.6        0.127572\n",
       "0.7        0.113474\n",
       "0.8        0.100732\n",
       "0.9        0.088290\n",
       "1.0        0.077332"
      ]
     },
     "execution_count": 573,
     "metadata": {},
     "output_type": "execute_result"
    }
   ],
   "source": [
    "lambdas = pd.DataFrame([[key,1/deltadict[key].mean()] for key in deltadict.keys()],\n",
    "                       columns=['delta','lambda_delta']).set_index('delta')\n",
    "lambdas"
   ]
  },
  {
   "cell_type": "code",
   "execution_count": 574,
   "metadata": {},
   "outputs": [
    {
     "data": {
      "image/png": "[encoded data removed]",
      "text/plain": [
       "<Figure size 1080x576 with 1 Axes>"
      ]
     },
     "metadata": {},
     "output_type": "display_data"
    }
   ],
   "source": [
    "plt.figure(figsize=(15,8))\n",
    "plt.scatter(lambdas.index, lambdas.values)\n",
    "plt.xlabel('$\\delta$')\n",
    "plt.ylabel('$\\lambda_\\delta$')\n",
    "plt.show()"
   ]
  },
  {
   "cell_type": "markdown",
   "metadata": {},
   "source": [
    "Now that we have this curve, we can fit an exponential distribution to it:"
   ]
  },
  {
   "cell_type": "code",
   "execution_count": 575,
   "metadata": {},
   "outputs": [],
   "source": [
    "# Define a function of the expnential curve we are trying to fit\n",
    "def exp_fit(x,a,b):\n",
    "    y = a*np.exp(-b*x)\n",
    "    return y"
   ]
  },
  {
   "cell_type": "code",
   "execution_count": 576,
   "metadata": {},
   "outputs": [],
   "source": [
    "# Fit the curve to our set of lambdas\n",
    "paramsB, cv = scipy.optimize.curve_fit(exp_fit, np.array(lambdas.index), np.array(lambdas['lambda_delta'].values))\n",
    "A, k = paramsB"
   ]
  },
  {
   "cell_type": "code",
   "execution_count": 579,
   "metadata": {},
   "outputs": [
    {
     "data": {
      "image/png": "[encoded data removed]",
      "text/plain": [
       "<Figure size 1080x576 with 1 Axes>"
      ]
     },
     "metadata": {},
     "output_type": "display_data"
    }
   ],
   "source": [
    "plt.figure(figsize=(15,8))\n",
    "plt.plot(np.array(lambdas.index), np.array(lambdas['lambda_delta'].values), '.', label=\"data\")\n",
    "plt.plot(np.array(lambdas.index), exp_fit(np.array(lambdas.index), A, k), '--', label=\"fitted\")\n",
    "plt.title(\"Fitted Exponential Curve\")\n",
    "plt.xlabel('$\\delta$')\n",
    "plt.ylabel('$\\lambda_\\delta$')\n",
    "plt.show()"
   ]
  },
  {
   "cell_type": "markdown",
   "metadata": {},
   "source": [
    "From here, we now have our estimates for $A$ and $k$:"
   ]
  },
  {
   "cell_type": "code",
   "execution_count": 76,
   "metadata": {},
   "outputs": [
    {
     "data": {
      "text/plain": [
       "(0.24817126505410556, 1.129400088277202)"
      ]
     },
     "execution_count": 76,
     "metadata": {},
     "output_type": "execute_result"
    }
   ],
   "source": [
    "A, k"
   ]
  },
  {
   "cell_type": "markdown",
   "metadata": {},
   "source": [
    "Now, let's extend this to every day in our universe:"
   ]
  },
  {
   "cell_type": "code",
   "execution_count": 240,
   "metadata": {},
   "outputs": [],
   "source": [
    "Alist = []\n",
    "klist = []\n",
    "\n",
    "for i in range(len(list_of_dates)-1):\n",
    "    day = list_of_dates[i].strftime('%Y-%m-%d')\n",
    "    print(day)\n",
    "    \n",
    "    sample = ETH_mid.loc[day]\n",
    "    sample.index = pd.to_datetime(sample.index)\n",
    "    \n",
    "    mkt_sample = temp.loc[day][sample.index[0]:]['Price']\n",
    "    \n",
    "    deltadict = {}\n",
    "\n",
    "    for price_delta in deltalist:\n",
    "        sample['bid'] = sample['midpoint'] - price_delta\n",
    "        sample['ask']  = sample['midpoint'] + price_delta\n",
    "\n",
    "        bid_limit_order_hit = (mkt_sample.groupby(pd.Grouper(freq='1S'))\n",
    "                                         .apply(lambda x: np.max(x) < sample.loc[x.name, 'bid']))\n",
    "\n",
    "\n",
    "        ask_limit_order_hit = (mkt_sample.groupby(pd.Grouper(freq='1S'))\n",
    "                                         .apply(lambda x: np.max(x) > sample.loc[x.name, 'ask']))\n",
    "\n",
    "        # Combine the two into a single signal\n",
    "        limit_order_hit = bid_limit_order_hit | ask_limit_order_hit\n",
    "\n",
    "        deltas = pd.Series(limit_order_hit[limit_order_hit == 1].index).diff().apply(lambda x: x.total_seconds())\n",
    "\n",
    "        deltadict[price_delta] = deltas\n",
    "    \n",
    "    lambdas = pd.DataFrame([[key,1/deltadict[key].mean()] for key in deltadict.keys()],\n",
    "                       columns=['delta','lambda_delta']).set_index('delta')\n",
    "    \n",
    "    paramsB, cv = scipy.optimize.curve_fit(exp_fit, np.array(lambdas.index), np.array(lambdas['lambda_delta'].values))\n",
    "    A, k = paramsB\n",
    "    \n",
    "    Alist.append(A)\n",
    "    klist.append(k)"
   ]
  },
  {
   "cell_type": "code",
   "execution_count": 242,
   "metadata": {},
   "outputs": [
    {
     "data": {
      "text/plain": [
       "[0.24817126505410556,\n",
       " 0.13037149828690708,\n",
       " 0.09399842479068625,\n",
       " 0.14840967741634956,\n",
       " 0.0966547313665467,\n",
       " 0.11717568831438767,\n",
       " 0.1826644667662259,\n",
       " 0.23521268578143442,\n",
       " 0.21759856809626252,\n",
       " 0.21759856809626252,\n",
       " 0.23026855884926092,\n",
       " 0.15901001618442734,\n",
       " 0.29979328578929354]"
      ]
     },
     "execution_count": 242,
     "metadata": {},
     "output_type": "execute_result"
    }
   ],
   "source": [
    "Alist"
   ]
  },
  {
   "cell_type": "code",
   "execution_count": 241,
   "metadata": {},
   "outputs": [
    {
     "data": {
      "text/plain": [
       "[1.129400088277202,\n",
       " 1.2927866582793472,\n",
       " 1.5144070795190347,\n",
       " 1.267950299985835,\n",
       " 1.3040376526405026,\n",
       " 1.5197167163899559,\n",
       " 1.3363502335280146,\n",
       " 1.0586172133473861,\n",
       " 0.557907880709528,\n",
       " 0.557907880709528,\n",
       " 1.1236843413687747,\n",
       " 1.0902114085025607,\n",
       " 0.5456407639312025]"
      ]
     },
     "execution_count": 241,
     "metadata": {},
     "output_type": "execute_result"
    }
   ],
   "source": [
    "klist"
   ]
  },
  {
   "cell_type": "code",
   "execution_count": 48,
   "metadata": {},
   "outputs": [],
   "source": [
    "# Save these because they took a long time to calculate\n",
    "#pd.DataFrame([Alist, klist], index=['Alist','Klist']).T.to_csv('save/ETH_A_klist.csv')"
   ]
  },
  {
   "cell_type": "code",
   "execution_count": 3,
   "metadata": {},
   "outputs": [],
   "source": [
    "A_klist = pd.read_csv('save/ETH_A_klist.csv')\n",
    "Alist = A_klist['Alist'].tolist()\n",
    "klist = A_klist['Klist'].tolist()"
   ]
  },
  {
   "cell_type": "markdown",
   "metadata": {},
   "source": [
    "#### 1.2.1.3 - Estimation of $\\gamma$"
   ]
  },
  {
   "cell_type": "markdown",
   "metadata": {},
   "source": [
    "Now that we have our estimates, we can put together a backtest for a single day, and use this backtest to calculate our gamma for the next day:"
   ]
  },
  {
   "cell_type": "code",
   "execution_count": 72,
   "metadata": {},
   "outputs": [],
   "source": [
    "# Define next day\n",
    "date = '2021-04-08'\n",
    "\n",
    "# Get mid prices for next day\n",
    "s = ETH_mid.loc[date]\n",
    "\n",
    "# Fill in any missing seconds with NaNs\n",
    "s = s.resample('S').asfreq(fill_value=np.nan)\n",
    "\n",
    "# Forward fill the previous midprice if one doesn't\n",
    "# exist for a given second-interval\n",
    "s = s.ffill()\n",
    "s = s['midpoint'] \n",
    "\n",
    "# Get market orders for next day\n",
    "m = temp.loc[date]"
   ]
  },
  {
   "cell_type": "code",
   "execution_count": 73,
   "metadata": {},
   "outputs": [],
   "source": [
    "# Use previous day's values, arbitrary gamma for now\n",
    "sigma = sigmalist[0]\n",
    "gamma = 0.1\n",
    "A = Alist[0]\n",
    "k = klist[0]\n",
    "\n",
    "# Run a sample backtest\n",
    "res = run_backtest(s, m, gamma, A, k, sigma)"
   ]
  },
  {
   "cell_type": "code",
   "execution_count": 74,
   "metadata": {},
   "outputs": [],
   "source": [
    "# Save the PnL to a DataFrame\n",
    "result = pd.DataFrame(res['pnl'][1:], index=s.index,columns=['PnL'])"
   ]
  },
  {
   "cell_type": "code",
   "execution_count": 75,
   "metadata": {
    "scrolled": false
   },
   "outputs": [
    {
     "data": {
      "image/png": "[encoded data removed]",
      "text/plain": [
       "<Figure size 1080x576 with 1 Axes>"
      ]
     },
     "metadata": {},
     "output_type": "display_data"
    }
   ],
   "source": [
    "# Plot the PnL\n",
    "fig = plt.figure(figsize=(15,8)) \n",
    "ax = fig.add_subplot(111)\n",
    "plt.title('Theoretical PnL of A-S on April 8, 2021')\n",
    "xfmt = mdates.DateFormatter('%H:%M')\n",
    "ax.xaxis.set_major_formatter(xfmt)\n",
    "plt.plot(result)\n",
    "plt.show()"
   ]
  },
  {
   "cell_type": "markdown",
   "metadata": {},
   "source": [
    "Looks good! Once we have a backtest completed, we can use the backtest to find an optimal risk-taking coefficient $\\gamma$. Perhaps by selecting the gamma which optimizes our Sharpe ratio of the previous day, we can get a more attractive risk/return profile:"
   ]
  },
  {
   "cell_type": "code",
   "execution_count": 80,
   "metadata": {},
   "outputs": [],
   "source": [
    "# Set up the function used to compute PnL using various gammas\n",
    "# in parallel\n",
    "def parallel_backtest(gamma):\n",
    "    \n",
    "    # Run the backtest\n",
    "    res = run_backtest(s, m, gamma, A, k, sigma)\n",
    "    \n",
    "    # Calculate the percent change of PnL\n",
    "    res_pnl = pd.Series(res['pnl']).pct_change().dropna()[1:]\n",
    "    \n",
    "    # Calculate the Sharpe of backtest\n",
    "    return [gamma, res_pnl.mean() / res_pnl.std()] "
   ]
  },
  {
   "cell_type": "code",
   "execution_count": 81,
   "metadata": {},
   "outputs": [],
   "source": [
    "# Define number of processes\n",
    "p = Pool(processes=20)\n",
    "\n",
    "# Map the parallel_backtest function to each process,\n",
    "# Define the gamma search space as 50 evenly-placed numbers\n",
    "# between 0.1 and 5\n",
    "data = p.map(parallel_backtest, np.linspace(0.1,5,50))\n",
    "\n",
    "# End the processes\n",
    "p.close()"
   ]
  },
  {
   "cell_type": "code",
   "execution_count": 82,
   "metadata": {},
   "outputs": [
    {
     "data": {
      "text/plain": [
       "1.3000000000000003"
      ]
     },
     "execution_count": 82,
     "metadata": {},
     "output_type": "execute_result"
    }
   ],
   "source": [
    "best_gamma = pd.DataFrame(data).set_index(0).idxmax().values[0]\n",
    "best_gamma"
   ]
  },
  {
   "cell_type": "markdown",
   "metadata": {},
   "source": [
    "Let's see if there is an obvious relationship between gamma and Sharpe:"
   ]
  },
  {
   "cell_type": "code",
   "execution_count": 107,
   "metadata": {},
   "outputs": [
    {
     "data": {
      "image/png": "[encoded data removed]",
      "text/plain": [
       "<Figure size 720x360 with 1 Axes>"
      ]
     },
     "metadata": {},
     "output_type": "display_data"
    }
   ],
   "source": [
    "fig = plt.figure(figsize=(10,5)) \n",
    "ax = fig.add_subplot(111)\n",
    "plt.title('Theoretical PnL of A-S on April 8, 2021')\n",
    "plt.plot(pd.DataFrame(data).set_index(0))\n",
    "plt.xlabel('$\\gamma$')\n",
    "plt.ylabel('Sharpe of Next Day')\n",
    "plt.show()"
   ]
  },
  {
   "cell_type": "markdown",
   "metadata": {},
   "source": [
    "Unfortunately, there does not seem to be any sort of immediate relationship between gamma and Sharpe. If I had more computational power, I would definitely extend the search space. Perhaps then we could see a more obvious relationship? In any case, let's move on and see what the backtest of the next day looks like using our new gamma:"
   ]
  },
  {
   "cell_type": "code",
   "execution_count": 65,
   "metadata": {},
   "outputs": [],
   "source": [
    "# The same values as before, just with a new gamma\n",
    "res = run_backtest(s, m, best_gamma, A, k, sigma)"
   ]
  },
  {
   "cell_type": "code",
   "execution_count": 108,
   "metadata": {},
   "outputs": [
    {
     "data": {
      "image/png": "[encoded data removed]",
      "text/plain": [
       "<Figure size 1080x576 with 1 Axes>"
      ]
     },
     "metadata": {},
     "output_type": "display_data"
    }
   ],
   "source": [
    "# Plot the results\n",
    "fig = plt.figure(figsize=(15,8)) \n",
    "ax = fig.add_subplot(111)\n",
    "plt.plot(pd.DataFrame(res['pnl'][1:], index=pd.to_datetime(s.index)))\n",
    "plt.ylabel('PnL')\n",
    "xfmt = mdates.DateFormatter('%H:%M')\n",
    "ax.xaxis.set_major_formatter(xfmt)\n",
    "plt.show()"
   ]
  },
  {
   "cell_type": "markdown",
   "metadata": {},
   "source": [
    "Looks good! Now we can extend this idea to calculate the gammas for each day:"
   ]
  },
  {
   "cell_type": "code",
   "execution_count": 118,
   "metadata": {},
   "outputs": [
    {
     "name": "stdout",
     "output_type": "stream",
     "text": [
      "2021-04-08\n",
      "2021-04-09\n",
      "2021-04-10\n",
      "2021-04-11\n",
      "2021-04-12\n",
      "2021-04-13\n",
      "2021-04-14\n",
      "2021-04-15\n",
      "2021-04-16\n",
      "2021-04-17\n",
      "2021-04-18\n",
      "2021-04-19\n"
     ]
    }
   ],
   "source": [
    "gammalist = []\n",
    "\n",
    "# Skip a day because we need to use parameter estimates from \n",
    "# day t-1 to calculate the PnL of t\n",
    "for j in range(1,len(list_of_dates)):\n",
    "    \n",
    "    # Get parameters from previos day\n",
    "    sigma = sigmalist[j-1]\n",
    "    A = Alist[j-1]\n",
    "    k = klist[j-1]\n",
    "    \n",
    "    date = list_of_dates[j].strftime('%Y-%m-%d')\n",
    "    print(date)\n",
    "    \n",
    "    # Get mid prices for the day\n",
    "    s = ETH_mid.loc[date]\n",
    "\n",
    "    # Fill in any missing seconds with NaNs\n",
    "    s = s.resample('S').asfreq(fill_value=np.nan)\n",
    "\n",
    "    # Forward fill the previous midprice if one doesn't\n",
    "    # exist for a given second-interval\n",
    "    s = s.ffill()\n",
    "    s = s['midpoint'] \n",
    "    \n",
    "    m = temp.loc[date]\n",
    "\n",
    "    # Get market orders for next day, low market is lowest\n",
    "    # price of market order submitted in 1-sec\n",
    "    low_mkt = m.resample('S').min().reindex(s.index)\n",
    "\n",
    "    # hi market is highest price of market order submitted\n",
    "    # in 1-sec\n",
    "    hi_mkt = m.resample('S').max().reindex(s.index)\n",
    "    \n",
    "    p = Pool(processes=20)\n",
    "    data = p.map(parallel_backtest, np.linspace(0.1,5,50))\n",
    "    p.close()\n",
    "    \n",
    "    best_gamma = pd.DataFrame(data).set_index(0).idxmax().values[0]\n",
    "    \n",
    "    gammalist.append(best_gamma)"
   ]
  },
  {
   "cell_type": "code",
   "execution_count": 119,
   "metadata": {},
   "outputs": [],
   "source": [
    "# Save gammalist so that we don't need to calculate it every time\n",
    "#pd.DataFrame(gammalist).to_csv('save/ETH_gammalist.csv')"
   ]
  },
  {
   "cell_type": "code",
   "execution_count": 4,
   "metadata": {
    "scrolled": true
   },
   "outputs": [
    {
     "data": {
      "text/plain": [
       "[1.3000000000000005,\n",
       " 2.5000000000000004,\n",
       " 4.8,\n",
       " 4.3,\n",
       " 3.3000000000000003,\n",
       " 4.9,\n",
       " 1.7000000000000002,\n",
       " 1.1,\n",
       " 0.5,\n",
       " 1.3000000000000005,\n",
       " 0.4,\n",
       " 0.2]"
      ]
     },
     "execution_count": 4,
     "metadata": {},
     "output_type": "execute_result"
    }
   ],
   "source": [
    "gammalist = pd.read_csv('save/ETH_gammalist.csv',header=None)[1][1:].tolist()\n",
    "gammalist"
   ]
  },
  {
   "cell_type": "markdown",
   "metadata": {},
   "source": [
    "### 1.2.2 Full Backtest\n",
    "\n",
    "Now that we have all our parameters, we can run a full backtest on our data!\n"
   ]
  },
  {
   "cell_type": "code",
   "execution_count": 167,
   "metadata": {},
   "outputs": [],
   "source": [
    "res = {}\n",
    "\n",
    "# Exactly the same as before, just iterating through\n",
    "# all the relevant days\n",
    "for j in range(1,len(list_of_dates)-1):\n",
    "    \n",
    "    date = list_of_dates[j].strftime('%Y-%m-%d')\n",
    "    s = ETH_mid.loc[date]\n",
    "    \n",
    "    # Fill in any missing seconds with NaNs\n",
    "    s = s.resample('S').asfreq(fill_value=np.nan)\n",
    "\n",
    "    # Forward fill the previous midprice if one doesn't\n",
    "    # exist for a given second-interval\n",
    "    s = s.ffill()\n",
    "    s = s['midpoint'] \n",
    "    \n",
    "    m = temp.loc[date]\n",
    "    \n",
    "    A = Alist[j-1]\n",
    "    k = klist[j-1]\n",
    "    sigma = sigmalist[j-1]\n",
    "    gamma = gammalist[j-1]\n",
    "    #print(gamma, A, k, sigma)\n",
    "    \n",
    "    res[date] = run_backtest(s, m, gamma, A, k, sigma)"
   ]
  },
  {
   "cell_type": "code",
   "execution_count": 169,
   "metadata": {},
   "outputs": [],
   "source": [
    "# Save the results for later use\n",
    "#with open('save/ETH_res.pickle', 'wb') as handle:\n",
    "#    pickle.dump(res, handle, protocol=pickle.HIGHEST_PROTOCOL)"
   ]
  },
  {
   "cell_type": "code",
   "execution_count": 189,
   "metadata": {},
   "outputs": [],
   "source": [
    "with open('save/ETH_res.pickle', 'rb') as handle:\n",
    "    res = pickle.load(handle)"
   ]
  },
  {
   "cell_type": "markdown",
   "metadata": {},
   "source": [
    "Now, let's see the results of a full backtest! First we must combine the PnL streams such that the PnL of day $t+1$ starts off where day $t$ finished:"
   ]
  },
  {
   "cell_type": "code",
   "execution_count": 194,
   "metadata": {},
   "outputs": [],
   "source": [
    "# Iterate through each day\n",
    "for i in range(1,len(list_of_dates)-1):\n",
    "    \n",
    "    # Get both current day and previous day\n",
    "    date = list_of_dates[i].strftime('%Y-%m-%d')\n",
    "    prev_date = list_of_dates[i-1].strftime('%Y-%m-%d')\n",
    "    \n",
    "    # If first day, no addition needed\n",
    "    if i == 1:\n",
    "        res[date]['pnl'] = res[date]['pnl'][1:]\n",
    "        \n",
    "    # Else, add the terminal PnL of day t-1 to day t's PnL\n",
    "    else:\n",
    "        res[date]['pnl'] = res[date]['pnl'][1:]+res[prev_date]['pnl'][-1]"
   ]
  },
  {
   "cell_type": "code",
   "execution_count": 202,
   "metadata": {
    "scrolled": false
   },
   "outputs": [
    {
     "data": {
      "image/png": "[encoded data removed]",
      "text/plain": [
       "<Figure size 1080x576 with 1 Axes>"
      ]
     },
     "metadata": {},
     "output_type": "display_data"
    }
   ],
   "source": [
    "# Plot the results\n",
    "fig = plt.figure(figsize=(15,8)) \n",
    "ax = fig.add_subplot(111)\n",
    "\n",
    "# Concatenate into a single DataFrame\n",
    "full_backtest_res = pd.concat([pd.Series(res[x]['pnl']) for x in res.keys()],\n",
    "                              axis=0)\n",
    "\n",
    "full_backtest_res.index = pd.to_datetime(ETH_mid['2021-04-08':'2021-04-18'].index)\n",
    "full_backtest_res.plot()\n",
    "plt.xlabel('Date')\n",
    "plt.ylabel('PnL')\n",
    "plt.show()"
   ]
  },
  {
   "cell_type": "markdown",
   "metadata": {},
   "source": [
    "# 2 - Cardano (ADA) \n",
    "\n",
    "Now that we've backtested the strategy on a very liquid token, let's move onto a less liquid token: Cardano (ADA). As of the writing of this notebook, ETH has a daily volume of \\\\$18 billion USD. ADA, on the other hand, has a daily volume of less than \\\\$2.5 billion. The difference in liquidity should result in different parameter estimates. \n",
    "\n",
    "## 2.1 - Data\n",
    "\n",
    "### 2.1.1 - Kraken Market Data\n",
    "\n",
    "Kraken offers market data on ADA as well, so the data cleaning process is the same as before:"
   ]
  },
  {
   "cell_type": "code",
   "execution_count": 203,
   "metadata": {},
   "outputs": [],
   "source": [
    "temp = pd.read_csv('../ADA/ADAUSD.csv', header=None)"
   ]
  },
  {
   "cell_type": "code",
   "execution_count": 204,
   "metadata": {},
   "outputs": [],
   "source": [
    "temp.columns = ['Timestamp', 'Price', 'Volume']"
   ]
  },
  {
   "cell_type": "markdown",
   "metadata": {},
   "source": [
    "Now, let's look at each column individually to get a sense of how they are formatted/distributed:"
   ]
  },
  {
   "cell_type": "code",
   "execution_count": 205,
   "metadata": {},
   "outputs": [],
   "source": [
    "# Look at dates first\n",
    "dates = temp['Timestamp']"
   ]
  },
  {
   "cell_type": "code",
   "execution_count": 206,
   "metadata": {},
   "outputs": [
    {
     "data": {
      "text/plain": [
       "0"
      ]
     },
     "execution_count": 206,
     "metadata": {},
     "output_type": "execute_result"
    }
   ],
   "source": [
    "# Are there any NaNs? \n",
    "dates.isnull().sum()"
   ]
  },
  {
   "cell_type": "code",
   "execution_count": 207,
   "metadata": {},
   "outputs": [
    {
     "data": {
      "text/html": [
       "<div>\n",
       "<style scoped>\n",
       "    .dataframe tbody tr th:only-of-type {\n",
       "        vertical-align: middle;\n",
       "    }\n",
       "\n",
       "    .dataframe tbody tr th {\n",
       "        vertical-align: top;\n",
       "    }\n",
       "\n",
       "    .dataframe thead th {\n",
       "        text-align: right;\n",
       "    }\n",
       "</style>\n",
       "<table border=\"1\" class=\"dataframe\">\n",
       "  <thead>\n",
       "    <tr style=\"text-align: right;\">\n",
       "      <th></th>\n",
       "      <th>Timestamp</th>\n",
       "      <th>Price</th>\n",
       "      <th>Volume</th>\n",
       "    </tr>\n",
       "  </thead>\n",
       "  <tbody>\n",
       "    <tr>\n",
       "      <th>7574466</th>\n",
       "      <td>2021-09-30 23:59:32</td>\n",
       "      <td>2.113900</td>\n",
       "      <td>36.689358</td>\n",
       "    </tr>\n",
       "    <tr>\n",
       "      <th>7574467</th>\n",
       "      <td>2021-09-30 23:59:32</td>\n",
       "      <td>2.113902</td>\n",
       "      <td>9.884759</td>\n",
       "    </tr>\n",
       "    <tr>\n",
       "      <th>7574468</th>\n",
       "      <td>2021-09-30 23:59:33</td>\n",
       "      <td>2.114110</td>\n",
       "      <td>1799.636953</td>\n",
       "    </tr>\n",
       "    <tr>\n",
       "      <th>7574469</th>\n",
       "      <td>2021-09-30 23:59:35</td>\n",
       "      <td>2.115678</td>\n",
       "      <td>83.089639</td>\n",
       "    </tr>\n",
       "    <tr>\n",
       "      <th>7574470</th>\n",
       "      <td>2021-09-30 23:59:36</td>\n",
       "      <td>2.115677</td>\n",
       "      <td>33.647533</td>\n",
       "    </tr>\n",
       "  </tbody>\n",
       "</table>\n",
       "</div>"
      ],
      "text/plain": [
       "                  Timestamp     Price       Volume\n",
       "7574466 2021-09-30 23:59:32  2.113900    36.689358\n",
       "7574467 2021-09-30 23:59:32  2.113902     9.884759\n",
       "7574468 2021-09-30 23:59:33  2.114110  1799.636953\n",
       "7574469 2021-09-30 23:59:35  2.115678    83.089639\n",
       "7574470 2021-09-30 23:59:36  2.115677    33.647533"
      ]
     },
     "execution_count": 207,
     "metadata": {},
     "output_type": "execute_result"
    }
   ],
   "source": [
    "temp['Timestamp'] = pd.to_datetime(temp['Timestamp'], unit='s')\n",
    "temp.tail()"
   ]
  },
  {
   "cell_type": "code",
   "execution_count": 208,
   "metadata": {},
   "outputs": [
    {
     "data": {
      "text/html": [
       "<div>\n",
       "<style scoped>\n",
       "    .dataframe tbody tr th:only-of-type {\n",
       "        vertical-align: middle;\n",
       "    }\n",
       "\n",
       "    .dataframe tbody tr th {\n",
       "        vertical-align: top;\n",
       "    }\n",
       "\n",
       "    .dataframe thead th {\n",
       "        text-align: right;\n",
       "    }\n",
       "</style>\n",
       "<table border=\"1\" class=\"dataframe\">\n",
       "  <thead>\n",
       "    <tr style=\"text-align: right;\">\n",
       "      <th></th>\n",
       "      <th>Price</th>\n",
       "      <th>Volume</th>\n",
       "    </tr>\n",
       "    <tr>\n",
       "      <th>Timestamp</th>\n",
       "      <th></th>\n",
       "      <th></th>\n",
       "    </tr>\n",
       "  </thead>\n",
       "  <tbody>\n",
       "    <tr>\n",
       "      <th>2021-09-30 23:59:32</th>\n",
       "      <td>2.113900</td>\n",
       "      <td>36.689358</td>\n",
       "    </tr>\n",
       "    <tr>\n",
       "      <th>2021-09-30 23:59:32</th>\n",
       "      <td>2.113902</td>\n",
       "      <td>9.884759</td>\n",
       "    </tr>\n",
       "    <tr>\n",
       "      <th>2021-09-30 23:59:33</th>\n",
       "      <td>2.114110</td>\n",
       "      <td>1799.636953</td>\n",
       "    </tr>\n",
       "    <tr>\n",
       "      <th>2021-09-30 23:59:35</th>\n",
       "      <td>2.115678</td>\n",
       "      <td>83.089639</td>\n",
       "    </tr>\n",
       "    <tr>\n",
       "      <th>2021-09-30 23:59:36</th>\n",
       "      <td>2.115677</td>\n",
       "      <td>33.647533</td>\n",
       "    </tr>\n",
       "  </tbody>\n",
       "</table>\n",
       "</div>"
      ],
      "text/plain": [
       "                        Price       Volume\n",
       "Timestamp                                 \n",
       "2021-09-30 23:59:32  2.113900    36.689358\n",
       "2021-09-30 23:59:32  2.113902     9.884759\n",
       "2021-09-30 23:59:33  2.114110  1799.636953\n",
       "2021-09-30 23:59:35  2.115678    83.089639\n",
       "2021-09-30 23:59:36  2.115677    33.647533"
      ]
     },
     "execution_count": 208,
     "metadata": {},
     "output_type": "execute_result"
    }
   ],
   "source": [
    "# Set timestamp as the index for the temp DataFrame\n",
    "temp = temp.set_index('Timestamp')\n",
    "temp.tail()"
   ]
  },
  {
   "cell_type": "code",
   "execution_count": 209,
   "metadata": {},
   "outputs": [
    {
     "data": {
      "text/html": [
       "<div>\n",
       "<style scoped>\n",
       "    .dataframe tbody tr th:only-of-type {\n",
       "        vertical-align: middle;\n",
       "    }\n",
       "\n",
       "    .dataframe tbody tr th {\n",
       "        vertical-align: top;\n",
       "    }\n",
       "\n",
       "    .dataframe thead th {\n",
       "        text-align: right;\n",
       "    }\n",
       "</style>\n",
       "<table border=\"1\" class=\"dataframe\">\n",
       "  <thead>\n",
       "    <tr style=\"text-align: right;\">\n",
       "      <th></th>\n",
       "      <th>count</th>\n",
       "      <th>mean</th>\n",
       "      <th>std</th>\n",
       "      <th>min</th>\n",
       "      <th>25%</th>\n",
       "      <th>50%</th>\n",
       "      <th>75%</th>\n",
       "      <th>max</th>\n",
       "    </tr>\n",
       "  </thead>\n",
       "  <tbody>\n",
       "    <tr>\n",
       "      <th>Price</th>\n",
       "      <td>7574471.0</td>\n",
       "      <td>1.264442</td>\n",
       "      <td>0.768161</td>\n",
       "      <td>0.01854</td>\n",
       "      <td>0.836995</td>\n",
       "      <td>1.265</td>\n",
       "      <td>1.705962</td>\n",
       "      <td>3.09778</td>\n",
       "    </tr>\n",
       "  </tbody>\n",
       "</table>\n",
       "</div>"
      ],
      "text/plain": [
       "           count      mean       std      min       25%    50%       75%  \\\n",
       "Price  7574471.0  1.264442  0.768161  0.01854  0.836995  1.265  1.705962   \n",
       "\n",
       "           max  \n",
       "Price  3.09778  "
      ]
     },
     "execution_count": 209,
     "metadata": {},
     "output_type": "execute_result"
    }
   ],
   "source": [
    "# Check that prices make sense\n",
    "pd.DataFrame(temp['Price'].describe()).T"
   ]
  },
  {
   "cell_type": "code",
   "execution_count": 210,
   "metadata": {},
   "outputs": [
    {
     "data": {
      "text/html": [
       "<div>\n",
       "<style scoped>\n",
       "    .dataframe tbody tr th:only-of-type {\n",
       "        vertical-align: middle;\n",
       "    }\n",
       "\n",
       "    .dataframe tbody tr th {\n",
       "        vertical-align: top;\n",
       "    }\n",
       "\n",
       "    .dataframe thead th {\n",
       "        text-align: right;\n",
       "    }\n",
       "</style>\n",
       "<table border=\"1\" class=\"dataframe\">\n",
       "  <thead>\n",
       "    <tr style=\"text-align: right;\">\n",
       "      <th></th>\n",
       "      <th>count</th>\n",
       "      <th>mean</th>\n",
       "      <th>std</th>\n",
       "      <th>min</th>\n",
       "      <th>25%</th>\n",
       "      <th>50%</th>\n",
       "      <th>75%</th>\n",
       "      <th>max</th>\n",
       "    </tr>\n",
       "  </thead>\n",
       "  <tbody>\n",
       "    <tr>\n",
       "      <th>Volume</th>\n",
       "      <td>7574471.0</td>\n",
       "      <td>2609.107186</td>\n",
       "      <td>9215.878633</td>\n",
       "      <td>1.000000e-08</td>\n",
       "      <td>42.332338</td>\n",
       "      <td>400.0</td>\n",
       "      <td>2064.998937</td>\n",
       "      <td>1565680.0</td>\n",
       "    </tr>\n",
       "  </tbody>\n",
       "</table>\n",
       "</div>"
      ],
      "text/plain": [
       "            count         mean          std           min        25%    50%  \\\n",
       "Volume  7574471.0  2609.107186  9215.878633  1.000000e-08  42.332338  400.0   \n",
       "\n",
       "                75%        max  \n",
       "Volume  2064.998937  1565680.0  "
      ]
     },
     "execution_count": 210,
     "metadata": {},
     "output_type": "execute_result"
    }
   ],
   "source": [
    "# Check that volume makes sense\n",
    "pd.DataFrame(temp['Volume'].describe()).T"
   ]
  },
  {
   "cell_type": "markdown",
   "metadata": {},
   "source": [
    "### 2.1.2 Order Book Data\n",
    "\n",
    "The dataset that contains ETH order book data also contains order book data for ADA. Let's take a look:"
   ]
  },
  {
   "cell_type": "code",
   "execution_count": 216,
   "metadata": {},
   "outputs": [
    {
     "data": {
      "text/html": [
       "<div>\n",
       "<style scoped>\n",
       "    .dataframe tbody tr th:only-of-type {\n",
       "        vertical-align: middle;\n",
       "    }\n",
       "\n",
       "    .dataframe tbody tr th {\n",
       "        vertical-align: top;\n",
       "    }\n",
       "\n",
       "    .dataframe thead th {\n",
       "        text-align: right;\n",
       "    }\n",
       "</style>\n",
       "<table border=\"1\" class=\"dataframe\">\n",
       "  <thead>\n",
       "    <tr style=\"text-align: right;\">\n",
       "      <th></th>\n",
       "      <th>Unnamed: 0</th>\n",
       "      <th>system_time</th>\n",
       "      <th>midpoint</th>\n",
       "      <th>spread</th>\n",
       "      <th>buys</th>\n",
       "      <th>sells</th>\n",
       "      <th>bids_distance_0</th>\n",
       "      <th>bids_distance_1</th>\n",
       "      <th>bids_distance_2</th>\n",
       "      <th>bids_distance_3</th>\n",
       "      <th>...</th>\n",
       "      <th>asks_market_notional_5</th>\n",
       "      <th>asks_market_notional_6</th>\n",
       "      <th>asks_market_notional_7</th>\n",
       "      <th>asks_market_notional_8</th>\n",
       "      <th>asks_market_notional_9</th>\n",
       "      <th>asks_market_notional_10</th>\n",
       "      <th>asks_market_notional_11</th>\n",
       "      <th>asks_market_notional_12</th>\n",
       "      <th>asks_market_notional_13</th>\n",
       "      <th>asks_market_notional_14</th>\n",
       "    </tr>\n",
       "  </thead>\n",
       "  <tbody>\n",
       "    <tr>\n",
       "      <th>0</th>\n",
       "      <td>0</td>\n",
       "      <td>2021-04-07 11:33:00.055697+00:00</td>\n",
       "      <td>1.17075</td>\n",
       "      <td>0.0015</td>\n",
       "      <td>0.000000</td>\n",
       "      <td>0.0000</td>\n",
       "      <td>-0.000641</td>\n",
       "      <td>-0.000726</td>\n",
       "      <td>-0.000811</td>\n",
       "      <td>-0.000897</td>\n",
       "      <td>...</td>\n",
       "      <td>0.0</td>\n",
       "      <td>0.0</td>\n",
       "      <td>0.0</td>\n",
       "      <td>0.0</td>\n",
       "      <td>0.0</td>\n",
       "      <td>0.0</td>\n",
       "      <td>0.0</td>\n",
       "      <td>0.0</td>\n",
       "      <td>0.0</td>\n",
       "      <td>0.0</td>\n",
       "    </tr>\n",
       "    <tr>\n",
       "      <th>1</th>\n",
       "      <td>1</td>\n",
       "      <td>2021-04-07 11:33:01.055697+00:00</td>\n",
       "      <td>1.17005</td>\n",
       "      <td>0.0001</td>\n",
       "      <td>684.618694</td>\n",
       "      <td>74178.0000</td>\n",
       "      <td>-0.000043</td>\n",
       "      <td>-0.000128</td>\n",
       "      <td>-0.000214</td>\n",
       "      <td>-0.000470</td>\n",
       "      <td>...</td>\n",
       "      <td>0.0</td>\n",
       "      <td>0.0</td>\n",
       "      <td>0.0</td>\n",
       "      <td>0.0</td>\n",
       "      <td>0.0</td>\n",
       "      <td>0.0</td>\n",
       "      <td>0.0</td>\n",
       "      <td>0.0</td>\n",
       "      <td>0.0</td>\n",
       "      <td>0.0</td>\n",
       "    </tr>\n",
       "    <tr>\n",
       "      <th>2</th>\n",
       "      <td>2</td>\n",
       "      <td>2021-04-07 11:33:02.055697+00:00</td>\n",
       "      <td>1.17045</td>\n",
       "      <td>0.0009</td>\n",
       "      <td>1280.056786</td>\n",
       "      <td>1835.7300</td>\n",
       "      <td>-0.000384</td>\n",
       "      <td>-0.000470</td>\n",
       "      <td>-0.000555</td>\n",
       "      <td>-0.000641</td>\n",
       "      <td>...</td>\n",
       "      <td>0.0</td>\n",
       "      <td>0.0</td>\n",
       "      <td>0.0</td>\n",
       "      <td>0.0</td>\n",
       "      <td>0.0</td>\n",
       "      <td>0.0</td>\n",
       "      <td>0.0</td>\n",
       "      <td>0.0</td>\n",
       "      <td>0.0</td>\n",
       "      <td>0.0</td>\n",
       "    </tr>\n",
       "    <tr>\n",
       "      <th>3</th>\n",
       "      <td>3</td>\n",
       "      <td>2021-04-07 11:33:03.055697+00:00</td>\n",
       "      <td>1.17005</td>\n",
       "      <td>0.0001</td>\n",
       "      <td>5.487769</td>\n",
       "      <td>1111.9329</td>\n",
       "      <td>-0.000043</td>\n",
       "      <td>-0.000128</td>\n",
       "      <td>-0.000214</td>\n",
       "      <td>-0.000470</td>\n",
       "      <td>...</td>\n",
       "      <td>0.0</td>\n",
       "      <td>0.0</td>\n",
       "      <td>0.0</td>\n",
       "      <td>0.0</td>\n",
       "      <td>0.0</td>\n",
       "      <td>0.0</td>\n",
       "      <td>0.0</td>\n",
       "      <td>0.0</td>\n",
       "      <td>0.0</td>\n",
       "      <td>0.0</td>\n",
       "    </tr>\n",
       "    <tr>\n",
       "      <th>4</th>\n",
       "      <td>4</td>\n",
       "      <td>2021-04-07 11:33:04.055697+00:00</td>\n",
       "      <td>1.17005</td>\n",
       "      <td>0.0001</td>\n",
       "      <td>683.701131</td>\n",
       "      <td>712.8927</td>\n",
       "      <td>-0.000043</td>\n",
       "      <td>-0.000128</td>\n",
       "      <td>-0.000214</td>\n",
       "      <td>-0.000470</td>\n",
       "      <td>...</td>\n",
       "      <td>0.0</td>\n",
       "      <td>0.0</td>\n",
       "      <td>0.0</td>\n",
       "      <td>0.0</td>\n",
       "      <td>0.0</td>\n",
       "      <td>0.0</td>\n",
       "      <td>0.0</td>\n",
       "      <td>0.0</td>\n",
       "      <td>0.0</td>\n",
       "      <td>0.0</td>\n",
       "    </tr>\n",
       "  </tbody>\n",
       "</table>\n",
       "<p>5 rows × 156 columns</p>\n",
       "</div>"
      ],
      "text/plain": [
       "   Unnamed: 0                       system_time  midpoint  spread  \\\n",
       "0           0  2021-04-07 11:33:00.055697+00:00   1.17075  0.0015   \n",
       "1           1  2021-04-07 11:33:01.055697+00:00   1.17005  0.0001   \n",
       "2           2  2021-04-07 11:33:02.055697+00:00   1.17045  0.0009   \n",
       "3           3  2021-04-07 11:33:03.055697+00:00   1.17005  0.0001   \n",
       "4           4  2021-04-07 11:33:04.055697+00:00   1.17005  0.0001   \n",
       "\n",
       "          buys       sells  bids_distance_0  bids_distance_1  bids_distance_2  \\\n",
       "0     0.000000      0.0000        -0.000641        -0.000726        -0.000811   \n",
       "1   684.618694  74178.0000        -0.000043        -0.000128        -0.000214   \n",
       "2  1280.056786   1835.7300        -0.000384        -0.000470        -0.000555   \n",
       "3     5.487769   1111.9329        -0.000043        -0.000128        -0.000214   \n",
       "4   683.701131    712.8927        -0.000043        -0.000128        -0.000214   \n",
       "\n",
       "   bids_distance_3  ...  asks_market_notional_5  asks_market_notional_6  \\\n",
       "0        -0.000897  ...                     0.0                     0.0   \n",
       "1        -0.000470  ...                     0.0                     0.0   \n",
       "2        -0.000641  ...                     0.0                     0.0   \n",
       "3        -0.000470  ...                     0.0                     0.0   \n",
       "4        -0.000470  ...                     0.0                     0.0   \n",
       "\n",
       "   asks_market_notional_7  asks_market_notional_8  asks_market_notional_9  \\\n",
       "0                     0.0                     0.0                     0.0   \n",
       "1                     0.0                     0.0                     0.0   \n",
       "2                     0.0                     0.0                     0.0   \n",
       "3                     0.0                     0.0                     0.0   \n",
       "4                     0.0                     0.0                     0.0   \n",
       "\n",
       "   asks_market_notional_10  asks_market_notional_11  asks_market_notional_12  \\\n",
       "0                      0.0                      0.0                      0.0   \n",
       "1                      0.0                      0.0                      0.0   \n",
       "2                      0.0                      0.0                      0.0   \n",
       "3                      0.0                      0.0                      0.0   \n",
       "4                      0.0                      0.0                      0.0   \n",
       "\n",
       "   asks_market_notional_13  asks_market_notional_14  \n",
       "0                      0.0                      0.0  \n",
       "1                      0.0                      0.0  \n",
       "2                      0.0                      0.0  \n",
       "3                      0.0                      0.0  \n",
       "4                      0.0                      0.0  \n",
       "\n",
       "[5 rows x 156 columns]"
      ]
     },
     "execution_count": 216,
     "metadata": {},
     "output_type": "execute_result"
    }
   ],
   "source": [
    "ADA_mid = pd.read_csv('../archive/ADA_1sec.csv')\n",
    "ADA_mid.head()"
   ]
  },
  {
   "cell_type": "code",
   "execution_count": 217,
   "metadata": {},
   "outputs": [],
   "source": [
    "ADA_mid['system_time'] = pd.to_datetime(ADA_mid['system_time'])\n",
    "ADA_mid = ADA_mid.loc[:,['system_time', 'midpoint']]"
   ]
  },
  {
   "cell_type": "code",
   "execution_count": 218,
   "metadata": {},
   "outputs": [],
   "source": [
    "list_of_dates = ADA_mid['system_time'].dt.date.unique().tolist()"
   ]
  },
  {
   "cell_type": "code",
   "execution_count": 219,
   "metadata": {},
   "outputs": [
    {
     "data": {
      "text/html": [
       "<div>\n",
       "<style scoped>\n",
       "    .dataframe tbody tr th:only-of-type {\n",
       "        vertical-align: middle;\n",
       "    }\n",
       "\n",
       "    .dataframe tbody tr th {\n",
       "        vertical-align: top;\n",
       "    }\n",
       "\n",
       "    .dataframe thead th {\n",
       "        text-align: right;\n",
       "    }\n",
       "</style>\n",
       "<table border=\"1\" class=\"dataframe\">\n",
       "  <thead>\n",
       "    <tr style=\"text-align: right;\">\n",
       "      <th></th>\n",
       "      <th>midpoint</th>\n",
       "    </tr>\n",
       "    <tr>\n",
       "      <th>system_time</th>\n",
       "      <th></th>\n",
       "    </tr>\n",
       "  </thead>\n",
       "  <tbody>\n",
       "    <tr>\n",
       "      <th>2021-04-07 11:33:00.055697+00:00</th>\n",
       "      <td>1.17075</td>\n",
       "    </tr>\n",
       "    <tr>\n",
       "      <th>2021-04-07 11:33:01.055697+00:00</th>\n",
       "      <td>1.17005</td>\n",
       "    </tr>\n",
       "    <tr>\n",
       "      <th>2021-04-07 11:33:02.055697+00:00</th>\n",
       "      <td>1.17045</td>\n",
       "    </tr>\n",
       "    <tr>\n",
       "      <th>2021-04-07 11:33:03.055697+00:00</th>\n",
       "      <td>1.17005</td>\n",
       "    </tr>\n",
       "    <tr>\n",
       "      <th>2021-04-07 11:33:04.055697+00:00</th>\n",
       "      <td>1.17005</td>\n",
       "    </tr>\n",
       "  </tbody>\n",
       "</table>\n",
       "</div>"
      ],
      "text/plain": [
       "                                  midpoint\n",
       "system_time                               \n",
       "2021-04-07 11:33:00.055697+00:00   1.17075\n",
       "2021-04-07 11:33:01.055697+00:00   1.17005\n",
       "2021-04-07 11:33:02.055697+00:00   1.17045\n",
       "2021-04-07 11:33:03.055697+00:00   1.17005\n",
       "2021-04-07 11:33:04.055697+00:00   1.17005"
      ]
     },
     "execution_count": 219,
     "metadata": {},
     "output_type": "execute_result"
    }
   ],
   "source": [
    "ADA_mid = ADA_mid.set_index('system_time')\n",
    "ADA_mid.head()"
   ]
  },
  {
   "cell_type": "code",
   "execution_count": 220,
   "metadata": {},
   "outputs": [
    {
     "data": {
      "text/html": [
       "<div>\n",
       "<style scoped>\n",
       "    .dataframe tbody tr th:only-of-type {\n",
       "        vertical-align: middle;\n",
       "    }\n",
       "\n",
       "    .dataframe tbody tr th {\n",
       "        vertical-align: top;\n",
       "    }\n",
       "\n",
       "    .dataframe thead th {\n",
       "        text-align: right;\n",
       "    }\n",
       "</style>\n",
       "<table border=\"1\" class=\"dataframe\">\n",
       "  <thead>\n",
       "    <tr style=\"text-align: right;\">\n",
       "      <th></th>\n",
       "      <th>midpoint</th>\n",
       "    </tr>\n",
       "    <tr>\n",
       "      <th>system_time</th>\n",
       "      <th></th>\n",
       "    </tr>\n",
       "  </thead>\n",
       "  <tbody>\n",
       "    <tr>\n",
       "      <th>2021-04-07 11:33:00</th>\n",
       "      <td>1.17075</td>\n",
       "    </tr>\n",
       "    <tr>\n",
       "      <th>2021-04-07 11:33:01</th>\n",
       "      <td>1.17005</td>\n",
       "    </tr>\n",
       "    <tr>\n",
       "      <th>2021-04-07 11:33:02</th>\n",
       "      <td>1.17045</td>\n",
       "    </tr>\n",
       "    <tr>\n",
       "      <th>2021-04-07 11:33:03</th>\n",
       "      <td>1.17005</td>\n",
       "    </tr>\n",
       "    <tr>\n",
       "      <th>2021-04-07 11:33:04</th>\n",
       "      <td>1.17005</td>\n",
       "    </tr>\n",
       "  </tbody>\n",
       "</table>\n",
       "</div>"
      ],
      "text/plain": [
       "                     midpoint\n",
       "system_time                  \n",
       "2021-04-07 11:33:00   1.17075\n",
       "2021-04-07 11:33:01   1.17005\n",
       "2021-04-07 11:33:02   1.17045\n",
       "2021-04-07 11:33:03   1.17005\n",
       "2021-04-07 11:33:04   1.17005"
      ]
     },
     "execution_count": 220,
     "metadata": {},
     "output_type": "execute_result"
    }
   ],
   "source": [
    "# Remove milliseconds\n",
    "ADA_mid.index = pd.to_datetime(ADA_mid.index.strftime('%Y-%m-%d %H:%M:%S'))\n",
    "ADA_mid.head()"
   ]
  },
  {
   "cell_type": "code",
   "execution_count": 221,
   "metadata": {},
   "outputs": [],
   "source": [
    "# Convert index to datetime\n",
    "dates = pd.to_datetime(ADA_mid.index) "
   ]
  },
  {
   "cell_type": "code",
   "execution_count": 222,
   "metadata": {},
   "outputs": [
    {
     "data": {
      "text/plain": [
       "False"
      ]
     },
     "execution_count": 222,
     "metadata": {},
     "output_type": "execute_result"
    }
   ],
   "source": [
    "# Check if there are any missing seconds\n",
    "len(ADA_mid) == len(ADA_mid.resample('S').asfreq())"
   ]
  },
  {
   "cell_type": "code",
   "execution_count": 223,
   "metadata": {},
   "outputs": [],
   "source": [
    "# Fill in the gaps with the previous value\n",
    "ADA_mid = ADA_mid.resample('S').ffill()"
   ]
  },
  {
   "cell_type": "markdown",
   "metadata": {},
   "source": [
    "## 2.2 - Implementation of A-S to Cardano Data\n",
    "\n",
    "The implementation to Cardano is extremely similar,, however we will need to change our units to reflect a similar value to 0.1ETH. Instead, we will trade 100ADA per transaction to get relatively close to the same position sizes as our ETH backtests. "
   ]
  },
  {
   "cell_type": "code",
   "execution_count": 224,
   "metadata": {},
   "outputs": [],
   "source": [
    "def run_backtest(s, m, gamma, A, k, sigma):\n",
    "    \n",
    "    N = 60*60*24\n",
    "    T = 1\n",
    "    dt = T/N\n",
    "\n",
    "    # Initialize empty array for pnl\n",
    "    pnl = np.zeros(N+1)\n",
    "\n",
    "    # Inventory\n",
    "    q = np.zeros(N+1)\n",
    "\n",
    "    # Capital\n",
    "    x = np.zeros(N+1)\n",
    "    \n",
    "    # Spread\n",
    "    spr = np.zeros(N+1)\n",
    "\n",
    "    # Ask limit orders\n",
    "    r_a = np.zeros(N+1)\n",
    "\n",
    "    # Reserve price\n",
    "    r = np.zeros(N+1)\n",
    "\n",
    "    # Bid limit orders\n",
    "    r_b = np.zeros(N+1)\n",
    "     \n",
    "    # Get market orders for next day, low market is lowest\n",
    "    # price of market order submitted in 1-sec\n",
    "    low_mkt = m.resample('S').min().reindex(s.index)\n",
    "\n",
    "    # hi market is highest price of market order submitted\n",
    "    # in 1-sec\n",
    "    hi_mkt = m.resample('S').max().reindex(s.index)\n",
    "\n",
    "    # Iterate through each second\n",
    "    for i in range(len(s)):\n",
    "        \n",
    "        # Find the date for the given iteration\n",
    "        date = s.index[i]\n",
    "        \n",
    "        # Calculate our reservation price\n",
    "        r[i] = s[i] - q[i] * gamma * sigma**2 * (T-i*dt)\n",
    "        \n",
    "        # Calculate our spread\n",
    "        spread = gamma * sigma**2 * (T - i * dt) + (2 / gamma) * np.log(1 + (gamma / k))\n",
    "        spr[i] = spread\n",
    "        spread = spread / 2\n",
    "\n",
    "        # Adjust spreads for gap between reserve price\n",
    "        # and asset mid-price\n",
    "        gap = np.abs(r[i] - s[i])\n",
    "    \n",
    "        # Define the distance between r[i] and our limit orders\n",
    "        if r[i] >= s[i]:\n",
    "            delta_a = spread + gap\n",
    "            delta_b = spread - gap    \n",
    "        else:\n",
    "            delta_a = spread - gap\n",
    "            delta_b = spread + gap\n",
    "            \n",
    "        # Define our limit orders\n",
    "        r_a[i] = r[i] + spread#delta_a\n",
    "        r_b[i] = r[i] - spread#delta_b\n",
    "        \n",
    "        # Do not buy or sell unless we get a feasible market order\n",
    "        sell = 0\n",
    "        buy  = 0\n",
    "\n",
    "        # If a market order is higher than our ask price, sell 0.1 units\n",
    "        if hi_mkt.loc[:,'Price'].values[i] > r_a[i]:\n",
    "            sell = 1\n",
    "\n",
    "        # If a market order is lower than our bid price, buy 0.1 units\n",
    "        if low_mkt.loc[:,'Price'].values[i] < r_b[i]:\n",
    "            buy = 1\n",
    "\n",
    "        # Adjust inventory to reflect transactions\n",
    "        q[i+1] = q[i] + buy - sell\n",
    "\n",
    "        #     # Calculate new capital\n",
    "        x[i+1] = x[i] + sell*(s[i]+spread) - buy*(s[i]-spread)\n",
    "\n",
    "        #     # Calculate pnl of assets\n",
    "        pnl[i+1] = x[i+1] + q[i+1]*s[i]\n",
    "\n",
    "    return {'pnl':pnl, 'x':x, 'q':q, 'spread':spr, 'r':r, 'r_a':r_a, 'r_b':r_b}"
   ]
  },
  {
   "cell_type": "markdown",
   "metadata": {},
   "source": [
    "### 2.2.1 -  Parameter Estimation Methodology\n",
    "\n",
    "Now, we can move onto estimating parameters. The methodology will be the same as before, but since we have lower volume, we should get different results!"
   ]
  },
  {
   "cell_type": "code",
   "execution_count": 225,
   "metadata": {},
   "outputs": [
    {
     "data": {
      "text/html": [
       "<div>\n",
       "<style scoped>\n",
       "    .dataframe tbody tr th:only-of-type {\n",
       "        vertical-align: middle;\n",
       "    }\n",
       "\n",
       "    .dataframe tbody tr th {\n",
       "        vertical-align: top;\n",
       "    }\n",
       "\n",
       "    .dataframe thead th {\n",
       "        text-align: right;\n",
       "    }\n",
       "</style>\n",
       "<table border=\"1\" class=\"dataframe\">\n",
       "  <thead>\n",
       "    <tr style=\"text-align: right;\">\n",
       "      <th></th>\n",
       "      <th>Price</th>\n",
       "      <th>Volume</th>\n",
       "    </tr>\n",
       "    <tr>\n",
       "      <th>Timestamp</th>\n",
       "      <th></th>\n",
       "      <th></th>\n",
       "    </tr>\n",
       "  </thead>\n",
       "  <tbody>\n",
       "    <tr>\n",
       "      <th>2021-04-07 00:00:10</th>\n",
       "      <td>1.253499</td>\n",
       "      <td>48.129367</td>\n",
       "    </tr>\n",
       "    <tr>\n",
       "      <th>2021-04-07 00:00:15</th>\n",
       "      <td>1.255000</td>\n",
       "      <td>2758.543009</td>\n",
       "    </tr>\n",
       "    <tr>\n",
       "      <th>2021-04-07 00:00:15</th>\n",
       "      <td>1.254999</td>\n",
       "      <td>997.406727</td>\n",
       "    </tr>\n",
       "    <tr>\n",
       "      <th>2021-04-07 00:00:15</th>\n",
       "      <td>1.254999</td>\n",
       "      <td>2.586533</td>\n",
       "    </tr>\n",
       "    <tr>\n",
       "      <th>2021-04-07 00:00:15</th>\n",
       "      <td>1.254999</td>\n",
       "      <td>0.006708</td>\n",
       "    </tr>\n",
       "    <tr>\n",
       "      <th>...</th>\n",
       "      <td>...</td>\n",
       "      <td>...</td>\n",
       "    </tr>\n",
       "    <tr>\n",
       "      <th>2021-04-07 23:59:22</th>\n",
       "      <td>1.173918</td>\n",
       "      <td>1000.000000</td>\n",
       "    </tr>\n",
       "    <tr>\n",
       "      <th>2021-04-07 23:59:28</th>\n",
       "      <td>1.174015</td>\n",
       "      <td>2126.000000</td>\n",
       "    </tr>\n",
       "    <tr>\n",
       "      <th>2021-04-07 23:59:28</th>\n",
       "      <td>1.174127</td>\n",
       "      <td>5874.000000</td>\n",
       "    </tr>\n",
       "    <tr>\n",
       "      <th>2021-04-07 23:59:50</th>\n",
       "      <td>1.173699</td>\n",
       "      <td>419.707980</td>\n",
       "    </tr>\n",
       "    <tr>\n",
       "      <th>2021-04-07 23:59:51</th>\n",
       "      <td>1.173699</td>\n",
       "      <td>142.364184</td>\n",
       "    </tr>\n",
       "  </tbody>\n",
       "</table>\n",
       "<p>17826 rows × 2 columns</p>\n",
       "</div>"
      ],
      "text/plain": [
       "                        Price       Volume\n",
       "Timestamp                                 \n",
       "2021-04-07 00:00:10  1.253499    48.129367\n",
       "2021-04-07 00:00:15  1.255000  2758.543009\n",
       "2021-04-07 00:00:15  1.254999   997.406727\n",
       "2021-04-07 00:00:15  1.254999     2.586533\n",
       "2021-04-07 00:00:15  1.254999     0.006708\n",
       "...                       ...          ...\n",
       "2021-04-07 23:59:22  1.173918  1000.000000\n",
       "2021-04-07 23:59:28  1.174015  2126.000000\n",
       "2021-04-07 23:59:28  1.174127  5874.000000\n",
       "2021-04-07 23:59:50  1.173699   419.707980\n",
       "2021-04-07 23:59:51  1.173699   142.364184\n",
       "\n",
       "[17826 rows x 2 columns]"
      ]
     },
     "execution_count": 225,
     "metadata": {},
     "output_type": "execute_result"
    }
   ],
   "source": [
    "day = '2021-04-07'\n",
    "temp.loc[day]"
   ]
  },
  {
   "cell_type": "markdown",
   "metadata": {},
   "source": [
    "#### 2.2.1.1 Estimation of Volatility, $\\sigma$"
   ]
  },
  {
   "cell_type": "code",
   "execution_count": 226,
   "metadata": {},
   "outputs": [
    {
     "data": {
      "text/plain": [
       "Timestamp\n",
       "2018-09-28    22.712742\n",
       "2018-09-29    12.859402\n",
       "2018-09-30     9.105975\n",
       "2018-10-01     7.531919\n",
       "2018-10-02     6.174170\n",
       "                ...    \n",
       "2021-09-26     0.128653\n",
       "2021-09-27     0.126440\n",
       "2021-09-28     0.123103\n",
       "2021-09-29     0.118542\n",
       "2021-09-30     0.114717\n",
       "Freq: D, Name: Price, Length: 1099, dtype: float64"
      ]
     },
     "execution_count": 226,
     "metadata": {},
     "output_type": "execute_result"
    }
   ],
   "source": [
    "# Calculate the stds\n",
    "std = (np.log(temp.loc[:,'Price']).diff() # Difference the log prices\n",
    "                                  .dropna() # Remove any NaNs\n",
    "                                  .groupby(pd.Grouper(freq='1D')).std() # Calculate the std for each day\n",
    "                                  .rolling('7D').mean()) # Compute the rolling 7-D average of these\n",
    "\n",
    "# Scale accordingly\n",
    "std = std * np.sqrt(60*60*24)\n",
    "std"
   ]
  },
  {
   "cell_type": "code",
   "execution_count": 229,
   "metadata": {},
   "outputs": [],
   "source": [
    "sigmalist = [std[x.strftime('%Y-%m-%d')] for x in list_of_dates]"
   ]
  },
  {
   "cell_type": "code",
   "execution_count": 230,
   "metadata": {},
   "outputs": [
    {
     "data": {
      "text/plain": [
       "[0.11344984332883631,\n",
       " 0.11544071712472877,\n",
       " 0.11213090448089476,\n",
       " 0.11229713863070315,\n",
       " 0.11511638018858042,\n",
       " 0.11672844309955786,\n",
       " 0.10935046486313948,\n",
       " 0.11378690148038605,\n",
       " 0.11771539817394225,\n",
       " 0.1417338115202713,\n",
       " 0.14514759156183185,\n",
       " 0.2168678415873047,\n",
       " 0.22274526890481006]"
      ]
     },
     "execution_count": 230,
     "metadata": {},
     "output_type": "execute_result"
    }
   ],
   "source": [
    "sigmalist"
   ]
  },
  {
   "cell_type": "code",
   "execution_count": 231,
   "metadata": {},
   "outputs": [],
   "source": [
    "# Save as .csv\n",
    "#pd.DataFrame(sigmalist).to_csv('save/ADA_sigmalist.csv')"
   ]
  },
  {
   "cell_type": "code",
   "execution_count": 232,
   "metadata": {},
   "outputs": [
    {
     "data": {
      "text/plain": [
       "[0.1134498433288363,\n",
       " 0.1154407171247287,\n",
       " 0.1121309044808947,\n",
       " 0.1122971386307031,\n",
       " 0.1151163801885804,\n",
       " 0.1167284430995578,\n",
       " 0.1093504648631394,\n",
       " 0.113786901480386,\n",
       " 0.1177153981739422,\n",
       " 0.1417338115202713,\n",
       " 0.1451475915618318,\n",
       " 0.2168678415873047,\n",
       " 0.22274526890481]"
      ]
     },
     "execution_count": 232,
     "metadata": {},
     "output_type": "execute_result"
    }
   ],
   "source": [
    "sigmalist=pd.read_csv('save/ADA_sigmalist.csv', header=None)[1][1:].tolist()\n",
    "sigmalist"
   ]
  },
  {
   "cell_type": "markdown",
   "metadata": {},
   "source": [
    "Since the order book is less liquid, the standard deviation of price differences is way higher! "
   ]
  },
  {
   "cell_type": "markdown",
   "metadata": {},
   "source": [
    "#### 2.2.1.2 Estimation of $A$ and $k$\n",
    "\n",
    "The difference here is that we need to also adjust our $\\delta$ distances--let's change them by a few orders of magnitude to reflect the difference in price magnitudes:"
   ]
  },
  {
   "cell_type": "code",
   "execution_count": 233,
   "metadata": {},
   "outputs": [
    {
     "data": {
      "text/plain": [
       "array([0.0001, 0.0002, 0.0003, 0.0004, 0.0005, 0.0006, 0.0007, 0.0008,\n",
       "       0.0009, 0.001 ])"
      ]
     },
     "execution_count": 233,
     "metadata": {},
     "output_type": "execute_result"
    }
   ],
   "source": [
    "deltalist = np.linspace(0.0001,0.001,10)\n",
    "deltalist"
   ]
  },
  {
   "cell_type": "code",
   "execution_count": 234,
   "metadata": {},
   "outputs": [
    {
     "data": {
      "text/html": [
       "<div>\n",
       "<style scoped>\n",
       "    .dataframe tbody tr th:only-of-type {\n",
       "        vertical-align: middle;\n",
       "    }\n",
       "\n",
       "    .dataframe tbody tr th {\n",
       "        vertical-align: top;\n",
       "    }\n",
       "\n",
       "    .dataframe thead th {\n",
       "        text-align: right;\n",
       "    }\n",
       "</style>\n",
       "<table border=\"1\" class=\"dataframe\">\n",
       "  <thead>\n",
       "    <tr style=\"text-align: right;\">\n",
       "      <th></th>\n",
       "      <th>midpoint</th>\n",
       "    </tr>\n",
       "    <tr>\n",
       "      <th>system_time</th>\n",
       "      <th></th>\n",
       "    </tr>\n",
       "  </thead>\n",
       "  <tbody>\n",
       "    <tr>\n",
       "      <th>2021-04-07 11:33:00</th>\n",
       "      <td>1.17075</td>\n",
       "    </tr>\n",
       "    <tr>\n",
       "      <th>2021-04-07 11:33:01</th>\n",
       "      <td>1.17005</td>\n",
       "    </tr>\n",
       "    <tr>\n",
       "      <th>2021-04-07 11:33:02</th>\n",
       "      <td>1.17045</td>\n",
       "    </tr>\n",
       "    <tr>\n",
       "      <th>2021-04-07 11:33:03</th>\n",
       "      <td>1.17005</td>\n",
       "    </tr>\n",
       "    <tr>\n",
       "      <th>2021-04-07 11:33:04</th>\n",
       "      <td>1.17005</td>\n",
       "    </tr>\n",
       "    <tr>\n",
       "      <th>...</th>\n",
       "      <td>...</td>\n",
       "    </tr>\n",
       "    <tr>\n",
       "      <th>2021-04-07 23:59:55</th>\n",
       "      <td>1.17380</td>\n",
       "    </tr>\n",
       "    <tr>\n",
       "      <th>2021-04-07 23:59:56</th>\n",
       "      <td>1.17390</td>\n",
       "    </tr>\n",
       "    <tr>\n",
       "      <th>2021-04-07 23:59:57</th>\n",
       "      <td>1.17415</td>\n",
       "    </tr>\n",
       "    <tr>\n",
       "      <th>2021-04-07 23:59:58</th>\n",
       "      <td>1.17360</td>\n",
       "    </tr>\n",
       "    <tr>\n",
       "      <th>2021-04-07 23:59:59</th>\n",
       "      <td>1.17395</td>\n",
       "    </tr>\n",
       "  </tbody>\n",
       "</table>\n",
       "<p>44820 rows × 1 columns</p>\n",
       "</div>"
      ],
      "text/plain": [
       "                     midpoint\n",
       "system_time                  \n",
       "2021-04-07 11:33:00   1.17075\n",
       "2021-04-07 11:33:01   1.17005\n",
       "2021-04-07 11:33:02   1.17045\n",
       "2021-04-07 11:33:03   1.17005\n",
       "2021-04-07 11:33:04   1.17005\n",
       "...                       ...\n",
       "2021-04-07 23:59:55   1.17380\n",
       "2021-04-07 23:59:56   1.17390\n",
       "2021-04-07 23:59:57   1.17415\n",
       "2021-04-07 23:59:58   1.17360\n",
       "2021-04-07 23:59:59   1.17395\n",
       "\n",
       "[44820 rows x 1 columns]"
      ]
     },
     "execution_count": 234,
     "metadata": {},
     "output_type": "execute_result"
    }
   ],
   "source": [
    "sample = ADA_mid.loc[day]\n",
    "sample.index = pd.to_datetime(sample.index)\n",
    "sample"
   ]
  },
  {
   "cell_type": "code",
   "execution_count": 265,
   "metadata": {},
   "outputs": [
    {
     "name": "stdout",
     "output_type": "stream",
     "text": [
      "2021-04-07\n",
      "2021-04-08\n",
      "2021-04-09\n",
      "2021-04-10\n",
      "2021-04-11\n",
      "2021-04-12\n",
      "2021-04-13\n",
      "2021-04-14\n",
      "2021-04-15\n",
      "2021-04-16\n",
      "2021-04-17\n",
      "2021-04-18\n"
     ]
    }
   ],
   "source": [
    "Alist = []\n",
    "klist = []\n",
    "\n",
    "for i in range(len(list_of_dates)-1):\n",
    "    day = list_of_dates[i].strftime('%Y-%m-%d')\n",
    "    print(day)\n",
    "    \n",
    "    sample = ADA_mid.loc[day]\n",
    "    sample.index = pd.to_datetime(sample.index)\n",
    "    \n",
    "    mkt_sample = temp.loc[day][sample.index[0]:]['Price']\n",
    "    \n",
    "    deltadict = {}\n",
    "\n",
    "    for price_delta in deltalist:\n",
    "        sample['bid'] = sample['midpoint'] - price_delta\n",
    "        sample['ask']  = sample['midpoint'] + price_delta\n",
    "\n",
    "        bid_limit_order_hit = (mkt_sample.groupby(pd.Grouper(freq='1S'))\n",
    "                                         .apply(lambda x: np.max(x) < sample.loc[x.name, 'bid']))\n",
    "\n",
    "\n",
    "        ask_limit_order_hit = (mkt_sample.groupby(pd.Grouper(freq='1S'))\n",
    "                                         .apply(lambda x: np.max(x) > sample.loc[x.name, 'ask']))\n",
    "\n",
    "        # Combine the two into a single signal\n",
    "        limit_order_hit = bid_limit_order_hit | ask_limit_order_hit\n",
    "\n",
    "        deltas = pd.Series(limit_order_hit[limit_order_hit == 1].index).diff().apply(lambda x: x.total_seconds())\n",
    "\n",
    "        deltadict[price_delta] = deltas\n",
    "    \n",
    "    lambdas = pd.DataFrame([[key,1/deltadict[key].mean()] for key in deltadict.keys()],\n",
    "                       columns=['delta','lambda_delta']).set_index('delta')\n",
    "    \n",
    "    paramsB, cv = scipy.optimize.curve_fit(exp_fit, np.array(lambdas.index), np.array(lambdas['lambda_delta'].values))\n",
    "    A, k = paramsB\n",
    "    \n",
    "    Alist.append(A)\n",
    "    klist.append(k)"
   ]
  },
  {
   "cell_type": "code",
   "execution_count": 266,
   "metadata": {},
   "outputs": [],
   "source": [
    "#pd.DataFrame([Alist, klist], index=['Alist','Klist']).T.to_csv('save/ADA_A_klist.csv')"
   ]
  },
  {
   "cell_type": "code",
   "execution_count": 6,
   "metadata": {},
   "outputs": [],
   "source": [
    "Alist = pd.read_csv('save/ADA_A_klist.csv')['Alist'].tolist()\n",
    "klist = pd.read_csv('save/ADA_A_klist.csv')['Klist'].tolist()"
   ]
  },
  {
   "cell_type": "code",
   "execution_count": 7,
   "metadata": {},
   "outputs": [
    {
     "data": {
      "text/plain": [
       "[1611.4918623915546,\n",
       " 1366.5695441932958,\n",
       " 1281.6570244868744,\n",
       " 1355.3659251363454,\n",
       " 915.6321686998286,\n",
       " 1094.1879832086995,\n",
       " 839.1880116459546,\n",
       " 698.2011786842905,\n",
       " 658.7301931677268,\n",
       " 848.7276720741434,\n",
       " 962.1297755886242,\n",
       " 279.12600383420704]"
      ]
     },
     "execution_count": 7,
     "metadata": {},
     "output_type": "execute_result"
    }
   ],
   "source": [
    "klist"
   ]
  },
  {
   "cell_type": "markdown",
   "metadata": {},
   "source": [
    "#### 2.2.1.3 - Estimation of $\\gamma$"
   ]
  },
  {
   "cell_type": "markdown",
   "metadata": {},
   "source": [
    "Once we have a backtest completed, we can use the backtest to find an optimal risk-taking coefficient $\\gamma$. Perhaps by selecting the gamma which optimizes our Sharpe ratio of the previous day, we can get a more attractive risk/return profile:"
   ]
  },
  {
   "cell_type": "code",
   "execution_count": 238,
   "metadata": {},
   "outputs": [],
   "source": [
    "def parallel_backtest(gamma):\n",
    "    res = run_backtest(s, m, gamma, A, k, sigma)\n",
    "    res_pnl = pd.Series(res['pnl']).pct_change().dropna()[1:]\n",
    "    return [gamma, res_pnl.mean() / res_pnl.std()] "
   ]
  },
  {
   "cell_type": "markdown",
   "metadata": {},
   "source": [
    "Now we can calculate the gammas for each day:"
   ]
  },
  {
   "cell_type": "code",
   "execution_count": 248,
   "metadata": {},
   "outputs": [
    {
     "name": "stdout",
     "output_type": "stream",
     "text": [
      "2021-04-08\n",
      "2021-04-09\n",
      "2021-04-10\n",
      "2021-04-11\n",
      "2021-04-12\n",
      "2021-04-13\n",
      "2021-04-14\n",
      "2021-04-15\n",
      "2021-04-16\n",
      "2021-04-17\n",
      "2021-04-18\n"
     ]
    }
   ],
   "source": [
    "gammalist = []\n",
    "\n",
    "# Skip a day because we need to use parameter estimates from \n",
    "# day t-1 to calculate the PnL of t\n",
    "for j in range(1,len(list_of_dates)-1):\n",
    "    \n",
    "    # Get parameters from previos day\n",
    "    sigma = sigmalist[j-1]\n",
    "    A = Alist[j-1]\n",
    "    k = klist[j-1]\n",
    "    \n",
    "    date = list_of_dates[j].strftime('%Y-%m-%d')\n",
    "    print(date)\n",
    "    \n",
    "    # Get mid prices for the day\n",
    "    s = ADA_mid.loc[date]\n",
    "\n",
    "    # Fill in any missing seconds with NaNs\n",
    "    s = s.resample('S').asfreq(fill_value=np.nan)\n",
    "\n",
    "    # Forward fill the previous midprice if one doesn't\n",
    "    # exist for a given second-interval\n",
    "    s = s.ffill()\n",
    "    s = s['midpoint'] \n",
    "    \n",
    "    m = temp.loc[date]\n",
    "\n",
    "    # Get market orders for next day, low market is lowest\n",
    "    # price of market order submitted in 1-sec\n",
    "    low_mkt = m.resample('S').min().reindex(s.index)\n",
    "\n",
    "    # hi market is highest price of market order submitted\n",
    "    # in 1-sec\n",
    "    hi_mkt = m.resample('S').max().reindex(s.index)\n",
    "    \n",
    "    p = Pool(processes=20)\n",
    "    data = p.map(parallel_backtest, np.linspace(0.1,1,10))\n",
    "    p.close()\n",
    "    \n",
    "    best_gamma = pd.DataFrame(data).set_index(0).idxmax().values[0]\n",
    "    \n",
    "    gammalist.append(best_gamma)"
   ]
  },
  {
   "cell_type": "code",
   "execution_count": 249,
   "metadata": {},
   "outputs": [],
   "source": [
    "#pd.DataFrame(gammalist).to_csv('save/ADA_gammalist.csv')"
   ]
  },
  {
   "cell_type": "code",
   "execution_count": 5,
   "metadata": {
    "scrolled": true
   },
   "outputs": [],
   "source": [
    "gammalist = pd.read_csv('save/ADA_gammalist.csv', header=None)[1][1:].tolist()"
   ]
  },
  {
   "cell_type": "code",
   "execution_count": 255,
   "metadata": {},
   "outputs": [
    {
     "data": {
      "text/plain": [
       "[0.3, 1.0, 1.0, 0.9, 0.2, 0.1, 0.3, 1.0, 0.2, 0.1, 0.5]"
      ]
     },
     "execution_count": 255,
     "metadata": {},
     "output_type": "execute_result"
    }
   ],
   "source": [
    "gammalist"
   ]
  },
  {
   "cell_type": "markdown",
   "metadata": {},
   "source": [
    "### 2.2.2 Full Backtest\n",
    "\n",
    "Now that we have all our parameters, we can run a full backtest on our data!\n"
   ]
  },
  {
   "cell_type": "code",
   "execution_count": 256,
   "metadata": {},
   "outputs": [],
   "source": [
    "res = {}\n",
    "for j in range(1,len(list_of_dates)-1):\n",
    "    \n",
    "    date = list_of_dates[j].strftime('%Y-%m-%d')\n",
    "    s = ADA_mid.loc[date]\n",
    "    \n",
    "    # Fill in any missing seconds with NaNs\n",
    "    s = s.resample('S').asfreq(fill_value=np.nan)\n",
    "\n",
    "    # Forward fill the previous midprice if one doesn't\n",
    "    # exist for a given second-interval\n",
    "    s = s.ffill()\n",
    "    s = s['midpoint'] \n",
    "    \n",
    "    m = temp.loc[date]\n",
    "    \n",
    "    A = Alist[j-1]\n",
    "    k = klist[j-1]\n",
    "    sigma = sigmalist[j-1]\n",
    "    gamma = gammalist[j-1]\n",
    "    #print(gamma, A, k, sigma)\n",
    "    \n",
    "    res[date] = run_backtest(s, m, gamma, A, k, sigma)"
   ]
  },
  {
   "cell_type": "code",
   "execution_count": 257,
   "metadata": {},
   "outputs": [],
   "source": [
    "with open('ADA_res.pickle', 'wb') as handle:\n",
    "    pickle.dump(res, handle, protocol=pickle.HIGHEST_PROTOCOL)"
   ]
  },
  {
   "cell_type": "code",
   "execution_count": 263,
   "metadata": {},
   "outputs": [],
   "source": [
    "with open('ADA_res.pickle', 'rb') as handle:\n",
    "    res = pickle.load(handle)"
   ]
  },
  {
   "cell_type": "code",
   "execution_count": 264,
   "metadata": {},
   "outputs": [],
   "source": [
    "# Iterate through each day\n",
    "for i in range(1,len(list_of_dates)-1):\n",
    "    \n",
    "    # Get both current day and previous day\n",
    "    date = list_of_dates[i].strftime('%Y-%m-%d')\n",
    "    prev_date = list_of_dates[i-1].strftime('%Y-%m-%d')\n",
    "    \n",
    "    # If first day, no addition needed\n",
    "    if i == 1:\n",
    "        res[date]['pnl'] = res[date]['pnl'][1:]\n",
    "        \n",
    "    # Else, add the terminal PnL of day t-1 to day t's PnL\n",
    "    else:\n",
    "        res[date]['pnl'] = res[date]['pnl'][1:]+res[prev_date]['pnl'][-1]"
   ]
  },
  {
   "cell_type": "code",
   "execution_count": 265,
   "metadata": {
    "scrolled": false
   },
   "outputs": [
    {
     "data": {
      "image/png": "[encoded data removed]",
      "text/plain": [
       "<Figure size 1080x576 with 1 Axes>"
      ]
     },
     "metadata": {},
     "output_type": "display_data"
    }
   ],
   "source": [
    "# Plot the results\n",
    "fig = plt.figure(figsize=(15,8)) \n",
    "ax = fig.add_subplot(111)\n",
    "\n",
    "# Concatenate into a single DataFrame\n",
    "full_backtest_res = pd.concat([pd.Series(res[x]['pnl']) for x in res.keys()],\n",
    "                              axis=0)\n",
    "\n",
    "full_backtest_res.index = pd.to_datetime(ETH_mid['2021-04-08':'2021-04-18'].index)\n",
    "full_backtest_res.plot()\n",
    "plt.xlabel('Date')\n",
    "plt.ylabel('PnL')\n",
    "plt.show()"
   ]
  },
  {
   "cell_type": "markdown",
   "metadata": {},
   "source": [
    "# Comparison of Strategies \n",
    "\n",
    "Now, let's take a look at the outcomes of each of the strategies to compare and contrast:"
   ]
  },
  {
   "cell_type": "code",
   "execution_count": 581,
   "metadata": {},
   "outputs": [],
   "source": [
    "# Get list of dates\n",
    "list_of_dates = pd.to_datetime(['2021-4-'+str(x) for x in range(7,20)]).date\n",
    "list_of_dates = [x.strftime('%Y-%m-%d') for x in list_of_dates ]\n",
    "\n",
    "# Use this for indices \n",
    "date_index = ETH_mid['2021-04-08':'2021-04-18'].index"
   ]
  },
  {
   "cell_type": "code",
   "execution_count": 582,
   "metadata": {},
   "outputs": [],
   "source": [
    "# ETH\n",
    "with open('save/ETH_res.pickle', 'rb') as handle:\n",
    "    ETH_res = pickle.load(handle)\n",
    "    \n",
    "ETH_sigmalist = pd.read_csv('save/ETH_sigmalist.csv').values.tolist()\n",
    "ETH_Alist = pd.read_csv('save/ETH_A_Klist.csv')['Alist'].values.tolist()\n",
    "ETH_klist = pd.read_csv('save/ETH_A_Klist.csv')['Klist'].values.tolist()\n",
    "ETH_gammalist = pd.read_csv('save/ETH_gammalist.csv').values.tolist()\n",
    "\n",
    "for i in range(1, len(list_of_dates)-1):\n",
    "    date = list_of_dates[i]\n",
    "    prev_date = list_of_dates[i-1]    \n",
    "    if i == 1:\n",
    "        ETH_res[date]['pnl'] = ETH_res[date]['pnl'][1:]\n",
    "    else:\n",
    "        ETH_res[date]['pnl'] = ETH_res[date]['pnl'][1:]+ETH_res[prev_date]['pnl'][-1]\n",
    "        \n",
    "ETH_tot_pnl = pd.concat([pd.Series(ETH_res[date]['pnl']) for date in ETH_res.keys()],\n",
    "                        axis=0)\n",
    "ETH_tot_pnl.index = date_index\n",
    "\n",
    "\n",
    "# ADA\n",
    "with open('ADA_res.pickle', 'rb') as handle:\n",
    "    ADA_res = pickle.load(handle)\n",
    "    \n",
    "ADA_sigmalist = pd.read_csv('save/ADA_sigmalist.csv').values.tolist()\n",
    "ADA_Alist = pd.read_csv('save/ADA_A_Klist.csv')['Alist'].values.tolist()\n",
    "ADA_klist = pd.read_csv('save/ADA_A_Klist.csv')['Klist'].values.tolist()\n",
    "ADA_gammalist = pd.read_csv('save/ADA_gammalist.csv').values.tolist()\n",
    "\n",
    "for i in range(1, len(list_of_dates)-1):\n",
    "    date = list_of_dates[i]\n",
    "    prev_date = list_of_dates[i-1]    \n",
    "    if i == 1:\n",
    "        ADA_res[date]['pnl'] = ADA_res[date]['pnl'][1:]\n",
    "    else:\n",
    "        ADA_res[date]['pnl'] = ADA_res[date]['pnl'][1:]+ADA_res[prev_date]['pnl'][-1]\n",
    "        \n",
    "ADA_tot_pnl = pd.concat([pd.Series(ADA_res[date]['pnl']) for date in ADA_res.keys()],\n",
    "                        axis=0)\n",
    "ADA_tot_pnl.index = date_index"
   ]
  },
  {
   "cell_type": "markdown",
   "metadata": {},
   "source": [
    "Naturally, the most important part is the returns."
   ]
  },
  {
   "cell_type": "code",
   "execution_count": 588,
   "metadata": {},
   "outputs": [
    {
     "data": {
      "image/png": "[encoded data removed]",
      "text/plain": [
       "<Figure size 720x360 with 1 Axes>"
      ]
     },
     "metadata": {},
     "output_type": "display_data"
    }
   ],
   "source": [
    "# Plot the results\n",
    "fig = plt.figure(figsize=(10,5)) \n",
    "ax = fig.add_subplot(111)\n",
    "plt.plot(pd.DataFrame(ETH_tot_pnl) / ETH_tot_pnl.values[-1], label='ETH')\n",
    "plt.plot(pd.DataFrame(ADA_tot_pnl) / ADA_tot_pnl.values[-1], label='ADA')\n",
    "plt.legend()\n",
    "plt.title('Backtest PnL, Scaled')\n",
    "plt.xlabel('Date')\n",
    "plt.ylabel('PnL')\n",
    "plt.show()"
   ]
  },
  {
   "cell_type": "markdown",
   "metadata": {},
   "source": [
    "The shape of these PnL curves does look strange indeed. I believe this has something to do with the price of inventory moving drastically. Next, let's take a look at the distribution of returns:"
   ]
  },
  {
   "cell_type": "code",
   "execution_count": 609,
   "metadata": {},
   "outputs": [
    {
     "data": {
      "image/png": "[encoded data removed]",
      "text/plain": [
       "<Figure size 720x288 with 1 Axes>"
      ]
     },
     "metadata": {},
     "output_type": "display_data"
    }
   ],
   "source": [
    "plt.figure(figsize=(10,4))\n",
    "ETH_ret = ETH_tot_pnl.pct_change().replace(np.inf,np.nan).dropna()\n",
    "\n",
    "# Winsorize for better visualizations\n",
    "w_ETH_ret = ETH_ret.clip(lower=ETH_ret.quantile(0.01), upper=ETH_ret.quantile(0.99))\n",
    "plt.title('Histogram of Winsorized ETH Model Returns (99th Percentile)')\n",
    "plt.hist(w_ETH_ret, bins=30)\n",
    "plt.show()"
   ]
  },
  {
   "cell_type": "markdown",
   "metadata": {},
   "source": [
    "This histogram certainly has fat tails! It appears as though the fat tails are what's keeping the PnL positive--the largest bar in the histogram seems to be negative! Very interesting to see. Let's move onto Cardano:"
   ]
  },
  {
   "cell_type": "code",
   "execution_count": 610,
   "metadata": {},
   "outputs": [
    {
     "data": {
      "image/png": "[encoded data removed]",
      "text/plain": [
       "<Figure size 720x288 with 1 Axes>"
      ]
     },
     "metadata": {},
     "output_type": "display_data"
    }
   ],
   "source": [
    "plt.figure(figsize=(10,4))\n",
    "ADA_ret = ADA_tot_pnl.pct_change().replace(np.inf,np.nan).dropna()\n",
    "\n",
    "# Winsorize for better visualizations\n",
    "w_ADA_ret = ADA_ret.clip(lower=ADA_ret.quantile(0.01), upper=ADA_ret.quantile(0.99))\n",
    "plt.title('Histogram of Winsorized ADA Model Returns (99th Percentile)')\n",
    "plt.hist(w_ADA_ret, bins=30, color='orange')\n",
    "plt.show()"
   ]
  },
  {
   "cell_type": "markdown",
   "metadata": {},
   "source": [
    "Cardano also has fat tails. However, the largest bar this time appears to be positive, which is a good sign! "
   ]
  },
  {
   "cell_type": "markdown",
   "metadata": {},
   "source": [
    "Next, let's look at how the inventories vary:"
   ]
  },
  {
   "cell_type": "code",
   "execution_count": 597,
   "metadata": {},
   "outputs": [],
   "source": [
    "ETH_q = pd.concat([pd.Series(ETH_res[date]['q'][1:]) for date in ETH_res.keys()], axis=0)\n",
    "ETH_q.index = date_index\n",
    "\n",
    "ADA_q = pd.concat([pd.Series(ADA_res[date]['q'][1:]) for date in ADA_res.keys()], axis=0)\n",
    "ADA_q.index = date_index"
   ]
  },
  {
   "cell_type": "code",
   "execution_count": 604,
   "metadata": {},
   "outputs": [
    {
     "data": {
      "image/png": "[encoded data removed]",
      "text/plain": [
       "<Figure size 1080x576 with 1 Axes>"
      ]
     },
     "metadata": {},
     "output_type": "display_data"
    }
   ],
   "source": [
    "# Plot the results\n",
    "fig = plt.figure(figsize=(15,8)) \n",
    "ax = fig.add_subplot(111)\n",
    "plt.plot(ETH_q, label='ETH Inventory')\n",
    "plt.xlabel('Date')\n",
    "plt.ylabel('Inventory')\n",
    "plt.legend()\n",
    "plt.show()"
   ]
  },
  {
   "cell_type": "markdown",
   "metadata": {},
   "source": [
    "We can clearly see here that the massive rise in inventory happens when there is a huge change in PnL as well. This is something I would need to fix for an improved implementation of the model"
   ]
  },
  {
   "cell_type": "code",
   "execution_count": 605,
   "metadata": {},
   "outputs": [
    {
     "data": {
      "image/png": "[encoded data removed]",
      "text/plain": [
       "<Figure size 1080x576 with 1 Axes>"
      ]
     },
     "metadata": {},
     "output_type": "display_data"
    }
   ],
   "source": [
    "# Plot the results\n",
    "fig = plt.figure(figsize=(15,8)) \n",
    "ax = fig.add_subplot(111)\n",
    "plt.plot(ADA_q, label='ADA Inventory', color='orange')\n",
    "plt.xlabel('Date')\n",
    "plt.ylabel('Inventory')\n",
    "plt.legend()\n",
    "plt.show()"
   ]
  },
  {
   "cell_type": "markdown",
   "metadata": {},
   "source": [
    "It is likewise the case here. The PnL would look far more normal if we were able to control for maximum inventory. This is outlined in the paper along with the infinite horizon strategy, but I did not have enough time to add in that part. Let's take a deep-dive into a single asset's day to see exactly how it works:"
   ]
  },
  {
   "cell_type": "code",
   "execution_count": 617,
   "metadata": {},
   "outputs": [
    {
     "name": "stderr",
     "output_type": "stream",
     "text": [
      "/Users/lucaskrenn/opt/anaconda3/lib/python3.7/site-packages/ipykernel_launcher.py:2: FutureWarning: Indexing a DataFrame with a datetimelike index using a single string to slice the rows, like `frame[string]`, is deprecated and will be removed in a future version. Use `frame.loc[string]` instead.\n",
      "  \n"
     ]
    }
   ],
   "source": [
    "# Get mid data\n",
    "day_mid = ETH_mid['2021-04-12'][13000:13600]\n",
    "day_mid.index = pd.to_datetime(day_mid.index)\n",
    "\n",
    "# Get the mkt data\n",
    "#day_mkt = pd.read_csv('ETH_mkt.csv').set_index('Timestamp')\n",
    "#day_mkt.index = pd.to_datetime(day_mkt.index)\n",
    "#day_mkt[day_mid.index[0]]\n",
    "#day_mkt = day_mkt[ETH_mid.index]['Price']\n",
    "\n",
    "day_sample = ETH_res['2021-04-12']\n",
    "day_ra = pd.DataFrame(day_sample['r_a'][13000:13600], index = day_mid.index)\n",
    "day_r  = pd.DataFrame(day_sample['r'][13000:13600], index = day_mid.index)\n",
    "day_rb = pd.DataFrame(day_sample['r_b'][13000:13600], index = day_mid.index)\n",
    "\n",
    "# Get inventory\n",
    "day_q     = ETH_res['2021-04-12']['q'][13000:13600]\n",
    "day_buys  = np.array(pd.Series(day_q).diff() < 0) * np.array(day_ra).T.tolist()[0]\n",
    "day_buys = pd.DataFrame(day_buys, index = day_mid.index).replace(0, np.nan).dropna()\n",
    "\n",
    "day_sells  = np.array(pd.Series(day_q).diff() > 0) * np.array(day_rb).T.tolist()[0]\n",
    "day_sells = pd.DataFrame(day_sells, index = day_mid.index).replace(0, np.nan).dropna()"
   ]
  },
  {
   "cell_type": "code",
   "execution_count": 618,
   "metadata": {},
   "outputs": [
    {
     "data": {
      "image/png": "[encoded data removed]",
      "text/plain": [
       "<Figure size 1080x720 with 2 Axes>"
      ]
     },
     "metadata": {},
     "output_type": "display_data"
    }
   ],
   "source": [
    "fig = plt.figure(figsize=(15,10))\n",
    "\n",
    "spec = gridspec.GridSpec(ncols=1, nrows=2, wspace=0.5,\n",
    "                         hspace=0.5, height_ratios=[3, 1])\n",
    "\n",
    "fig.add_subplot(spec[0])\n",
    "\n",
    "# Plot limit orders and mid price\n",
    "plt.plot(day_ra, color='grey',  label='Ask Limit Orders', ls=':')\n",
    "plt.plot(day_mid, color='black', label='Mid Price')\n",
    "plt.plot(day_rb, color='grey',  label='Bid Limit Orders', ls=':')\n",
    "\n",
    "# Add buys and sells\n",
    "plt.scatter(pd.to_datetime(day_sells.index), day_sells.values, color='red', label='Sell Limit Order Filled')\n",
    "plt.scatter(pd.to_datetime(day_buys.index), day_buys.values, color='green', label='Buy Limit Order Filled')\n",
    "\n",
    "plt.legend()\n",
    "plt.title('Ethereum Trade Backtest')\n",
    "\n",
    "plt.xlabel('Date')\n",
    "plt.ylabel('Price')\n",
    "\n",
    "fig.add_subplot(spec[1])\n",
    "\n",
    "plt.subplot(3,1,3)\n",
    "\n",
    "plt.bar(range(len(day_q)), pd.Series(day_q).diff()*(pd.Series(day_q).diff()<0), color='r', edgecolor='g')\n",
    "plt.bar(range(len(day_q)), pd.Series(day_q).diff()*(pd.Series(day_q).diff()>0), color='r', edgecolor='r')\n",
    "plt.title('Change in Inventory')\n",
    "\n",
    "plt.show()"
   ]
  },
  {
   "cell_type": "markdown",
   "metadata": {},
   "source": [
    "Finally, let's look at the spreads:"
   ]
  },
  {
   "cell_type": "code",
   "execution_count": 558,
   "metadata": {},
   "outputs": [],
   "source": [
    "ETH_spread = pd.concat([pd.Series(ETH_res[date]['spread'][:-1]) for date in ETH_res.keys()], axis=0)\n",
    "ETH_spread.index = date_index\n",
    "\n",
    "ADA_spread = pd.concat([pd.Series(ADA_res[date]['spread'][:-1]) for date in ADA_res.keys()], axis=0)\n",
    "ADA_spread.index = date_index"
   ]
  },
  {
   "cell_type": "code",
   "execution_count": 615,
   "metadata": {},
   "outputs": [
    {
     "data": {
      "image/png": "[encoded data removed]",
      "text/plain": [
       "<Figure size 1080x576 with 1 Axes>"
      ]
     },
     "metadata": {},
     "output_type": "display_data"
    }
   ],
   "source": [
    "# Plot the results\n",
    "fig = plt.figure(figsize=(15,8)) \n",
    "ax = fig.add_subplot(111)\n",
    "plt.plot(ETH_spread, label='ETH Spread')\n",
    "plt.xlabel('Date')\n",
    "plt.ylabel('Spread')\n",
    "plt.legend()\n",
    "plt.show()"
   ]
  },
  {
   "cell_type": "code",
   "execution_count": 614,
   "metadata": {},
   "outputs": [
    {
     "data": {
      "image/png": "[encoded data removed]",
      "text/plain": [
       "<Figure size 1080x576 with 1 Axes>"
      ]
     },
     "metadata": {},
     "output_type": "display_data"
    }
   ],
   "source": [
    "# Plot the results\n",
    "fig = plt.figure(figsize=(15,8)) \n",
    "ax = fig.add_subplot(111)\n",
    "plt.plot(ADA_spread, label='ADA Spread', color='orange')\n",
    "plt.xlabel('Date')\n",
    "plt.ylabel('Spread')\n",
    "plt.legend()\n",
    "plt.show()"
   ]
  },
  {
   "cell_type": "markdown",
   "metadata": {},
   "source": [
    "Wow, we can see that ADA's spread is extremely sensitive to time of day!"
   ]
  },
  {
   "cell_type": "code",
   "execution_count": null,
   "metadata": {},
   "outputs": [],
   "source": []
  }
 ],
 "metadata": {
  "kernelspec": {
   "display_name": "Python 3",
   "language": "python",
   "name": "python3"
  },
  "language_info": {
   "codemirror_mode": {
    "name": "ipython",
    "version": 3
   },
   "file_extension": ".py",
   "mimetype": "text/x-python",
   "name": "python",
   "nbconvert_exporter": "python",
   "pygments_lexer": "ipython3",
   "version": "3.7.4"
  }
 },
 "nbformat": 4,
 "nbformat_minor": 2
}
